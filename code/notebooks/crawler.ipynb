{
 "cells": [
  {
   "cell_type": "markdown",
   "metadata": {},
   "source": [
    "# Crawler for the BeerAdvocate websites\n",
    "\n",
    "In this notebook, we are crawling all the reviews from all the beers. We also crawl all the places and all the users."
   ]
  },
  {
   "cell_type": "code",
   "execution_count": 1,
   "metadata": {
    "collapsed": true
   },
   "outputs": [],
   "source": [
    "import os\n",
    "os.chdir('..')"
   ]
  },
  {
   "cell_type": "code",
   "execution_count": 2,
   "metadata": {
    "collapsed": false
   },
   "outputs": [],
   "source": [
    "from classes.crawler import *\n",
    "from classes.helpers import *\n",
    "import multiprocessing as mp\n",
    "import pandas as pd\n",
    "import numpy as np\n",
    "import requests\n",
    "import shutil\n",
    "import json\n",
    "import re\n",
    "\n",
    "data_folder = '../data/'\n",
    "\n",
    "# For the Python notebook\n",
    "%matplotlib inline\n",
    "%reload_ext autoreload\n",
    "%autoreload 2"
   ]
  },
  {
   "cell_type": "code",
   "execution_count": 3,
   "metadata": {
    "collapsed": false
   },
   "outputs": [],
   "source": [
    "crawler = Crawler(nbr_threads=6)"
   ]
  },
  {
   "cell_type": "markdown",
   "metadata": {},
   "source": [
    "# Crawl and parse the Styles page\n",
    "\n",
    "This is done in order to get all the links to all the styles of beers that will lead to all of the different beers"
   ]
  },
  {
   "cell_type": "code",
   "execution_count": 5,
   "metadata": {
    "collapsed": false
   },
   "outputs": [],
   "source": [
    "# crawl the style page\n",
    "crawler.crawl_styles_page()"
   ]
  },
  {
   "cell_type": "code",
   "execution_count": 5,
   "metadata": {
    "collapsed": false
   },
   "outputs": [],
   "source": [
    "# Get the links of the styles\n",
    "crawler.get_links_styles()"
   ]
  },
  {
   "cell_type": "code",
   "execution_count": 5,
   "metadata": {
    "collapsed": false
   },
   "outputs": [],
   "source": [
    "# Get the beers of each style\n",
    "crawler.crawl_all_styles()"
   ]
  },
  {
   "cell_type": "markdown",
   "metadata": {},
   "source": [
    "# Crawl the breweries"
   ]
  },
  {
   "cell_type": "code",
   "execution_count": 4,
   "metadata": {
    "collapsed": false
   },
   "outputs": [
    {
     "name": "stderr",
     "output_type": "stream",
     "text": [
      "Process ForkPoolWorker-3:\n",
      "Process ForkPoolWorker-4:\n",
      "Process ForkPoolWorker-6:\n",
      "Process ForkPoolWorker-5:\n",
      "Process ForkPoolWorker-1:\n",
      "Process ForkPoolWorker-2:\n",
      "Traceback (most recent call last):\n",
      "  File \"/home/gayouf/anaconda3/lib/python3.6/multiprocessing/process.py\", line 249, in _bootstrap\n",
      "    self.run()\n",
      "  File \"/home/gayouf/anaconda3/lib/python3.6/multiprocessing/process.py\", line 93, in run\n",
      "    self._target(*self._args, **self._kwargs)\n",
      "  File \"/home/gayouf/anaconda3/lib/python3.6/multiprocessing/pool.py\", line 119, in worker\n",
      "    result = (True, func(*args, **kwds))\n",
      "  File \"/home/gayouf/Documents/EPFL/Side_Projects/beers/beeradvocate_crawler/code/classes/crawler.py\", line 209, in crawl_one_brewery\n",
      "    r = requests.get(url)\n",
      "  File \"/home/gayouf/anaconda3/lib/python3.6/site-packages/requests/api.py\", line 70, in get\n",
      "    return request('get', url, params=params, **kwargs)\n",
      "  File \"/home/gayouf/anaconda3/lib/python3.6/site-packages/requests/api.py\", line 56, in request\n",
      "    return session.request(method=method, url=url, **kwargs)\n",
      "  File \"/home/gayouf/anaconda3/lib/python3.6/site-packages/requests/sessions.py\", line 488, in request\n",
      "    resp = self.send(prep, **send_kwargs)\n",
      "  File \"/home/gayouf/anaconda3/lib/python3.6/site-packages/requests/sessions.py\", line 609, in send\n",
      "    r = adapter.send(request, **kwargs)\n",
      "  File \"/home/gayouf/anaconda3/lib/python3.6/site-packages/requests/adapters.py\", line 423, in send\n",
      "    timeout=timeout\n",
      "  File \"/home/gayouf/anaconda3/lib/python3.6/site-packages/requests/packages/urllib3/connectionpool.py\", line 594, in urlopen\n",
      "    chunked=chunked)\n",
      "  File \"/home/gayouf/anaconda3/lib/python3.6/site-packages/requests/packages/urllib3/connectionpool.py\", line 350, in _make_request\n",
      "    self._validate_conn(conn)\n",
      "  File \"/home/gayouf/anaconda3/lib/python3.6/site-packages/requests/packages/urllib3/connectionpool.py\", line 835, in _validate_conn\n",
      "    conn.connect()\n",
      "  File \"/home/gayouf/anaconda3/lib/python3.6/site-packages/requests/packages/urllib3/connection.py\", line 281, in connect\n",
      "    conn = self._new_conn()\n",
      "  File \"/home/gayouf/anaconda3/lib/python3.6/site-packages/requests/packages/urllib3/connection.py\", line 138, in _new_conn\n",
      "    (self.host, self.port), self.timeout, **extra_kw)\n",
      "  File \"/home/gayouf/anaconda3/lib/python3.6/site-packages/requests/packages/urllib3/util/connection.py\", line 75, in create_connection\n",
      "    for res in socket.getaddrinfo(host, port, family, socket.SOCK_STREAM):\n",
      "KeyboardInterrupt\n",
      "  File \"/home/gayouf/anaconda3/lib/python3.6/socket.py\", line 743, in getaddrinfo\n",
      "    for res in _socket.getaddrinfo(host, port, family, type, proto, flags):\n",
      "Traceback (most recent call last):\n",
      "  File \"/home/gayouf/anaconda3/lib/python3.6/multiprocessing/process.py\", line 249, in _bootstrap\n",
      "    self.run()\n",
      "  File \"/home/gayouf/anaconda3/lib/python3.6/multiprocessing/process.py\", line 93, in run\n",
      "    self._target(*self._args, **self._kwargs)\n",
      "  File \"/home/gayouf/anaconda3/lib/python3.6/multiprocessing/pool.py\", line 119, in worker\n",
      "    result = (True, func(*args, **kwds))\n",
      "  File \"/home/gayouf/Documents/EPFL/Side_Projects/beers/beeradvocate_crawler/code/classes/crawler.py\", line 209, in crawl_one_brewery\n",
      "    r = requests.get(url)\n",
      "  File \"/home/gayouf/anaconda3/lib/python3.6/site-packages/requests/api.py\", line 70, in get\n",
      "    return request('get', url, params=params, **kwargs)\n",
      "  File \"/home/gayouf/anaconda3/lib/python3.6/site-packages/requests/api.py\", line 56, in request\n",
      "    return session.request(method=method, url=url, **kwargs)\n",
      "  File \"/home/gayouf/anaconda3/lib/python3.6/site-packages/requests/sessions.py\", line 479, in request\n",
      "    prep.url, proxies, stream, verify, cert\n",
      "  File \"/home/gayouf/anaconda3/lib/python3.6/site-packages/requests/sessions.py\", line 654, in merge_environment_settings\n",
      "    env_proxies = get_environ_proxies(url) or {}\n",
      "  File \"/home/gayouf/anaconda3/lib/python3.6/site-packages/requests/utils.py\", line 620, in get_environ_proxies\n",
      "    return getproxies()\n",
      "  File \"/home/gayouf/anaconda3/lib/python3.6/urllib/request.py\", line 2485, in getproxies_environment\n",
      "    for name, value in os.environ.items():\n",
      "  File \"/home/gayouf/anaconda3/lib/python3.6/_collections_abc.py\", line 744, in __iter__\n",
      "    yield (key, self._mapping[key])\n",
      "  File \"/home/gayouf/anaconda3/lib/python3.6/os.py\", line 664, in __getitem__\n",
      "    def __getitem__(self, key):\n",
      "KeyboardInterrupt\n",
      "Traceback (most recent call last):\n",
      "Traceback (most recent call last):\n",
      "Traceback (most recent call last):\n",
      "Traceback (most recent call last):\n",
      "  File \"/home/gayouf/anaconda3/lib/python3.6/site-packages/requests/packages/urllib3/connectionpool.py\", line 384, in _make_request\n",
      "    httplib_response = conn.getresponse(buffering=True)\n",
      "  File \"/home/gayouf/anaconda3/lib/python3.6/site-packages/requests/packages/urllib3/connectionpool.py\", line 384, in _make_request\n",
      "    httplib_response = conn.getresponse(buffering=True)\n",
      "  File \"/home/gayouf/anaconda3/lib/python3.6/multiprocessing/process.py\", line 249, in _bootstrap\n",
      "    self.run()\n",
      "TypeError: getresponse() got an unexpected keyword argument 'buffering'\n",
      "  File \"/home/gayouf/anaconda3/lib/python3.6/site-packages/requests/packages/urllib3/connectionpool.py\", line 384, in _make_request\n",
      "    httplib_response = conn.getresponse(buffering=True)\n",
      "TypeError: getresponse() got an unexpected keyword argument 'buffering'\n",
      "TypeError: getresponse() got an unexpected keyword argument 'buffering'\n",
      "  File \"/home/gayouf/anaconda3/lib/python3.6/multiprocessing/process.py\", line 93, in run\n",
      "    self._target(*self._args, **self._kwargs)\n",
      "\n",
      "During handling of the above exception, another exception occurred:\n",
      "\n",
      "  File \"/home/gayouf/anaconda3/lib/python3.6/multiprocessing/pool.py\", line 119, in worker\n",
      "    result = (True, func(*args, **kwds))\n",
      "Traceback (most recent call last):\n",
      "  File \"/home/gayouf/Documents/EPFL/Side_Projects/beers/beeradvocate_crawler/code/classes/crawler.py\", line 209, in crawl_one_brewery\n",
      "    r = requests.get(url)\n",
      "\n",
      "During handling of the above exception, another exception occurred:\n",
      "\n",
      "  File \"/home/gayouf/anaconda3/lib/python3.6/multiprocessing/process.py\", line 249, in _bootstrap\n",
      "    self.run()\n",
      "Traceback (most recent call last):\n",
      "  File \"/home/gayouf/anaconda3/lib/python3.6/multiprocessing/process.py\", line 93, in run\n",
      "    self._target(*self._args, **self._kwargs)\n",
      "  File \"/home/gayouf/anaconda3/lib/python3.6/multiprocessing/process.py\", line 249, in _bootstrap\n",
      "    self.run()\n",
      "  File \"/home/gayouf/anaconda3/lib/python3.6/multiprocessing/pool.py\", line 119, in worker\n",
      "    result = (True, func(*args, **kwds))\n",
      "  File \"/home/gayouf/anaconda3/lib/python3.6/multiprocessing/process.py\", line 93, in run\n",
      "    self._target(*self._args, **self._kwargs)\n",
      "  File \"/home/gayouf/Documents/EPFL/Side_Projects/beers/beeradvocate_crawler/code/classes/crawler.py\", line 209, in crawl_one_brewery\n",
      "    r = requests.get(url)\n",
      "  File \"/home/gayouf/anaconda3/lib/python3.6/multiprocessing/pool.py\", line 119, in worker\n",
      "    result = (True, func(*args, **kwds))\n",
      "  File \"/home/gayouf/anaconda3/lib/python3.6/site-packages/requests/api.py\", line 70, in get\n",
      "    return request('get', url, params=params, **kwargs)\n",
      "\n",
      "During handling of the above exception, another exception occurred:\n",
      "\n",
      "  File \"/home/gayouf/anaconda3/lib/python3.6/site-packages/requests/api.py\", line 56, in request\n",
      "    return session.request(method=method, url=url, **kwargs)\n",
      "  File \"/home/gayouf/Documents/EPFL/Side_Projects/beers/beeradvocate_crawler/code/classes/crawler.py\", line 209, in crawl_one_brewery\n",
      "    r = requests.get(url)\n",
      "Traceback (most recent call last):\n",
      "  File \"/home/gayouf/anaconda3/lib/python3.6/site-packages/requests/api.py\", line 70, in get\n",
      "    return request('get', url, params=params, **kwargs)\n",
      "  File \"/home/gayouf/anaconda3/lib/python3.6/site-packages/requests/sessions.py\", line 488, in request\n",
      "    resp = self.send(prep, **send_kwargs)\n",
      "  File \"/home/gayouf/anaconda3/lib/python3.6/multiprocessing/process.py\", line 249, in _bootstrap\n",
      "    self.run()\n",
      "  File \"/home/gayouf/anaconda3/lib/python3.6/site-packages/requests/api.py\", line 56, in request\n",
      "    return session.request(method=method, url=url, **kwargs)\n",
      "  File \"/home/gayouf/anaconda3/lib/python3.6/multiprocessing/process.py\", line 93, in run\n",
      "    self._target(*self._args, **self._kwargs)\n",
      "  File \"/home/gayouf/anaconda3/lib/python3.6/site-packages/requests/sessions.py\", line 488, in request\n",
      "    resp = self.send(prep, **send_kwargs)\n",
      "  File \"/home/gayouf/anaconda3/lib/python3.6/site-packages/requests/sessions.py\", line 609, in send\n",
      "    r = adapter.send(request, **kwargs)\n",
      "  File \"/home/gayouf/anaconda3/lib/python3.6/multiprocessing/pool.py\", line 119, in worker\n",
      "    result = (True, func(*args, **kwds))\n",
      "  File \"/home/gayouf/anaconda3/lib/python3.6/site-packages/requests/api.py\", line 70, in get\n",
      "    return request('get', url, params=params, **kwargs)\n",
      "  File \"/home/gayouf/anaconda3/lib/python3.6/site-packages/requests/sessions.py\", line 609, in send\n",
      "    r = adapter.send(request, **kwargs)\n",
      "  File \"/home/gayouf/anaconda3/lib/python3.6/site-packages/requests/adapters.py\", line 423, in send\n",
      "    timeout=timeout\n",
      "  File \"/home/gayouf/anaconda3/lib/python3.6/site-packages/requests/adapters.py\", line 423, in send\n",
      "    timeout=timeout\n",
      "  File \"/home/gayouf/anaconda3/lib/python3.6/site-packages/requests/packages/urllib3/connectionpool.py\", line 594, in urlopen\n",
      "    chunked=chunked)\n",
      "  File \"/home/gayouf/Documents/EPFL/Side_Projects/beers/beeradvocate_crawler/code/classes/crawler.py\", line 209, in crawl_one_brewery\n",
      "    r = requests.get(url)\n",
      "  File \"/home/gayouf/anaconda3/lib/python3.6/site-packages/requests/api.py\", line 56, in request\n",
      "    return session.request(method=method, url=url, **kwargs)\n",
      "  File \"/home/gayouf/anaconda3/lib/python3.6/site-packages/requests/packages/urllib3/connectionpool.py\", line 594, in urlopen\n",
      "    chunked=chunked)\n",
      "  File \"/home/gayouf/anaconda3/lib/python3.6/site-packages/requests/packages/urllib3/connectionpool.py\", line 387, in _make_request\n",
      "    httplib_response = conn.getresponse()\n",
      "  File \"/home/gayouf/anaconda3/lib/python3.6/site-packages/requests/api.py\", line 70, in get\n",
      "    return request('get', url, params=params, **kwargs)\n",
      "  File \"/home/gayouf/anaconda3/lib/python3.6/site-packages/requests/sessions.py\", line 488, in request\n",
      "    resp = self.send(prep, **send_kwargs)\n",
      "  File \"/home/gayouf/anaconda3/lib/python3.6/site-packages/requests/packages/urllib3/connectionpool.py\", line 350, in _make_request\n",
      "    self._validate_conn(conn)\n",
      "  File \"/home/gayouf/anaconda3/lib/python3.6/http/client.py\", line 1331, in getresponse\n",
      "    response.begin()\n",
      "  File \"/home/gayouf/anaconda3/lib/python3.6/site-packages/requests/sessions.py\", line 609, in send\n",
      "    r = adapter.send(request, **kwargs)\n",
      "  File \"/home/gayouf/anaconda3/lib/python3.6/site-packages/requests/api.py\", line 56, in request\n",
      "    return session.request(method=method, url=url, **kwargs)\n",
      "  File \"/home/gayouf/anaconda3/lib/python3.6/site-packages/requests/packages/urllib3/connectionpool.py\", line 835, in _validate_conn\n",
      "    conn.connect()\n",
      "  File \"/home/gayouf/anaconda3/lib/python3.6/http/client.py\", line 297, in begin\n",
      "    version, status, reason = self._read_status()\n",
      "  File \"/home/gayouf/anaconda3/lib/python3.6/site-packages/requests/sessions.py\", line 488, in request\n",
      "    resp = self.send(prep, **send_kwargs)\n",
      "  File \"/home/gayouf/anaconda3/lib/python3.6/http/client.py\", line 258, in _read_status\n",
      "    line = str(self.fp.readline(_MAXLINE + 1), \"iso-8859-1\")\n",
      "  File \"/home/gayouf/anaconda3/lib/python3.6/site-packages/requests/packages/urllib3/connection.py\", line 323, in connect\n",
      "    ssl_context=context)\n",
      "  File \"/home/gayouf/anaconda3/lib/python3.6/site-packages/requests/sessions.py\", line 609, in send\n",
      "    r = adapter.send(request, **kwargs)\n",
      "  File \"/home/gayouf/anaconda3/lib/python3.6/site-packages/requests/adapters.py\", line 423, in send\n",
      "    timeout=timeout\n",
      "  File \"/home/gayouf/anaconda3/lib/python3.6/socket.py\", line 586, in readinto\n",
      "    return self._sock.recv_into(b)\n",
      "  File \"/home/gayouf/anaconda3/lib/python3.6/site-packages/requests/packages/urllib3/util/ssl_.py\", line 308, in ssl_wrap_socket\n",
      "    context.load_verify_locations(ca_certs, ca_cert_dir)\n",
      "  File \"/home/gayouf/anaconda3/lib/python3.6/site-packages/requests/packages/urllib3/connectionpool.py\", line 594, in urlopen\n",
      "    chunked=chunked)\n",
      "  File \"/home/gayouf/anaconda3/lib/python3.6/site-packages/requests/adapters.py\", line 423, in send\n",
      "    timeout=timeout\n",
      "  File \"/home/gayouf/anaconda3/lib/python3.6/site-packages/requests/packages/urllib3/connectionpool.py\", line 594, in urlopen\n",
      "    chunked=chunked)\n",
      "  File \"/home/gayouf/anaconda3/lib/python3.6/site-packages/requests/packages/urllib3/contrib/pyopenssl.py\", line 392, in load_verify_locations\n",
      "    self._ctx.load_verify_locations(cafile, capath)\n",
      "  File \"/home/gayouf/anaconda3/lib/python3.6/site-packages/requests/packages/urllib3/connectionpool.py\", line 387, in _make_request\n",
      "    httplib_response = conn.getresponse()\n",
      "  File \"/home/gayouf/anaconda3/lib/python3.6/site-packages/requests/packages/urllib3/contrib/pyopenssl.py\", line 256, in recv_into\n",
      "    return self.connection.recv_into(*args, **kwargs)\n",
      "  File \"/home/gayouf/anaconda3/lib/python3.6/site-packages/requests/packages/urllib3/connectionpool.py\", line 387, in _make_request\n",
      "    httplib_response = conn.getresponse()\n",
      "  File \"/home/gayouf/anaconda3/lib/python3.6/http/client.py\", line 1331, in getresponse\n",
      "    response.begin()\n",
      "  File \"/home/gayouf/anaconda3/lib/python3.6/site-packages/OpenSSL/SSL.py\", line 1334, in recv_into\n",
      "    result = _lib.SSL_read(self._ssl, buf, nbytes)\n",
      "  File \"/home/gayouf/anaconda3/lib/python3.6/site-packages/OpenSSL/SSL.py\", line 522, in load_verify_locations\n",
      "    self._context, cafile, capath\n",
      "KeyboardInterrupt\n",
      "  File \"/home/gayouf/anaconda3/lib/python3.6/http/client.py\", line 1331, in getresponse\n",
      "    response.begin()\n",
      "  File \"/home/gayouf/anaconda3/lib/python3.6/http/client.py\", line 297, in begin\n",
      "    version, status, reason = self._read_status()\n",
      "KeyboardInterrupt\n",
      "  File \"/home/gayouf/anaconda3/lib/python3.6/http/client.py\", line 297, in begin\n",
      "    version, status, reason = self._read_status()\n",
      "  File \"/home/gayouf/anaconda3/lib/python3.6/http/client.py\", line 258, in _read_status\n",
      "    line = str(self.fp.readline(_MAXLINE + 1), \"iso-8859-1\")\n",
      "  File \"/home/gayouf/anaconda3/lib/python3.6/socket.py\", line 586, in readinto\n",
      "    return self._sock.recv_into(b)\n",
      "  File \"/home/gayouf/anaconda3/lib/python3.6/site-packages/requests/packages/urllib3/contrib/pyopenssl.py\", line 256, in recv_into\n",
      "    return self.connection.recv_into(*args, **kwargs)\n",
      "  File \"/home/gayouf/anaconda3/lib/python3.6/site-packages/OpenSSL/SSL.py\", line 1334, in recv_into\n",
      "    result = _lib.SSL_read(self._ssl, buf, nbytes)\n",
      "KeyboardInterrupt\n",
      "  File \"/home/gayouf/anaconda3/lib/python3.6/http/client.py\", line 258, in _read_status\n",
      "    line = str(self.fp.readline(_MAXLINE + 1), \"iso-8859-1\")\n",
      "KeyboardInterrupt\n",
      "  File \"/home/gayouf/anaconda3/lib/python3.6/socket.py\", line 586, in readinto\n",
      "    return self._sock.recv_into(b)\n",
      "  File \"/home/gayouf/anaconda3/lib/python3.6/site-packages/requests/packages/urllib3/contrib/pyopenssl.py\", line 256, in recv_into\n",
      "    return self.connection.recv_into(*args, **kwargs)\n",
      "  File \"/home/gayouf/anaconda3/lib/python3.6/site-packages/OpenSSL/SSL.py\", line 1334, in recv_into\n",
      "    result = _lib.SSL_read(self._ssl, buf, nbytes)\n"
     ]
    },
    {
     "ename": "KeyboardInterrupt",
     "evalue": "",
     "output_type": "error",
     "traceback": [
      "\u001b[0;31m----------------------------------------------------------\u001b[0m",
      "\u001b[0;31mKeyboardInterrupt\u001b[0m        Traceback (most recent call last)",
      "\u001b[0;32m<ipython-input-4-d6787b5a0675>\u001b[0m in \u001b[0;36m<module>\u001b[0;34m()\u001b[0m\n\u001b[0;32m----> 1\u001b[0;31m \u001b[0mcrawler\u001b[0m\u001b[0;34m.\u001b[0m\u001b[0mcrawl_all_breweries\u001b[0m\u001b[0;34m(\u001b[0m\u001b[0;34m)\u001b[0m\u001b[0;34m\u001b[0m\u001b[0m\n\u001b[0m",
      "\u001b[0;32m/home/gayouf/Documents/EPFL/Side_Projects/beers/beeradvocate_crawler/code/classes/crawler.py\u001b[0m in \u001b[0;36mcrawl_all_breweries\u001b[0;34m(self)\u001b[0m\n\u001b[1;32m    188\u001b[0m         \u001b[0;32mfor\u001b[0m \u001b[0mid_\u001b[0m \u001b[0;32min\u001b[0m \u001b[0mbrewery_ids\u001b[0m\u001b[0;34m:\u001b[0m\u001b[0;34m\u001b[0m\u001b[0m\n\u001b[1;32m    189\u001b[0m             \u001b[0mres\u001b[0m \u001b[0;34m=\u001b[0m \u001b[0mpool\u001b[0m\u001b[0;34m.\u001b[0m\u001b[0mapply_async\u001b[0m\u001b[0;34m(\u001b[0m\u001b[0mself\u001b[0m\u001b[0;34m.\u001b[0m\u001b[0mcrawl_one_brewery\u001b[0m\u001b[0;34m,\u001b[0m \u001b[0margs\u001b[0m\u001b[0;34m=\u001b[0m\u001b[0;34m(\u001b[0m\u001b[0mid_\u001b[0m\u001b[0;34m,\u001b[0m\u001b[0;34m)\u001b[0m\u001b[0;34m)\u001b[0m\u001b[0;34m\u001b[0m\u001b[0m\n\u001b[0;32m--> 190\u001b[0;31m         \u001b[0mres\u001b[0m\u001b[0;34m.\u001b[0m\u001b[0mget\u001b[0m\u001b[0;34m(\u001b[0m\u001b[0;34m)\u001b[0m\u001b[0;34m\u001b[0m\u001b[0m\n\u001b[0m\u001b[1;32m    191\u001b[0m         \u001b[0mpool\u001b[0m\u001b[0;34m.\u001b[0m\u001b[0mclose\u001b[0m\u001b[0;34m(\u001b[0m\u001b[0;34m)\u001b[0m\u001b[0;34m\u001b[0m\u001b[0m\n\u001b[1;32m    192\u001b[0m         \u001b[0mpool\u001b[0m\u001b[0;34m.\u001b[0m\u001b[0mjoin\u001b[0m\u001b[0;34m(\u001b[0m\u001b[0;34m)\u001b[0m\u001b[0;34m\u001b[0m\u001b[0m\n",
      "\u001b[0;32m/home/gayouf/anaconda3/lib/python3.6/multiprocessing/pool.py\u001b[0m in \u001b[0;36mget\u001b[0;34m(self, timeout)\u001b[0m\n\u001b[1;32m    600\u001b[0m \u001b[0;34m\u001b[0m\u001b[0m\n\u001b[1;32m    601\u001b[0m     \u001b[0;32mdef\u001b[0m \u001b[0mget\u001b[0m\u001b[0;34m(\u001b[0m\u001b[0mself\u001b[0m\u001b[0;34m,\u001b[0m \u001b[0mtimeout\u001b[0m\u001b[0;34m=\u001b[0m\u001b[0;32mNone\u001b[0m\u001b[0;34m)\u001b[0m\u001b[0;34m:\u001b[0m\u001b[0;34m\u001b[0m\u001b[0m\n\u001b[0;32m--> 602\u001b[0;31m         \u001b[0mself\u001b[0m\u001b[0;34m.\u001b[0m\u001b[0mwait\u001b[0m\u001b[0;34m(\u001b[0m\u001b[0mtimeout\u001b[0m\u001b[0;34m)\u001b[0m\u001b[0;34m\u001b[0m\u001b[0m\n\u001b[0m\u001b[1;32m    603\u001b[0m         \u001b[0;32mif\u001b[0m \u001b[0;32mnot\u001b[0m \u001b[0mself\u001b[0m\u001b[0;34m.\u001b[0m\u001b[0mready\u001b[0m\u001b[0;34m(\u001b[0m\u001b[0;34m)\u001b[0m\u001b[0;34m:\u001b[0m\u001b[0;34m\u001b[0m\u001b[0m\n\u001b[1;32m    604\u001b[0m             \u001b[0;32mraise\u001b[0m \u001b[0mTimeoutError\u001b[0m\u001b[0;34m\u001b[0m\u001b[0m\n",
      "\u001b[0;32m/home/gayouf/anaconda3/lib/python3.6/multiprocessing/pool.py\u001b[0m in \u001b[0;36mwait\u001b[0;34m(self, timeout)\u001b[0m\n\u001b[1;32m    597\u001b[0m \u001b[0;34m\u001b[0m\u001b[0m\n\u001b[1;32m    598\u001b[0m     \u001b[0;32mdef\u001b[0m \u001b[0mwait\u001b[0m\u001b[0;34m(\u001b[0m\u001b[0mself\u001b[0m\u001b[0;34m,\u001b[0m \u001b[0mtimeout\u001b[0m\u001b[0;34m=\u001b[0m\u001b[0;32mNone\u001b[0m\u001b[0;34m)\u001b[0m\u001b[0;34m:\u001b[0m\u001b[0;34m\u001b[0m\u001b[0m\n\u001b[0;32m--> 599\u001b[0;31m         \u001b[0mself\u001b[0m\u001b[0;34m.\u001b[0m\u001b[0m_event\u001b[0m\u001b[0;34m.\u001b[0m\u001b[0mwait\u001b[0m\u001b[0;34m(\u001b[0m\u001b[0mtimeout\u001b[0m\u001b[0;34m)\u001b[0m\u001b[0;34m\u001b[0m\u001b[0m\n\u001b[0m\u001b[1;32m    600\u001b[0m \u001b[0;34m\u001b[0m\u001b[0m\n\u001b[1;32m    601\u001b[0m     \u001b[0;32mdef\u001b[0m \u001b[0mget\u001b[0m\u001b[0;34m(\u001b[0m\u001b[0mself\u001b[0m\u001b[0;34m,\u001b[0m \u001b[0mtimeout\u001b[0m\u001b[0;34m=\u001b[0m\u001b[0;32mNone\u001b[0m\u001b[0;34m)\u001b[0m\u001b[0;34m:\u001b[0m\u001b[0;34m\u001b[0m\u001b[0m\n",
      "\u001b[0;32m/home/gayouf/anaconda3/lib/python3.6/threading.py\u001b[0m in \u001b[0;36mwait\u001b[0;34m(self, timeout)\u001b[0m\n\u001b[1;32m    549\u001b[0m             \u001b[0msignaled\u001b[0m \u001b[0;34m=\u001b[0m \u001b[0mself\u001b[0m\u001b[0;34m.\u001b[0m\u001b[0m_flag\u001b[0m\u001b[0;34m\u001b[0m\u001b[0m\n\u001b[1;32m    550\u001b[0m             \u001b[0;32mif\u001b[0m \u001b[0;32mnot\u001b[0m \u001b[0msignaled\u001b[0m\u001b[0;34m:\u001b[0m\u001b[0;34m\u001b[0m\u001b[0m\n\u001b[0;32m--> 551\u001b[0;31m                 \u001b[0msignaled\u001b[0m \u001b[0;34m=\u001b[0m \u001b[0mself\u001b[0m\u001b[0;34m.\u001b[0m\u001b[0m_cond\u001b[0m\u001b[0;34m.\u001b[0m\u001b[0mwait\u001b[0m\u001b[0;34m(\u001b[0m\u001b[0mtimeout\u001b[0m\u001b[0;34m)\u001b[0m\u001b[0;34m\u001b[0m\u001b[0m\n\u001b[0m\u001b[1;32m    552\u001b[0m             \u001b[0;32mreturn\u001b[0m \u001b[0msignaled\u001b[0m\u001b[0;34m\u001b[0m\u001b[0m\n\u001b[1;32m    553\u001b[0m \u001b[0;34m\u001b[0m\u001b[0m\n",
      "\u001b[0;32m/home/gayouf/anaconda3/lib/python3.6/threading.py\u001b[0m in \u001b[0;36mwait\u001b[0;34m(self, timeout)\u001b[0m\n\u001b[1;32m    293\u001b[0m         \u001b[0;32mtry\u001b[0m\u001b[0;34m:\u001b[0m    \u001b[0;31m# restore state no matter what (e.g., KeyboardInterrupt)\u001b[0m\u001b[0;34m\u001b[0m\u001b[0m\n\u001b[1;32m    294\u001b[0m             \u001b[0;32mif\u001b[0m \u001b[0mtimeout\u001b[0m \u001b[0;32mis\u001b[0m \u001b[0;32mNone\u001b[0m\u001b[0;34m:\u001b[0m\u001b[0;34m\u001b[0m\u001b[0m\n\u001b[0;32m--> 295\u001b[0;31m                 \u001b[0mwaiter\u001b[0m\u001b[0;34m.\u001b[0m\u001b[0macquire\u001b[0m\u001b[0;34m(\u001b[0m\u001b[0;34m)\u001b[0m\u001b[0;34m\u001b[0m\u001b[0m\n\u001b[0m\u001b[1;32m    296\u001b[0m                 \u001b[0mgotit\u001b[0m \u001b[0;34m=\u001b[0m \u001b[0;32mTrue\u001b[0m\u001b[0;34m\u001b[0m\u001b[0m\n\u001b[1;32m    297\u001b[0m             \u001b[0;32melse\u001b[0m\u001b[0;34m:\u001b[0m\u001b[0;34m\u001b[0m\u001b[0m\n",
      "\u001b[0;31mKeyboardInterrupt\u001b[0m: "
     ]
    }
   ],
   "source": [
    "crawler.crawl_all_breweries()"
   ]
  },
  {
   "cell_type": "markdown",
   "metadata": {},
   "source": [
    "# Crawl all the beers and their reviews"
   ]
  },
  {
   "cell_type": "code",
   "execution_count": null,
   "metadata": {
    "collapsed": false
   },
   "outputs": [
    {
     "name": "stdout",
     "output_type": "stream",
     "text": [
      "Start crawling the reviews!\n"
     ]
    }
   ],
   "source": [
    "%%time\n",
    "crawler.crawl_all_beers()"
   ]
  },
  {
   "cell_type": "code",
   "execution_count": null,
   "metadata": {
    "collapsed": true
   },
   "outputs": [],
   "source": []
  }
 ],
 "metadata": {
  "kernelspec": {
   "display_name": "Python 3",
   "language": "python",
   "name": "python3"
  },
  "language_info": {
   "codemirror_mode": {
    "name": "ipython",
    "version": 3
   },
   "file_extension": ".py",
   "mimetype": "text/x-python",
   "name": "python",
   "nbconvert_exporter": "python",
   "pygments_lexer": "ipython3",
   "version": "3.6.0"
  }
 },
 "nbformat": 4,
 "nbformat_minor": 2
}

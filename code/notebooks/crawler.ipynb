{
 "cells": [
  {
   "cell_type": "markdown",
   "metadata": {},
   "source": [
    "# Crawler for the BeerAdvocate websites\n",
    "\n",
    "In this notebook, we are crawling all the reviews from all the beers. We also crawl all the places and all the users."
   ]
  },
  {
   "cell_type": "code",
   "execution_count": 1,
   "metadata": {
    "collapsed": true
   },
   "outputs": [],
   "source": [
    "import os\n",
    "os.chdir('..')"
   ]
  },
  {
   "cell_type": "code",
   "execution_count": 2,
   "metadata": {
    "collapsed": false
   },
   "outputs": [],
   "source": [
    "from classes.crawler import *\n",
    "from classes.helpers import *\n",
    "import multiprocessing as mp\n",
    "import pandas as pd\n",
    "import numpy as np\n",
    "import requests\n",
    "import shutil\n",
    "import json\n",
    "import re\n",
    "\n",
    "data_folder = '../data/'\n",
    "\n",
    "# For the Python notebook\n",
    "%matplotlib inline\n",
    "%reload_ext autoreload\n",
    "%autoreload 2"
   ]
  },
  {
   "cell_type": "code",
   "execution_count": 3,
   "metadata": {
    "collapsed": false
   },
   "outputs": [],
   "source": [
    "crawler = Crawler(delta_t=0.2)"
   ]
  },
  {
   "cell_type": "markdown",
   "metadata": {},
   "source": [
    "# Crawl the places with the breweries"
   ]
  },
  {
   "cell_type": "code",
   "execution_count": null,
   "metadata": {
    "collapsed": false
   },
   "outputs": [],
   "source": [
    "crawler.crawl_all_places()"
   ]
  },
  {
   "cell_type": "markdown",
   "metadata": {
    "collapsed": true
   },
   "source": [
    "# Crawl the pages with the breweries from the places"
   ]
  },
  {
   "cell_type": "code",
   "execution_count": null,
   "metadata": {
    "collapsed": false
   },
   "outputs": [],
   "source": [
    "crawler.crawl_breweries_from_places()"
   ]
  },
  {
   "cell_type": "markdown",
   "metadata": {},
   "source": [
    "# Crawl the breweries"
   ]
  },
  {
   "cell_type": "code",
   "execution_count": null,
   "metadata": {
    "collapsed": false
   },
   "outputs": [],
   "source": [
    "crawler.crawl_all_breweries()"
   ]
  },
  {
   "cell_type": "code",
   "execution_count": 4,
   "metadata": {
    "collapsed": false
   },
   "outputs": [
    {
     "name": "stderr",
     "output_type": "stream",
     "text": [
      "Process ForkPoolWorker-4:\n",
      "Process ForkPoolWorker-6:\n",
      "Process ForkPoolWorker-3:\n",
      "Process ForkPoolWorker-2:\n",
      "Process ForkPoolWorker-5:\n",
      "Traceback (most recent call last):\n",
      "Traceback (most recent call last):\n",
      "  File \"/home/gayouf/anaconda3/lib/python3.6/site-packages/requests/packages/urllib3/connectionpool.py\", line 384, in _make_request\n",
      "    httplib_response = conn.getresponse(buffering=True)\n",
      "  File \"/home/gayouf/anaconda3/lib/python3.6/site-packages/requests/packages/urllib3/connectionpool.py\", line 384, in _make_request\n",
      "    httplib_response = conn.getresponse(buffering=True)\n",
      "TypeError: getresponse() got an unexpected keyword argument 'buffering'\n",
      "TypeError: getresponse() got an unexpected keyword argument 'buffering'\n",
      "\n",
      "During handling of the above exception, another exception occurred:\n",
      "\n",
      "\n",
      "During handling of the above exception, another exception occurred:\n",
      "\n",
      "Traceback (most recent call last):\n",
      "Traceback (most recent call last):\n",
      "  File \"/home/gayouf/anaconda3/lib/python3.6/multiprocessing/process.py\", line 249, in _bootstrap\n",
      "    self.run()\n",
      "  File \"/home/gayouf/anaconda3/lib/python3.6/multiprocessing/process.py\", line 93, in run\n",
      "    self._target(*self._args, **self._kwargs)\n",
      "  File \"/home/gayouf/anaconda3/lib/python3.6/multiprocessing/process.py\", line 249, in _bootstrap\n",
      "    self.run()\n",
      "  File \"/home/gayouf/anaconda3/lib/python3.6/multiprocessing/process.py\", line 93, in run\n",
      "    self._target(*self._args, **self._kwargs)\n",
      "  File \"/home/gayouf/anaconda3/lib/python3.6/multiprocessing/pool.py\", line 119, in worker\n",
      "    result = (True, func(*args, **kwds))\n",
      "  File \"/home/gayouf/Documents/EPFL/Side_Projects/beers/beeradvocate_crawler/code/classes/crawler.py\", line 337, in crawl_one_closed_brewery\n",
      "    r = requests.get(url)\n",
      "  File \"/home/gayouf/anaconda3/lib/python3.6/multiprocessing/pool.py\", line 119, in worker\n",
      "    result = (True, func(*args, **kwds))\n",
      "  File \"/home/gayouf/Documents/EPFL/Side_Projects/beers/beeradvocate_crawler/code/classes/crawler.py\", line 337, in crawl_one_closed_brewery\n",
      "    r = requests.get(url)\n",
      "  File \"/home/gayouf/anaconda3/lib/python3.6/site-packages/requests/api.py\", line 70, in get\n",
      "    return request('get', url, params=params, **kwargs)\n",
      "  File \"/home/gayouf/anaconda3/lib/python3.6/site-packages/requests/api.py\", line 56, in request\n",
      "    return session.request(method=method, url=url, **kwargs)\n",
      "  File \"/home/gayouf/anaconda3/lib/python3.6/site-packages/requests/api.py\", line 70, in get\n",
      "    return request('get', url, params=params, **kwargs)\n",
      "  File \"/home/gayouf/anaconda3/lib/python3.6/site-packages/requests/sessions.py\", line 488, in request\n",
      "    resp = self.send(prep, **send_kwargs)\n",
      "  File \"/home/gayouf/anaconda3/lib/python3.6/site-packages/requests/api.py\", line 56, in request\n",
      "    return session.request(method=method, url=url, **kwargs)\n",
      "  File \"/home/gayouf/anaconda3/lib/python3.6/site-packages/requests/sessions.py\", line 609, in send\n",
      "    r = adapter.send(request, **kwargs)\n",
      "  File \"/home/gayouf/anaconda3/lib/python3.6/site-packages/requests/sessions.py\", line 488, in request\n",
      "    resp = self.send(prep, **send_kwargs)\n",
      "  File \"/home/gayouf/anaconda3/lib/python3.6/site-packages/requests/adapters.py\", line 423, in send\n",
      "    timeout=timeout\n",
      "Process ForkPoolWorker-1:\n",
      "  File \"/home/gayouf/anaconda3/lib/python3.6/site-packages/requests/sessions.py\", line 609, in send\n",
      "    r = adapter.send(request, **kwargs)\n",
      "  File \"/home/gayouf/anaconda3/lib/python3.6/site-packages/requests/packages/urllib3/connectionpool.py\", line 594, in urlopen\n",
      "    chunked=chunked)\n",
      "  File \"/home/gayouf/anaconda3/lib/python3.6/site-packages/requests/packages/urllib3/connectionpool.py\", line 387, in _make_request\n",
      "    httplib_response = conn.getresponse()\n",
      "Traceback (most recent call last):\n",
      "  File \"/home/gayouf/anaconda3/lib/python3.6/site-packages/requests/adapters.py\", line 423, in send\n",
      "    timeout=timeout\n",
      "  File \"/home/gayouf/anaconda3/lib/python3.6/site-packages/requests/packages/urllib3/contrib/pyopenssl.py\", line 256, in recv_into\n",
      "    return self.connection.recv_into(*args, **kwargs)\n",
      "  File \"/home/gayouf/anaconda3/lib/python3.6/http/client.py\", line 1331, in getresponse\n",
      "    response.begin()\n",
      "  File \"/home/gayouf/anaconda3/lib/python3.6/http/client.py\", line 297, in begin\n",
      "    version, status, reason = self._read_status()\n",
      "  File \"/home/gayouf/anaconda3/lib/python3.6/site-packages/requests/packages/urllib3/connectionpool.py\", line 594, in urlopen\n",
      "    chunked=chunked)\n",
      "  File \"/home/gayouf/anaconda3/lib/python3.6/http/client.py\", line 258, in _read_status\n",
      "    line = str(self.fp.readline(_MAXLINE + 1), \"iso-8859-1\")\n",
      "  File \"/home/gayouf/anaconda3/lib/python3.6/site-packages/requests/packages/urllib3/connectionpool.py\", line 387, in _make_request\n",
      "    httplib_response = conn.getresponse()\n",
      "TypeError: getresponse() got an unexpected keyword argument 'buffering'\n",
      "  File \"/home/gayouf/anaconda3/lib/python3.6/site-packages/requests/packages/urllib3/connectionpool.py\", line 384, in _make_request\n",
      "    httplib_response = conn.getresponse(buffering=True)\n",
      "  File \"/home/gayouf/anaconda3/lib/python3.6/http/client.py\", line 1331, in getresponse\n",
      "    response.begin()\n",
      "  File \"/home/gayouf/anaconda3/lib/python3.6/socket.py\", line 586, in readinto\n",
      "    return self._sock.recv_into(b)\n",
      "  File \"/home/gayouf/anaconda3/lib/python3.6/http/client.py\", line 297, in begin\n",
      "    version, status, reason = self._read_status()\n",
      "  File \"/home/gayouf/anaconda3/lib/python3.6/site-packages/OpenSSL/SSL.py\", line 1334, in recv_into\n",
      "    result = _lib.SSL_read(self._ssl, buf, nbytes)\n",
      "\n",
      "During handling of the above exception, another exception occurred:\n",
      "\n",
      "Traceback (most recent call last):\n",
      "  File \"/home/gayouf/anaconda3/lib/python3.6/http/client.py\", line 258, in _read_status\n",
      "    line = str(self.fp.readline(_MAXLINE + 1), \"iso-8859-1\")\n",
      "KeyboardInterrupt\n",
      "  File \"/home/gayouf/anaconda3/lib/python3.6/socket.py\", line 586, in readinto\n",
      "    return self._sock.recv_into(b)\n",
      "  File \"/home/gayouf/anaconda3/lib/python3.6/multiprocessing/process.py\", line 249, in _bootstrap\n",
      "    self.run()\n",
      "  File \"/home/gayouf/anaconda3/lib/python3.6/site-packages/requests/packages/urllib3/contrib/pyopenssl.py\", line 256, in recv_into\n",
      "    return self.connection.recv_into(*args, **kwargs)\n",
      "  File \"/home/gayouf/anaconda3/lib/python3.6/multiprocessing/process.py\", line 93, in run\n",
      "    self._target(*self._args, **self._kwargs)\n",
      "  File \"/home/gayouf/anaconda3/lib/python3.6/site-packages/OpenSSL/SSL.py\", line 1334, in recv_into\n",
      "    result = _lib.SSL_read(self._ssl, buf, nbytes)\n",
      "  File \"/home/gayouf/anaconda3/lib/python3.6/multiprocessing/pool.py\", line 119, in worker\n",
      "    result = (True, func(*args, **kwds))\n",
      "KeyboardInterrupt\n",
      "  File \"/home/gayouf/Documents/EPFL/Side_Projects/beers/beeradvocate_crawler/code/classes/crawler.py\", line 337, in crawl_one_closed_brewery\n",
      "    r = requests.get(url)\n",
      "  File \"/home/gayouf/anaconda3/lib/python3.6/site-packages/requests/api.py\", line 70, in get\n",
      "    return request('get', url, params=params, **kwargs)\n",
      "  File \"/home/gayouf/anaconda3/lib/python3.6/site-packages/requests/api.py\", line 56, in request\n",
      "    return session.request(method=method, url=url, **kwargs)\n",
      "  File \"/home/gayouf/anaconda3/lib/python3.6/site-packages/requests/sessions.py\", line 488, in request\n",
      "    resp = self.send(prep, **send_kwargs)\n",
      "  File \"/home/gayouf/anaconda3/lib/python3.6/site-packages/requests/sessions.py\", line 609, in send\n",
      "    r = adapter.send(request, **kwargs)\n",
      "  File \"/home/gayouf/anaconda3/lib/python3.6/site-packages/requests/adapters.py\", line 423, in send\n",
      "    timeout=timeout\n",
      "  File \"/home/gayouf/anaconda3/lib/python3.6/site-packages/requests/packages/urllib3/connectionpool.py\", line 594, in urlopen\n",
      "    chunked=chunked)\n",
      "  File \"/home/gayouf/anaconda3/lib/python3.6/site-packages/requests/packages/urllib3/connectionpool.py\", line 387, in _make_request\n",
      "    httplib_response = conn.getresponse()\n",
      "  File \"/home/gayouf/anaconda3/lib/python3.6/http/client.py\", line 1331, in getresponse\n",
      "    response.begin()\n",
      "  File \"/home/gayouf/anaconda3/lib/python3.6/http/client.py\", line 297, in begin\n",
      "    version, status, reason = self._read_status()\n",
      "  File \"/home/gayouf/anaconda3/lib/python3.6/http/client.py\", line 258, in _read_status\n",
      "    line = str(self.fp.readline(_MAXLINE + 1), \"iso-8859-1\")\n",
      "  File \"/home/gayouf/anaconda3/lib/python3.6/socket.py\", line 586, in readinto\n",
      "    return self._sock.recv_into(b)\n",
      "  File \"/home/gayouf/anaconda3/lib/python3.6/site-packages/requests/packages/urllib3/contrib/pyopenssl.py\", line 256, in recv_into\n",
      "    return self.connection.recv_into(*args, **kwargs)\n",
      "  File \"/home/gayouf/anaconda3/lib/python3.6/site-packages/OpenSSL/SSL.py\", line 1334, in recv_into\n",
      "    result = _lib.SSL_read(self._ssl, buf, nbytes)\n",
      "KeyboardInterrupt\n",
      "Traceback (most recent call last):\n",
      "Traceback (most recent call last):\n",
      "Traceback (most recent call last):\n",
      "  File \"/home/gayouf/anaconda3/lib/python3.6/multiprocessing/process.py\", line 249, in _bootstrap\n",
      "    self.run()\n",
      "  File \"/home/gayouf/anaconda3/lib/python3.6/multiprocessing/process.py\", line 249, in _bootstrap\n",
      "    self.run()\n",
      "  File \"/home/gayouf/anaconda3/lib/python3.6/multiprocessing/process.py\", line 93, in run\n",
      "    self._target(*self._args, **self._kwargs)\n",
      "  File \"/home/gayouf/anaconda3/lib/python3.6/multiprocessing/pool.py\", line 119, in worker\n",
      "    result = (True, func(*args, **kwds))\n",
      "  File \"/home/gayouf/anaconda3/lib/python3.6/multiprocessing/process.py\", line 249, in _bootstrap\n",
      "    self.run()\n",
      "  File \"/home/gayouf/Documents/EPFL/Side_Projects/beers/beeradvocate_crawler/code/classes/crawler.py\", line 337, in crawl_one_closed_brewery\n",
      "    r = requests.get(url)\n",
      "  File \"/home/gayouf/anaconda3/lib/python3.6/multiprocessing/process.py\", line 93, in run\n",
      "    self._target(*self._args, **self._kwargs)\n",
      "  File \"/home/gayouf/anaconda3/lib/python3.6/multiprocessing/pool.py\", line 119, in worker\n",
      "    result = (True, func(*args, **kwds))\n",
      "  File \"/home/gayouf/anaconda3/lib/python3.6/site-packages/requests/api.py\", line 70, in get\n",
      "    return request('get', url, params=params, **kwargs)\n",
      "  File \"/home/gayouf/anaconda3/lib/python3.6/site-packages/requests/api.py\", line 56, in request\n",
      "    return session.request(method=method, url=url, **kwargs)\n",
      "  File \"/home/gayouf/anaconda3/lib/python3.6/site-packages/requests/sessions.py\", line 369, in __exit__\n",
      "    self.close()\n",
      "  File \"/home/gayouf/anaconda3/lib/python3.6/site-packages/requests/sessions.py\", line 690, in close\n",
      "    v.close()\n",
      "  File \"/home/gayouf/anaconda3/lib/python3.6/site-packages/requests/adapters.py\", line 306, in close\n",
      "    self.poolmanager.clear()\n",
      "  File \"/home/gayouf/anaconda3/lib/python3.6/site-packages/requests/packages/urllib3/poolmanager.py\", line 156, in clear\n",
      "    self.pools.clear()\n",
      "  File \"/home/gayouf/Documents/EPFL/Side_Projects/beers/beeradvocate_crawler/code/classes/crawler.py\", line 337, in crawl_one_closed_brewery\n",
      "    r = requests.get(url)\n",
      "  File \"/home/gayouf/anaconda3/lib/python3.6/multiprocessing/process.py\", line 93, in run\n",
      "    self._target(*self._args, **self._kwargs)\n",
      "  File \"/home/gayouf/anaconda3/lib/python3.6/site-packages/requests/packages/urllib3/_collections.py\", line 94, in clear\n",
      "    self.dispose_func(value)\n",
      "  File \"/home/gayouf/anaconda3/lib/python3.6/multiprocessing/pool.py\", line 119, in worker\n",
      "    result = (True, func(*args, **kwds))\n",
      "  File \"/home/gayouf/anaconda3/lib/python3.6/site-packages/requests/api.py\", line 70, in get\n",
      "    return request('get', url, params=params, **kwargs)\n",
      "  File \"/home/gayouf/anaconda3/lib/python3.6/site-packages/requests/packages/urllib3/poolmanager.py\", line 117, in <lambda>\n",
      "    dispose_func=lambda p: p.close())\n",
      "  File \"/home/gayouf/anaconda3/lib/python3.6/site-packages/requests/api.py\", line 56, in request\n",
      "    return session.request(method=method, url=url, **kwargs)\n",
      "  File \"/home/gayouf/Documents/EPFL/Side_Projects/beers/beeradvocate_crawler/code/classes/crawler.py\", line 337, in crawl_one_closed_brewery\n",
      "    r = requests.get(url)\n",
      "  File \"/home/gayouf/anaconda3/lib/python3.6/site-packages/requests/sessions.py\", line 488, in request\n",
      "    resp = self.send(prep, **send_kwargs)\n",
      "  File \"/home/gayouf/anaconda3/lib/python3.6/site-packages/requests/packages/urllib3/connectionpool.py\", line 424, in close\n",
      "    if conn:\n",
      "  File \"/home/gayouf/anaconda3/lib/python3.6/site-packages/requests/sessions.py\", line 641, in send\n",
      "    r.content\n",
      "KeyboardInterrupt\n",
      "  File \"/home/gayouf/anaconda3/lib/python3.6/site-packages/requests/api.py\", line 70, in get\n",
      "    return request('get', url, params=params, **kwargs)\n",
      "  File \"/home/gayouf/anaconda3/lib/python3.6/site-packages/requests/models.py\", line 781, in content\n",
      "    self._content = bytes().join(self.iter_content(CONTENT_CHUNK_SIZE)) or bytes()\n",
      "  File \"/home/gayouf/anaconda3/lib/python3.6/site-packages/requests/api.py\", line 56, in request\n",
      "    return session.request(method=method, url=url, **kwargs)\n",
      "  File \"/home/gayouf/anaconda3/lib/python3.6/site-packages/requests/models.py\", line 703, in generate\n",
      "    for chunk in self.raw.stream(chunk_size, decode_content=True):\n",
      "  File \"/home/gayouf/anaconda3/lib/python3.6/site-packages/requests/packages/urllib3/response.py\", line 428, in stream\n",
      "    for line in self.read_chunked(amt, decode_content=decode_content):\n",
      "  File \"/home/gayouf/anaconda3/lib/python3.6/site-packages/requests/sessions.py\", line 488, in request\n",
      "    resp = self.send(prep, **send_kwargs)\n",
      "  File \"/home/gayouf/anaconda3/lib/python3.6/site-packages/requests/packages/urllib3/response.py\", line 590, in read_chunked\n",
      "    self._update_chunk_length()\n",
      "  File \"/home/gayouf/anaconda3/lib/python3.6/site-packages/requests/packages/urllib3/response.py\", line 532, in _update_chunk_length\n",
      "    line = self._fp.fp.readline()\n",
      "  File \"/home/gayouf/anaconda3/lib/python3.6/socket.py\", line 586, in readinto\n",
      "    return self._sock.recv_into(b)\n",
      "  File \"/home/gayouf/anaconda3/lib/python3.6/site-packages/requests/sessions.py\", line 609, in send\n",
      "    r = adapter.send(request, **kwargs)\n",
      "  File \"/home/gayouf/anaconda3/lib/python3.6/site-packages/requests/packages/urllib3/contrib/pyopenssl.py\", line 256, in recv_into\n",
      "    return self.connection.recv_into(*args, **kwargs)\n",
      "  File \"/home/gayouf/anaconda3/lib/python3.6/site-packages/requests/adapters.py\", line 423, in send\n",
      "    timeout=timeout\n",
      "  File \"/home/gayouf/anaconda3/lib/python3.6/site-packages/OpenSSL/SSL.py\", line 1334, in recv_into\n",
      "    result = _lib.SSL_read(self._ssl, buf, nbytes)\n",
      "  File \"/home/gayouf/anaconda3/lib/python3.6/site-packages/requests/packages/urllib3/connectionpool.py\", line 594, in urlopen\n",
      "    chunked=chunked)\n",
      "KeyboardInterrupt\n",
      "  File \"/home/gayouf/anaconda3/lib/python3.6/site-packages/requests/packages/urllib3/connectionpool.py\", line 350, in _make_request\n",
      "    self._validate_conn(conn)\n",
      "  File \"/home/gayouf/anaconda3/lib/python3.6/site-packages/requests/packages/urllib3/connectionpool.py\", line 835, in _validate_conn\n",
      "    conn.connect()\n",
      "  File \"/home/gayouf/anaconda3/lib/python3.6/site-packages/requests/packages/urllib3/connection.py\", line 323, in connect\n",
      "    ssl_context=context)\n",
      "  File \"/home/gayouf/anaconda3/lib/python3.6/site-packages/requests/packages/urllib3/util/ssl_.py\", line 324, in ssl_wrap_socket\n",
      "    return context.wrap_socket(sock, server_hostname=server_hostname)\n",
      "  File \"/home/gayouf/anaconda3/lib/python3.6/site-packages/requests/packages/urllib3/contrib/pyopenssl.py\", line 417, in wrap_socket\n",
      "    cnx.do_handshake()\n",
      "  File \"/home/gayouf/anaconda3/lib/python3.6/site-packages/OpenSSL/SSL.py\", line 1425, in do_handshake\n",
      "    result = _lib.SSL_do_handshake(self._ssl)\n",
      "KeyboardInterrupt\n"
     ]
    },
    {
     "ename": "KeyboardInterrupt",
     "evalue": "",
     "output_type": "error",
     "traceback": [
      "\u001b[0;31m----------------------------------------------------------\u001b[0m",
      "\u001b[0;31mKeyboardInterrupt\u001b[0m        Traceback (most recent call last)",
      "\u001b[0;32m<ipython-input-4-058beed2ae49>\u001b[0m in \u001b[0;36m<module>\u001b[0;34m()\u001b[0m\n\u001b[0;32m----> 1\u001b[0;31m \u001b[0mcrawler\u001b[0m\u001b[0;34m.\u001b[0m\u001b[0mcrawl_all_closed_breweries\u001b[0m\u001b[0;34m(\u001b[0m\u001b[0;34m)\u001b[0m\u001b[0;34m\u001b[0m\u001b[0m\n\u001b[0m",
      "\u001b[0;32m/home/gayouf/Documents/EPFL/Side_Projects/beers/beeradvocate_crawler/code/classes/crawler.py\u001b[0m in \u001b[0;36mcrawl_all_closed_breweries\u001b[0;34m(self)\u001b[0m\n\u001b[1;32m    320\u001b[0m             \u001b[0mpool\u001b[0m\u001b[0;34m.\u001b[0m\u001b[0mapply_async\u001b[0m\u001b[0;34m(\u001b[0m\u001b[0mself\u001b[0m\u001b[0;34m.\u001b[0m\u001b[0mcrawl_one_closed_brewery\u001b[0m\u001b[0;34m,\u001b[0m \u001b[0margs\u001b[0m\u001b[0;34m=\u001b[0m\u001b[0;34m(\u001b[0m\u001b[0mi\u001b[0m\u001b[0;34m,\u001b[0m\u001b[0;34m)\u001b[0m\u001b[0;34m)\u001b[0m\u001b[0;34m\u001b[0m\u001b[0m\n\u001b[1;32m    321\u001b[0m         \u001b[0mpool\u001b[0m\u001b[0;34m.\u001b[0m\u001b[0mclose\u001b[0m\u001b[0;34m(\u001b[0m\u001b[0;34m)\u001b[0m\u001b[0;34m\u001b[0m\u001b[0m\n\u001b[0;32m--> 322\u001b[0;31m         \u001b[0mpool\u001b[0m\u001b[0;34m.\u001b[0m\u001b[0mjoin\u001b[0m\u001b[0;34m(\u001b[0m\u001b[0;34m)\u001b[0m\u001b[0;34m\u001b[0m\u001b[0m\n\u001b[0m\u001b[1;32m    323\u001b[0m \u001b[0;34m\u001b[0m\u001b[0m\n\u001b[1;32m    324\u001b[0m     \u001b[0;32mdef\u001b[0m \u001b[0mcrawl_one_closed_brewery\u001b[0m\u001b[0;34m(\u001b[0m\u001b[0mself\u001b[0m\u001b[0;34m,\u001b[0m \u001b[0mid_\u001b[0m\u001b[0;34m)\u001b[0m\u001b[0;34m:\u001b[0m\u001b[0;34m\u001b[0m\u001b[0m\n",
      "\u001b[0;32m/home/gayouf/anaconda3/lib/python3.6/multiprocessing/pool.py\u001b[0m in \u001b[0;36mjoin\u001b[0;34m(self)\u001b[0m\n\u001b[1;32m    508\u001b[0m         \u001b[0mutil\u001b[0m\u001b[0;34m.\u001b[0m\u001b[0mdebug\u001b[0m\u001b[0;34m(\u001b[0m\u001b[0;34m'joining pool'\u001b[0m\u001b[0;34m)\u001b[0m\u001b[0;34m\u001b[0m\u001b[0m\n\u001b[1;32m    509\u001b[0m         \u001b[0;32massert\u001b[0m \u001b[0mself\u001b[0m\u001b[0;34m.\u001b[0m\u001b[0m_state\u001b[0m \u001b[0;32min\u001b[0m \u001b[0;34m(\u001b[0m\u001b[0mCLOSE\u001b[0m\u001b[0;34m,\u001b[0m \u001b[0mTERMINATE\u001b[0m\u001b[0;34m)\u001b[0m\u001b[0;34m\u001b[0m\u001b[0m\n\u001b[0;32m--> 510\u001b[0;31m         \u001b[0mself\u001b[0m\u001b[0;34m.\u001b[0m\u001b[0m_worker_handler\u001b[0m\u001b[0;34m.\u001b[0m\u001b[0mjoin\u001b[0m\u001b[0;34m(\u001b[0m\u001b[0;34m)\u001b[0m\u001b[0;34m\u001b[0m\u001b[0m\n\u001b[0m\u001b[1;32m    511\u001b[0m         \u001b[0mself\u001b[0m\u001b[0;34m.\u001b[0m\u001b[0m_task_handler\u001b[0m\u001b[0;34m.\u001b[0m\u001b[0mjoin\u001b[0m\u001b[0;34m(\u001b[0m\u001b[0;34m)\u001b[0m\u001b[0;34m\u001b[0m\u001b[0m\n\u001b[1;32m    512\u001b[0m         \u001b[0mself\u001b[0m\u001b[0;34m.\u001b[0m\u001b[0m_result_handler\u001b[0m\u001b[0;34m.\u001b[0m\u001b[0mjoin\u001b[0m\u001b[0;34m(\u001b[0m\u001b[0;34m)\u001b[0m\u001b[0;34m\u001b[0m\u001b[0m\n",
      "\u001b[0;32m/home/gayouf/anaconda3/lib/python3.6/threading.py\u001b[0m in \u001b[0;36mjoin\u001b[0;34m(self, timeout)\u001b[0m\n\u001b[1;32m   1054\u001b[0m \u001b[0;34m\u001b[0m\u001b[0m\n\u001b[1;32m   1055\u001b[0m         \u001b[0;32mif\u001b[0m \u001b[0mtimeout\u001b[0m \u001b[0;32mis\u001b[0m \u001b[0;32mNone\u001b[0m\u001b[0;34m:\u001b[0m\u001b[0;34m\u001b[0m\u001b[0m\n\u001b[0;32m-> 1056\u001b[0;31m             \u001b[0mself\u001b[0m\u001b[0;34m.\u001b[0m\u001b[0m_wait_for_tstate_lock\u001b[0m\u001b[0;34m(\u001b[0m\u001b[0;34m)\u001b[0m\u001b[0;34m\u001b[0m\u001b[0m\n\u001b[0m\u001b[1;32m   1057\u001b[0m         \u001b[0;32melse\u001b[0m\u001b[0;34m:\u001b[0m\u001b[0;34m\u001b[0m\u001b[0m\n\u001b[1;32m   1058\u001b[0m             \u001b[0;31m# the behavior of a negative timeout isn't documented, but\u001b[0m\u001b[0;34m\u001b[0m\u001b[0;34m\u001b[0m\u001b[0m\n",
      "\u001b[0;32m/home/gayouf/anaconda3/lib/python3.6/threading.py\u001b[0m in \u001b[0;36m_wait_for_tstate_lock\u001b[0;34m(self, block, timeout)\u001b[0m\n\u001b[1;32m   1070\u001b[0m         \u001b[0;32mif\u001b[0m \u001b[0mlock\u001b[0m \u001b[0;32mis\u001b[0m \u001b[0;32mNone\u001b[0m\u001b[0;34m:\u001b[0m  \u001b[0;31m# already determined that the C code is done\u001b[0m\u001b[0;34m\u001b[0m\u001b[0m\n\u001b[1;32m   1071\u001b[0m             \u001b[0;32massert\u001b[0m \u001b[0mself\u001b[0m\u001b[0;34m.\u001b[0m\u001b[0m_is_stopped\u001b[0m\u001b[0;34m\u001b[0m\u001b[0m\n\u001b[0;32m-> 1072\u001b[0;31m         \u001b[0;32melif\u001b[0m \u001b[0mlock\u001b[0m\u001b[0;34m.\u001b[0m\u001b[0macquire\u001b[0m\u001b[0;34m(\u001b[0m\u001b[0mblock\u001b[0m\u001b[0;34m,\u001b[0m \u001b[0mtimeout\u001b[0m\u001b[0;34m)\u001b[0m\u001b[0;34m:\u001b[0m\u001b[0;34m\u001b[0m\u001b[0m\n\u001b[0m\u001b[1;32m   1073\u001b[0m             \u001b[0mlock\u001b[0m\u001b[0;34m.\u001b[0m\u001b[0mrelease\u001b[0m\u001b[0;34m(\u001b[0m\u001b[0;34m)\u001b[0m\u001b[0;34m\u001b[0m\u001b[0m\n\u001b[1;32m   1074\u001b[0m             \u001b[0mself\u001b[0m\u001b[0;34m.\u001b[0m\u001b[0m_stop\u001b[0m\u001b[0;34m(\u001b[0m\u001b[0;34m)\u001b[0m\u001b[0;34m\u001b[0m\u001b[0m\n",
      "\u001b[0;31mKeyboardInterrupt\u001b[0m: "
     ]
    }
   ],
   "source": [
    "crawler.crawl_all_closed_breweries()"
   ]
  },
  {
   "cell_type": "markdown",
   "metadata": {},
   "source": [
    "# Crawl the beers"
   ]
  },
  {
   "cell_type": "code",
   "execution_count": 4,
   "metadata": {
    "collapsed": false
   },
   "outputs": [],
   "source": [
    "crawler.crawl_all_beers_and_reviews()"
   ]
  },
  {
   "cell_type": "code",
   "execution_count": null,
   "metadata": {
    "collapsed": true
   },
   "outputs": [],
   "source": [
    "os.listdir()"
   ]
  }
 ],
 "metadata": {
  "kernelspec": {
   "display_name": "Python 3",
   "language": "python",
   "name": "python3"
  },
  "language_info": {
   "codemirror_mode": {
    "name": "ipython",
    "version": 3
   },
   "file_extension": ".py",
   "mimetype": "text/x-python",
   "name": "python",
   "nbconvert_exporter": "python",
   "pygments_lexer": "ipython3",
   "version": "3.6.0"
  }
 },
 "nbformat": 4,
 "nbformat_minor": 2
}

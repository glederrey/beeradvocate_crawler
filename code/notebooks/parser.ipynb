{
 "cells": [
  {
   "cell_type": "markdown",
   "metadata": {},
   "source": [
    "# Parser for the BeerAdvocate websites\n",
    "\n",
    "In this notebook, we are parsing the HTML pages that are crawled with the other notebook."
   ]
  },
  {
   "cell_type": "code",
   "execution_count": 1,
   "metadata": {
    "collapsed": true
   },
   "outputs": [],
   "source": [
    "import os\n",
    "os.chdir('..')"
   ]
  },
  {
   "cell_type": "code",
   "execution_count": 2,
   "metadata": {
    "collapsed": true
   },
   "outputs": [],
   "source": [
    "from classes.helpers import *\n",
    "from classes.parser import *\n",
    "import pandas as pd\n",
    "import numpy as np\n",
    "import datetime\n",
    "import time\n",
    "import gzip\n",
    "\n",
    "# For the Python notebook\n",
    "%matplotlib inline\n",
    "%reload_ext autoreload\n",
    "%autoreload 2"
   ]
  },
  {
   "cell_type": "code",
   "execution_count": 3,
   "metadata": {
    "collapsed": false
   },
   "outputs": [],
   "source": [
    "parser = Parser()"
   ]
  },
  {
   "cell_type": "markdown",
   "metadata": {},
   "source": [
    "# Parse the breweries from the places"
   ]
  },
  {
   "cell_type": "code",
   "execution_count": 5,
   "metadata": {
    "collapsed": false
   },
   "outputs": [],
   "source": [
    "parser.parse_breweries_from_places()"
   ]
  },
  {
   "cell_type": "markdown",
   "metadata": {},
   "source": [
    "# Add missing breweries"
   ]
  },
  {
   "cell_type": "code",
   "execution_count": 4,
   "metadata": {
    "collapsed": false
   },
   "outputs": [],
   "source": [
    "parser.parse_missing_breweries()"
   ]
  },
  {
   "cell_type": "markdown",
   "metadata": {},
   "source": [
    "# Parse the breweries page to get the number of beers"
   ]
  },
  {
   "cell_type": "code",
   "execution_count": 5,
   "metadata": {
    "collapsed": false
   },
   "outputs": [],
   "source": [
    "parser.parse_breweries_files_for_number()"
   ]
  },
  {
   "cell_type": "markdown",
   "metadata": {},
   "source": [
    "# Parse the breweries page to get the beers"
   ]
  },
  {
   "cell_type": "code",
   "execution_count": 4,
   "metadata": {
    "collapsed": false
   },
   "outputs": [],
   "source": [
    "parser.parse_breweries_files_for_beers()"
   ]
  },
  {
   "cell_type": "markdown",
   "metadata": {},
   "source": [
    "# Parse the beer files for information"
   ]
  },
  {
   "cell_type": "code",
   "execution_count": 43,
   "metadata": {
    "collapsed": false
   },
   "outputs": [],
   "source": [
    "parser.parse_beer_files_for_information()"
   ]
  },
  {
   "cell_type": "markdown",
   "metadata": {},
   "source": [
    "# Parse the beer files for the reviews"
   ]
  },
  {
   "cell_type": "code",
   "execution_count": 4,
   "metadata": {
    "collapsed": true
   },
   "outputs": [],
   "source": [
    "parser.parse_beer_files_for_reviews()"
   ]
  },
  {
   "cell_type": "code",
   "execution_count": 7,
   "metadata": {
    "collapsed": false
   },
   "outputs": [],
   "source": [
    "df = pd.read_csv(parser.data_folder + '/parsed/beers2.csv')"
   ]
  },
  {
   "cell_type": "code",
   "execution_count": 73,
   "metadata": {
    "collapsed": false,
    "scrolled": false
   },
   "outputs": [],
   "source": [
    "# Open the GZIP file\n",
    "f_ratings = gzip.open(parser.data_folder + 'parsed/ratings.txt.gz', 'wb')\n",
    "f_reviews = gzip.open(parser.data_folder + 'parsed/reviews.txt.gz', 'wb')\n",
    "\n",
    "for i in df.index:\n",
    "    row = df.ix[i]\n",
    "    rats = row['nbr_ratings']\n",
    "    \n",
    "    # Check that this beer has at least 1 rating\n",
    "    if row['nbr_ratings'] > 0:    \n",
    "        \n",
    "        folder = parser.data_folder + 'beers/{}/{}/'.format(row['brewery_id'], row['beer_id'])\n",
    "        \n",
    "        list_ = os.listdir(folder)\n",
    "        list_.sort()\n",
    "\n",
    "        for file in list_:\n",
    "            \n",
    "            # Open the file\n",
    "            html_txt = open(folder + file, 'rb').read().decode('utf-8')\n",
    "            \n",
    "            # Remove the \\n, \\r and \\t characters\n",
    "            html_txt = html_txt.replace('\\r', '').replace('\\n', '').replace('\\t', '')\n",
    "            \n",
    "            # Find the ratings without the aspects\n",
    "            str_ = 'alt=\"Photo of ([^<]*)\"></a></div></div><div id=\"rating_fullview_content_2\">'\\\n",
    "            '<span class=\"BAscore_norm\">([^<]*)</span><span class=\"rAvg_norm\">/5</span>&nbsp;&nbsp;(.+?)'\\\n",
    "            '<br><br>(.+?)<span class=\"muted\"><a href=\"/community/members/(.+?)/\" class=\"username\">([^<]*)</a>, '\\\n",
    "            '<a href=\"/beer/profile/(\\d+)/(\\d+)/\\?ba=([^#]*)\\#review\">(.+?)</a></span>'\n",
    "\n",
    "            grp = re.finditer(str_, html_txt)\n",
    "            \n",
    "            for g in grp:\n",
    "                count += 1\n",
    "                # Get username and userid\n",
    "                user_name = g.group(6)\n",
    "                user_id = g.group(5)\n",
    "                \n",
    "                # Some user have been deleted and leave a weird trace\n",
    "                if user_name != '':\n",
    "                    \n",
    "                    # Get the \"final\" rating\n",
    "                    rating = float(g.group(2))\n",
    "                    \n",
    "                    # Check for the ratings of the aspects\n",
    "                    if 'overall' in g.group(3):\n",
    "                        str_2 = '<span class=\"muted\">look: (.+?) \\| smell: (.+?) \\| taste: (.+?) \\| feel: (.+?) \\|  overall: (.+?)</span>'\n",
    "                        grp2 = re.search(str_2, g.group(3))\n",
    "                        \n",
    "                        # Get the ratings for the different aspects\n",
    "                        appearance = float(grp2.group(1))\n",
    "                        aroma = float(grp2.group(2))\n",
    "                        taste = float(grp2.group(3))\n",
    "                        palate = float(grp2.group(4))\n",
    "                        overall = float(grp2.group(5))\n",
    "                    else:\n",
    "                        # Otherwise, they're all nan\n",
    "                        appearance = np.nan\n",
    "                        aroma = np.nan\n",
    "                        taste = np.nan\n",
    "                        palate = np.nan\n",
    "                        overall = np.nan\n",
    "\n",
    "                    # Get the date\n",
    "                    str_date = g.group(10)\n",
    "                    try:\n",
    "                        year = int(str_date.split(\",\")[1])\n",
    "                        month = time.strptime(str_date[0:3], '%b').tm_mon\n",
    "                        day = int(str_date.split(\",\")[0][4:])\n",
    "\n",
    "                    except IndexError:\n",
    "                        # Date written in a different way (ex: Tuesday at XX pm)\n",
    "\n",
    "                        # Get the day of the week\n",
    "                        weekday = str_date.split(' at ')[0]\n",
    "\n",
    "                        if weekday == 'Yesterday':\n",
    "                            delta = 1\n",
    "                        else:\n",
    "                            # Transform it to number\n",
    "                            day_nbr = parser.day_to_nbr[weekday]\n",
    "\n",
    "                            # Get last time when the file was modified\n",
    "                            last_modified = os.path.getmtime(folder+file) \n",
    "\n",
    "                            # Get the day of the week when the file was last modified\n",
    "                            dt = datetime.datetime.fromtimestamp(last_modified)\n",
    "                            this_day_nbr = dt.weekday()\n",
    "\n",
    "                            # Compute difference (modulo 7 days)\n",
    "                            if day_nbr > this_day_nbr:\n",
    "                                delta = this_day_nbr + 7 - day_nbr\n",
    "                            else:\n",
    "                                delta = this_day_nbr - day_nbr\n",
    "\n",
    "                        # Get the day when it was posted\n",
    "                        day_posted = dt - datetime.timedelta(days=delta)\n",
    "                        year = day_posted.year\n",
    "                        month = day_posted.month\n",
    "                        day = day_posted.day\n",
    "\n",
    "                    date = int(datetime.datetime(year, month, day, 12, 0).timestamp())\n",
    "\n",
    "                    # Check if there's some text\n",
    "                    if 'characters' in g.group(4):                  \n",
    "                        str_2 = '(.+?)<br>(.+?)<span class=\"muted\">(.+?) characters</span><br><br><div>'\n",
    "                        grp2 = re.search(str_2, g.group(4))\n",
    "\n",
    "                        # Get the text\n",
    "                        text = grp2.group(1).replace('<br />', '')\n",
    "                        nbr_char = int(grp2.group(3).replace(',', ''))\n",
    "                    else:\n",
    "                        nbr_char = np.nan\n",
    "                        text = np.nan\n",
    "\n",
    "                    # Write in the file ratings.txt.gz\n",
    "                    f_ratings.write('beer_name: {}\\n'.format(row['beer_name']).encode('utf-8'))\n",
    "                    f_ratings.write('beer_id: {:d}\\n'.format(row['beer_id']).encode('utf-8'))\n",
    "                    f_ratings.write('brewery_name: {}\\n'.format(row['brewery_name']).encode('utf-8'))\n",
    "                    f_ratings.write('brewery_id: {:d}\\n'.format(row['brewery_id']).encode('utf-8'))\n",
    "                    f_ratings.write('style: {}\\n'.format(row['style']).encode('utf-8'))\n",
    "                    f_ratings.write('abv: {}\\n'.format(row['abv']).encode('utf-8'))\n",
    "                    f_ratings.write('date: {:d}\\n'.format(date).encode('utf-8'))\n",
    "                    f_ratings.write('user_name: {}\\n'.format(user_name).encode('utf-8'))\n",
    "                    f_ratings.write('user_id: {}\\n'.format(user_id).encode('utf-8'))\n",
    "                    f_ratings.write('appearance: {}\\n'.format(appearance).encode('utf-8'))\n",
    "                    f_ratings.write('aroma: {}\\n'.format(aroma).encode('utf-8'))\n",
    "                    f_ratings.write('palate: {}\\n'.format(palate).encode('utf-8'))\n",
    "                    f_ratings.write('taste: {}\\n'.format(taste).encode('utf-8'))\n",
    "                    f_ratings.write('overall: {}\\n'.format(overall).encode('utf-8'))\n",
    "                    f_ratings.write('rating: {:.2f}\\n'.format(rating).encode('utf-8'))\n",
    "                    f_ratings.write('text: {}\\n'.format(text).encode('utf-8'))\n",
    "                    f_ratings.write('\\n'.encode('utf-8'))\n",
    "\n",
    "                    if nbr_char >= 150:\n",
    "                        # Write in the file reviews.txt.gz\n",
    "                        f_reviews.write('beer_name: {}\\n'.format(row['beer_name']).encode('utf-8'))\n",
    "                        f_reviews.write('beer_id: {:d}\\n'.format(row['beer_id']).encode('utf-8'))\n",
    "                        f_reviews.write('brewery_name: {}\\n'.format(row['brewery_name']).encode('utf-8'))\n",
    "                        f_reviews.write('brewery_id: {:d}\\n'.format(row['brewery_id']).encode('utf-8'))\n",
    "                        f_reviews.write('style: {}\\n'.format(row['style']).encode('utf-8'))\n",
    "                        f_reviews.write('abv: {}\\n'.format(row['abv']).encode('utf-8'))\n",
    "                        f_reviews.write('date: {:d}\\n'.format(date).encode('utf-8'))\n",
    "                        f_reviews.write('user_name: {}\\n'.format(user_name).encode('utf-8'))\n",
    "                        f_reviews.write('user_id: {}\\n'.format(user_id).encode('utf-8'))\n",
    "                        f_reviews.write('appearance: {}\\n'.format(appearance).encode('utf-8'))\n",
    "                        f_reviews.write('aroma: {}\\n'.format(aroma).encode('utf-8'))\n",
    "                        f_reviews.write('palate: {}\\n'.format(palate).encode('utf-8'))\n",
    "                        f_reviews.write('taste: {}\\n'.format(taste).encode('utf-8'))\n",
    "                        f_reviews.write('overall: {}\\n'.format(overall).encode('utf-8'))\n",
    "                        f_reviews.write('rating: {:.2f}\\n'.format(rating).encode('utf-8'))\n",
    "                        f_reviews.write('text: {}\\n'.format(text).encode('utf-8'))\n",
    "                        f_reviews.write('\\n'.encode('utf-8'))\n",
    "\n",
    "f_ratings.close()\n",
    "f_reviews.close()"
   ]
  },
  {
   "cell_type": "code",
   "execution_count": 78,
   "metadata": {
    "collapsed": false
   },
   "outputs": [
    {
     "data": {
      "text/plain": [
       "'Jul 12, 2015'"
      ]
     },
     "execution_count": 78,
     "metadata": {},
     "output_type": "execute_result"
    }
   ],
   "source": [
    "str_date"
   ]
  },
  {
   "cell_type": "code",
   "execution_count": 8,
   "metadata": {
    "collapsed": false
   },
   "outputs": [
    {
     "data": {
      "text/plain": [
       "7341"
      ]
     },
     "execution_count": 8,
     "metadata": {},
     "output_type": "execute_result"
    }
   ],
   "source": [
    "df['nbr_reviews'].sum()"
   ]
  },
  {
   "cell_type": "code",
   "execution_count": 9,
   "metadata": {
    "collapsed": false
   },
   "outputs": [
    {
     "data": {
      "text/plain": [
       "16941"
      ]
     },
     "execution_count": 9,
     "metadata": {},
     "output_type": "execute_result"
    }
   ],
   "source": [
    "df['nbr_ratings'].sum()"
   ]
  },
  {
   "cell_type": "code",
   "execution_count": 10,
   "metadata": {
    "collapsed": true
   },
   "outputs": [],
   "source": [
    "def parse(filename):\n",
    "    \"\"\"\n",
    "    Parse a txt.gz file and return a generator for it\n",
    "\n",
    "    Copyright © 2017 Gael Lederrey <gael.lederrey@epfl.ch>\n",
    "\n",
    "    :param filename: name of the file\n",
    "    :return: Generator to go through the file\n",
    "    \"\"\"\n",
    "    file = gzip.open(filename, 'rb')\n",
    "    entry = {}\n",
    "    # Go through all the lines\n",
    "    for line in file:\n",
    "        # Transform the string-bytes into a string\n",
    "        line = line.decode(\"utf-8\").strip()\n",
    "\n",
    "        # We check for a colon in each line\n",
    "        colon_pos = line.find(\":\")\n",
    "        if colon_pos == -1:\n",
    "            # if no, we yield the entry\n",
    "            yield entry\n",
    "            entry = {}\n",
    "            continue\n",
    "        # otherwise, we add the key-value pair to the entry\n",
    "        key = line[:colon_pos]\n",
    "        value = line[colon_pos + 2:]\n",
    "        entry[key] = value"
   ]
  },
  {
   "cell_type": "code",
   "execution_count": 12,
   "metadata": {
    "collapsed": false
   },
   "outputs": [
    {
     "name": "stdout",
     "output_type": "stream",
     "text": [
      "16932\n"
     ]
    }
   ],
   "source": [
    "grp = parse('../data/parsed/ratings.txt.gz')\n",
    "i = 0\n",
    "for g in grp:\n",
    "    i+=1\n",
    "print(i)"
   ]
  },
  {
   "cell_type": "code",
   "execution_count": null,
   "metadata": {
    "collapsed": true
   },
   "outputs": [],
   "source": []
  }
 ],
 "metadata": {
  "kernelspec": {
   "display_name": "Python 3",
   "language": "python",
   "name": "python3"
  },
  "language_info": {
   "codemirror_mode": {
    "name": "ipython",
    "version": 3
   },
   "file_extension": ".py",
   "mimetype": "text/x-python",
   "name": "python",
   "nbconvert_exporter": "python",
   "pygments_lexer": "ipython3",
   "version": "3.6.0"
  }
 },
 "nbformat": 4,
 "nbformat_minor": 2
}

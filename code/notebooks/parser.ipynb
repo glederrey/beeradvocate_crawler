{
 "cells": [
  {
   "cell_type": "markdown",
   "metadata": {},
   "source": [
    "# Parser for the BeerAdvocate websites\n",
    "\n",
    "In this notebook, we are parsing the HTML pages that are crawled with the other notebook."
   ]
  },
  {
   "cell_type": "code",
   "execution_count": 1,
   "metadata": {
    "collapsed": true
   },
   "outputs": [],
   "source": [
    "import os\n",
    "os.chdir('..')"
   ]
  },
  {
   "cell_type": "code",
   "execution_count": 2,
   "metadata": {
    "collapsed": true
   },
   "outputs": [],
   "source": [
    "from classes.helpers import *\n",
    "from classes.parser import *\n",
    "import pandas as pd\n",
    "import numpy as np\n",
    "import datetime\n",
    "import time\n",
    "import gzip\n",
    "\n",
    "# For the Python notebook\n",
    "%matplotlib inline\n",
    "%reload_ext autoreload\n",
    "%autoreload 2"
   ]
  },
  {
   "cell_type": "code",
   "execution_count": 3,
   "metadata": {
    "collapsed": false
   },
   "outputs": [],
   "source": [
    "parser = Parser()"
   ]
  },
  {
   "cell_type": "markdown",
   "metadata": {},
   "source": [
    "# Parse the breweries from the places"
   ]
  },
  {
   "cell_type": "code",
   "execution_count": 5,
   "metadata": {
    "collapsed": false
   },
   "outputs": [],
   "source": [
    "parser.parse_breweries_from_places()"
   ]
  },
  {
   "cell_type": "markdown",
   "metadata": {},
   "source": [
    "# Add missing breweries"
   ]
  },
  {
   "cell_type": "code",
   "execution_count": 4,
   "metadata": {
    "collapsed": false
   },
   "outputs": [],
   "source": [
    "parser.parse_missing_breweries()"
   ]
  },
  {
   "cell_type": "markdown",
   "metadata": {},
   "source": [
    "# Parse the breweries page to get the number of beers"
   ]
  },
  {
   "cell_type": "code",
   "execution_count": 5,
   "metadata": {
    "collapsed": false
   },
   "outputs": [],
   "source": [
    "parser.parse_breweries_files_for_number()"
   ]
  },
  {
   "cell_type": "markdown",
   "metadata": {},
   "source": [
    "# Parse the breweries page to get the beers"
   ]
  },
  {
   "cell_type": "code",
   "execution_count": 4,
   "metadata": {
    "collapsed": false
   },
   "outputs": [],
   "source": [
    "parser.parse_breweries_files_for_beers()"
   ]
  },
  {
   "cell_type": "markdown",
   "metadata": {},
   "source": [
    "# Parse the beer files for information"
   ]
  },
  {
   "cell_type": "code",
   "execution_count": 43,
   "metadata": {
    "collapsed": false
   },
   "outputs": [],
   "source": [
    "parser.parse_beer_files_for_information()"
   ]
  },
  {
   "cell_type": "markdown",
   "metadata": {},
   "source": [
    "# Parse the beer files for the reviews"
   ]
  },
  {
   "cell_type": "code",
   "execution_count": 4,
   "metadata": {
    "collapsed": false
   },
   "outputs": [],
   "source": [
    "df = pd.read_csv(parser.data_folder + '/parsed/beers2.csv')"
   ]
  },
  {
   "cell_type": "code",
   "execution_count": 334,
   "metadata": {
    "collapsed": false,
    "scrolled": false
   },
   "outputs": [
    {
     "name": "stdout",
     "output_type": "stream",
     "text": [
      "\n",
      "0.html\n",
      "Jerseyislandbeer\n",
      "AlexAfonin\n",
      "R_Kole\n",
      "weirdohappy\n",
      "Allegue04\n",
      "Dentist666\n",
      "JAFoley\n",
      "titvs\n",
      "patre_tim\n",
      "lelepat\n",
      "Lawleit150percent\n",
      "BrickOneal\n",
      "dipso123\n",
      "Hyperionecta\n",
      "Azpittil57\n",
      "pin\n",
      "Jamestregenza\n",
      "igl\n",
      "Spike\n",
      "SmashPants\n",
      "BrazilianAussie\n",
      "wl0307\n",
      "ChrisCage\n",
      "GarthT\n",
      "LeeroyAgogo\n",
      "\n",
      "25.html\n",
      "mjstacker\n",
      "LathouXaris\n",
      "drinkinmiles\n",
      "FadetoBock\n",
      "Haybeerman\n",
      "Chepe\n",
      "cfalovo97\n",
      "SFC21\n",
      "Vyronian\n",
      "Molson2000\n",
      "WeissBoy\n",
      "RedAleMan\n",
      "Wordslinger\n",
      "cammo84\n",
      "magpieken\n",
      "puboflyons\n",
      "PolarBear3\n",
      "doktorhops\n",
      "admiral\n",
      "LiquidAmber\n",
      "jdhilt\n",
      "Digimaika2\n",
      "Cylinsier\n",
      "thehyperduck\n",
      "decimator\n",
      "\n",
      "50.html\n",
      "JoeyRamone\n",
      "Rlombardi75\n",
      "galluch\n",
      "kelvarnsen\n",
      "IronDjinn\n",
      "wordemupg\n",
      "BDTyre\n",
      "biboergosum\n",
      "Shadman\n",
      "Phyl21ca\n",
      "andrenaline\n",
      "spinrsx\n",
      "shamus\n",
      "Roke87\n",
      "hopsolutely\n",
      "AgentZero\n",
      "bryehn\n",
      "JohnnyBarman\n",
      "Sammy\n",
      "cyrenaica\n",
      "biegaman\n",
      "MasterSki\n",
      "TheSevenDuffs\n",
      "liamt07\n",
      "\n",
      "75.html\n",
      "mintjellie\n",
      "peensteen\n",
      "paxkey\n",
      "kwjd\n",
      "MrKennedy\n"
     ]
    }
   ],
   "source": [
    "# Open the GZIP file\n",
    "f_ratings = gzip.open(parser.data_folder + 'parsed/ratings.txt.gz', 'wb')\n",
    "f_reviews = gzip.open(parser.data_folder + 'parsed/reviews.txt.gz', 'wb')\n",
    "\n",
    "weird_rat = 0\n",
    "weird_rev = 0\n",
    "\n",
    "for i in df.index:\n",
    "    row = df.ix[i]\n",
    "    rats = row['nbr_ratings']\n",
    "    count = 0\n",
    "    \n",
    "    # Check that this beer has at least 1 rating\n",
    "    if row['nbr_ratings'] > 0:    \n",
    "        \n",
    "        folder = parser.data_folder + 'beers/{}/{}/'.format(row['brewery_id'], row['beer_id'])\n",
    "        \n",
    "        list_ = os.listdir(folder)\n",
    "        list_.sort()\n",
    "\n",
    "        for file in list_:\n",
    "            \n",
    "            if folder == folder_to_watch:\n",
    "                print()\n",
    "                print(file)\n",
    "            \n",
    "            # Open the file\n",
    "            html_txt = open(folder + file, 'rb').read().decode('utf-8')\n",
    "            \n",
    "            # Remove the \\n, \\r and \\t characters\n",
    "            html_txt = html_txt.replace('\\r', '').replace('\\n', '').replace('\\t', '')\n",
    "\n",
    "            # Find the ratings without the aspects\n",
    "            str_ = 'alt=\"Photo of ([^<]*)\"></a></div></div><div id=\"rating_fullview_content_2\">'\\\n",
    "            '<span class=\"BAscore_norm\">([^<]*)</span><span class=\"rAvg_norm\">/5</span>&nbsp;&nbsp;([^|]+?)'\\\n",
    "            '<br><br>(.+?)<span class=\"muted\"><a href=\"/community/members/(.+?)/\" class=\"username\">([^<]*)</a>, '\\\n",
    "            '<a href=\"/beer/profile/(\\d+)/(\\d+)/\\?ba=([^#]*)\\#review\">(.+?)</a></span>'\n",
    "\n",
    "            grp = re.finditer(str_, html_txt)\n",
    "            \n",
    "            for g in grp:\n",
    "                count += 1\n",
    "                # Get username and userid\n",
    "                user_name = g.group(6)\n",
    "                user_id = g.group(5)\n",
    "                \n",
    "                if user_name == '':\n",
    "                    weird_rat += 1\n",
    "                \n",
    "                # Some user have been deleted and leave a weird trace\n",
    "                if user_name != '':\n",
    "                    if folder == folder_to_watch:\n",
    "                        print(user_name)\n",
    "\n",
    "                    # Get the rating\n",
    "                    rating = float(g.group(2))\n",
    "\n",
    "                    # Get the date\n",
    "                    str_date = g.group(10)\n",
    "                    try:\n",
    "                        year = int(str_date.split(\",\")[1])\n",
    "                        month = time.strptime(str_date[0:3], '%b').tm_mon\n",
    "                        day = int(str_date.split(\",\")[0][4:])\n",
    "\n",
    "                    except IndexError:\n",
    "                        # Date written in a different way\n",
    "\n",
    "                        # Get the day of the week\n",
    "                        weekday = str_date.split(' at ')[0]\n",
    "\n",
    "                        if weekday == 'Yesterday':\n",
    "                            delta = 1\n",
    "                        else:\n",
    "                            # Transform it to number\n",
    "                            day_nbr = parser.day_to_nbr[weekday]\n",
    "\n",
    "                            # Get last time when the file was modified\n",
    "                            last_modified = os.path.getmtime(folder+file) \n",
    "\n",
    "                            # Get the day of the week when the file was last modified\n",
    "                            dt = datetime.datetime.fromtimestamp(last_modified)\n",
    "                            this_day_nbr = dt.weekday()\n",
    "\n",
    "                            # Compute difference (modulo 7 days)\n",
    "                            if day_nbr > this_day_nbr:\n",
    "                                delta = this_day_nbr + 7 - day_nbr\n",
    "                            else:\n",
    "                                delta = this_day_nbr - day_nbr\n",
    "\n",
    "                        # Get the day when it was posted\n",
    "                        day_posted = dt - datetime.timedelta(days=delta)\n",
    "                        year = day_posted.year\n",
    "                        month = day_posted.month\n",
    "                        day = day_posted.day\n",
    "\n",
    "                    date = int(datetime.datetime(year, month, day, 12, 0).timestamp())\n",
    "\n",
    "                    # Check if there's some text\n",
    "                    if 'characters' in g.group(5):                  \n",
    "                        str_2 = '(.+?)<br>(.+?)<span class=\"muted\">(.+?) characters</span><br><br><div>'\n",
    "                        grp2 = re.search(str_2, g.group(4))\n",
    "\n",
    "                        # Get the text\n",
    "                        text = grp2.group(1).replace('<br />', '')\n",
    "                        nbr_char = int(grp2.group(3).replace(',', ''))\n",
    "                    else:\n",
    "                        nbr_char = np.nan\n",
    "                        text = np.nan\n",
    "\n",
    "                    # Write in the file ratings.txt.gz\n",
    "                    f_ratings.write('beer_name: {}\\n'.format(row['beer_name']).encode('utf-8'))\n",
    "                    f_ratings.write('beer_id: {:d}\\n'.format(row['beer_id']).encode('utf-8'))\n",
    "                    f_ratings.write('brewery_name: {}\\n'.format(row['brewery_name']).encode('utf-8'))\n",
    "                    f_ratings.write('brewery_id: {:d}\\n'.format(row['brewery_id']).encode('utf-8'))\n",
    "                    f_ratings.write('style: {}\\n'.format(row['style']).encode('utf-8'))\n",
    "                    f_ratings.write('abv: {}\\n'.format(row['abv']).encode('utf-8'))\n",
    "                    f_ratings.write('date: {:d}\\n'.format(date).encode('utf-8'))\n",
    "                    f_ratings.write('user_name: {}\\n'.format(user_name).encode('utf-8'))\n",
    "                    f_ratings.write('user_id: {}\\n'.format(user_id).encode('utf-8'))\n",
    "                    f_ratings.write('appearance: {}\\n'.format(np.nan).encode('utf-8'))\n",
    "                    f_ratings.write('aroma: {}\\n'.format(np.nan).encode('utf-8'))\n",
    "                    f_ratings.write('palate: {}\\n'.format(np.nan).encode('utf-8'))\n",
    "                    f_ratings.write('taste: {}\\n'.format(np.nan).encode('utf-8'))\n",
    "                    f_ratings.write('overall: {}\\n'.format(np.nan).encode('utf-8'))\n",
    "                    f_ratings.write('rating: {:.2f}\\n'.format(rating).encode('utf-8'))\n",
    "                    f_ratings.write('text: {}\\n'.format(text).encode('utf-8'))\n",
    "                    f_ratings.write('\\n'.encode('utf-8'))\n",
    "\n",
    "                    if nbr_char >= 150:\n",
    "                        # Write in the file reviews.txt.gz\n",
    "                        f_reviews.write('beer_name: {}\\n'.format(row['beer_name']).encode('utf-8'))\n",
    "                        f_reviews.write('beer_id: {:d}\\n'.format(row['beer_id']).encode('utf-8'))\n",
    "                        f_reviews.write('brewery_name: {}\\n'.format(row['brewery_name']).encode('utf-8'))\n",
    "                        f_reviews.write('brewery_id: {:d}\\n'.format(row['brewery_id']).encode('utf-8'))\n",
    "                        f_reviews.write('style: {}\\n'.format(row['style']).encode('utf-8'))\n",
    "                        f_reviews.write('abv: {}\\n'.format(row['abv']).encode('utf-8'))\n",
    "                        f_reviews.write('date: {:d}\\n'.format(date).encode('utf-8'))\n",
    "                        f_reviews.write('user_name: {}\\n'.format(user_name).encode('utf-8'))\n",
    "                        f_reviews.write('user_id: {}\\n'.format(user_id).encode('utf-8'))\n",
    "                        f_reviews.write('appearance: {}\\n'.format(np.nan).encode('utf-8'))\n",
    "                        f_reviews.write('aroma: {}\\n'.format(np.nan).encode('utf-8'))\n",
    "                        f_reviews.write('palate: {}\\n'.format(np.nan).encode('utf-8'))\n",
    "                        f_reviews.write('taste: {}\\n'.format(np.nan).encode('utf-8'))\n",
    "                        f_reviews.write('overall: {}\\n'.format(np.nan).encode('utf-8'))\n",
    "                        f_reviews.write('rating: {:.2f}\\n'.format(rating).encode('utf-8'))\n",
    "                        f_reviews.write('text: {}\\n'.format(text).encode('utf-8'))\n",
    "                        f_reviews.write('\\n'.encode('utf-8'))\n",
    "                \n",
    "            # Find the reviews (with text and aspects)\n",
    "            str_ = 'alt=\"Photo of ([^<]*)\"></a></div></div><div id=\"rating_fullview_content_2\">'\\\n",
    "            '<span class=\"BAscore_norm\">([^<]*)</span><span class=\"rAvg_norm\">/5</span>&nbsp;&nbsp;([^%]+?)%(?:</span>)?' \\\n",
    "            '<br><span class=\"muted\">look: ([^<]*) \\| smell: ([^<]*) \\| taste: ([^<]*) \\| feel: ([^<]*) \\|  ' \\\n",
    "            'overall: ([^<]*)</span><br><br>(.+?)<span class=\"muted\"><a href=\"/community/members/(.+?)/\" ' \\\n",
    "            'class=\"username\">([^<]*)</a>, <a href=\"/beer/profile/(\\d+)/(\\d+)/\\?ba=([^<]*)\\#review\">([^<]+?)</a></span>'\n",
    "            \n",
    "            grp = re.finditer(str_, html_txt)\n",
    "            \n",
    "            for g in grp:\n",
    "                count += 1\n",
    "                # Username and userid\n",
    "                user_id = g.group(10)\n",
    "                user_name = g.group(11)\n",
    "                \n",
    "                if user_name == '':\n",
    "                    weird_ra += 1\n",
    "                \n",
    "                # Some user have been deleted and leave a weird trace\n",
    "                if user_name != '':                \n",
    "                    # Get the ratings\n",
    "                    rating = float(g.group(2))\n",
    "                    appearance = float(g.group(4))\n",
    "                    aroma = float(g.group(5))\n",
    "                    taste = float(g.group(6))\n",
    "                    palate = float(g.group(7))\n",
    "                    overall = float(g.group(8))\n",
    "\n",
    "                    # Check if there's some text\n",
    "                    if 'characters' in g.group(9):                  \n",
    "                        str_2 = '(.+?)<br>(.+?)<span class=\"muted\">(.+?) characters</span><br><br><div>'\n",
    "                        grp2 = re.search(str_2, g.group(9))\n",
    "\n",
    "                        # Get the text\n",
    "                        text = grp2.group(1).replace('<br />', '')\n",
    "                        nbr_char = int(grp2.group(3).replace(',', ''))\n",
    "                    else:\n",
    "                        nbr_char = np.nan\n",
    "                        text = np.nan\n",
    "                    \n",
    "                \n",
    "                    if folder == folder_to_watch:\n",
    "                        print(user_name)\n",
    "\n",
    "                    # Date\n",
    "                    str_date = g.group(15)\n",
    "                    try:\n",
    "                        year = int(str_date.split(\",\")[1])\n",
    "                        month = time.strptime(str_date[0:3], '%b').tm_mon\n",
    "                        day = int(str_date.split(\",\")[0][4:])\n",
    "\n",
    "                    except IndexError:\n",
    "                        # Date written in a different way\n",
    "\n",
    "                        # Get the day of the week\n",
    "                        weekday = str_date.split(' at ')[0]\n",
    "\n",
    "                        if weekday == 'Yesterday':\n",
    "                            delta = 1\n",
    "                        else:\n",
    "                            # Transform it to number\n",
    "                            day_nbr = parser.day_to_nbr[weekday]\n",
    "\n",
    "                            # Get last time when the file was modified\n",
    "                            last_modified = os.path.getmtime(folder+file) \n",
    "\n",
    "                            # Get the day of the week when the file was last modified\n",
    "                            dt = datetime.datetime.fromtimestamp(last_modified)\n",
    "                            this_day_nbr = dt.weekday()\n",
    "\n",
    "                            # Compute difference (modulo 7 days)\n",
    "                            if day_nbr > this_day_nbr:\n",
    "                                delta = this_day_nbr + 7 - day_nbr\n",
    "                            else:\n",
    "                                delta = this_day_nbr - day_nbr\n",
    "\n",
    "                        # Get the day when it was posted\n",
    "                        day_posted = dt - datetime.timedelta(days=delta)\n",
    "                        year = day_posted.year\n",
    "                        month = day_posted.month\n",
    "                        day = day_posted.day\n",
    "\n",
    "                    date = int(datetime.datetime(year, month, day, 12, 0).timestamp())\n",
    "\n",
    "                    # Write in the file ratings.txt.gz\n",
    "                    f_ratings.write('beer_name: {}\\n'.format(row['beer_name']).encode('utf-8'))\n",
    "                    f_ratings.write('beer_id: {:d}\\n'.format(row['beer_id']).encode('utf-8'))\n",
    "                    f_ratings.write('brewery_name: {}\\n'.format(row['brewery_name']).encode('utf-8'))\n",
    "                    f_ratings.write('brewery_id: {:d}\\n'.format(row['brewery_id']).encode('utf-8'))\n",
    "                    f_ratings.write('style: {}\\n'.format(row['style']).encode('utf-8'))\n",
    "                    f_ratings.write('abv: {}\\n'.format(row['abv']).encode('utf-8'))\n",
    "                    f_ratings.write('date: {:d}\\n'.format(date).encode('utf-8'))\n",
    "                    f_ratings.write('user_name: {}\\n'.format(user_name).encode('utf-8'))\n",
    "                    f_ratings.write('user_id: {}\\n'.format(user_id).encode('utf-8'))\n",
    "                    f_ratings.write('appearance: {}\\n'.format(appearance).encode('utf-8'))\n",
    "                    f_ratings.write('aroma: {}\\n'.format(aroma).encode('utf-8'))\n",
    "                    f_ratings.write('palate: {}\\n'.format(palate).encode('utf-8'))\n",
    "                    f_ratings.write('taste: {}\\n'.format(taste).encode('utf-8'))\n",
    "                    f_ratings.write('overall: {}\\n'.format(overall).encode('utf-8'))\n",
    "                    f_ratings.write('rating: {:.2f}\\n'.format(rating).encode('utf-8'))\n",
    "                    f_ratings.write('text: {}\\n'.format(text).encode('utf-8'))\n",
    "                    f_ratings.write('\\n'.encode('utf-8'))\n",
    "\n",
    "                    if nbr_char >= 150:\n",
    "                        # Write in the file reviews.txt.gz\n",
    "                        f_reviews.write('beer_name: {}\\n'.format(row['beer_name']).encode('utf-8'))\n",
    "                        f_reviews.write('beer_id: {:d}\\n'.format(row['beer_id']).encode('utf-8'))\n",
    "                        f_reviews.write('brewery_name: {}\\n'.format(row['brewery_name']).encode('utf-8'))\n",
    "                        f_reviews.write('brewery_id: {:d}\\n'.format(row['brewery_id']).encode('utf-8'))\n",
    "                        f_reviews.write('style: {}\\n'.format(row['style']).encode('utf-8'))\n",
    "                        f_reviews.write('abv: {}\\n'.format(row['abv']).encode('utf-8'))\n",
    "                        f_reviews.write('date: {:d}\\n'.format(date).encode('utf-8'))\n",
    "                        f_reviews.write('user_name: {}\\n'.format(user_name).encode('utf-8'))\n",
    "                        f_reviews.write('user_id: {}\\n'.format(user_id).encode('utf-8'))\n",
    "                        f_reviews.write('appearance: {}\\n'.format(appearance).encode('utf-8'))\n",
    "                        f_reviews.write('aroma: {}\\n'.format(aroma).encode('utf-8'))\n",
    "                        f_reviews.write('palate: {}\\n'.format(palate).encode('utf-8'))\n",
    "                        f_reviews.write('taste: {}\\n'.format(taste).encode('utf-8'))\n",
    "                        f_reviews.write('overall: {}\\n'.format(overall).encode('utf-8'))\n",
    "                        f_reviews.write('rating: {:.2f}\\n'.format(rating).encode('utf-8'))\n",
    "                        f_reviews.write('text: {}\\n'.format(text).encode('utf-8'))\n",
    "                        f_reviews.write('\\n'.encode('utf-8'))\n",
    "            \n",
    "            if folder == folder_to_watch:\n",
    "                if file == '50.html' and False:\n",
    "                    asd\n",
    "                    \n",
    "    if count < rats:\n",
    "        asd\n",
    "\n",
    "f_ratings.close()\n",
    "f_reviews.close()"
   ]
  },
  {
   "cell_type": "code",
   "execution_count": 332,
   "metadata": {
    "collapsed": false
   },
   "outputs": [
    {
     "data": {
      "text/plain": [
       "75"
      ]
     },
     "execution_count": 332,
     "metadata": {},
     "output_type": "execute_result"
    }
   ],
   "source": [
    "count"
   ]
  },
  {
   "cell_type": "code",
   "execution_count": 333,
   "metadata": {
    "collapsed": false
   },
   "outputs": [
    {
     "data": {
      "text/plain": [
       "80"
      ]
     },
     "execution_count": 333,
     "metadata": {},
     "output_type": "execute_result"
    }
   ],
   "source": [
    "rats"
   ]
  },
  {
   "cell_type": "code",
   "execution_count": 306,
   "metadata": {
    "collapsed": false
   },
   "outputs": [
    {
     "data": {
      "text/plain": [
       "'../data/beers/20776/69185/50.html'"
      ]
     },
     "execution_count": 306,
     "metadata": {},
     "output_type": "execute_result"
    }
   ],
   "source": [
    "folder + file"
   ]
  },
  {
   "cell_type": "code",
   "execution_count": 302,
   "metadata": {
    "collapsed": false
   },
   "outputs": [],
   "source": [
    "folder_to_watch = folder"
   ]
  },
  {
   "cell_type": "code",
   "execution_count": 307,
   "metadata": {
    "collapsed": false
   },
   "outputs": [
    {
     "data": {
      "text/plain": [
       "'<!DOCTYPE html><html id=\"XenForo\" lang=\"en-US\" dir=\"LTR\" class=\"Public NoJs uix_javascriptNeedsInit LoggedOut Sidebar  Responsive pageIsLtr   not_hasTabLinks  hasSearch   is-sidebarOpen hasRightSidebar is-setWidth navStyle_3 pageStyle_0 hasFlexbox\" xmlns:fb=\"http://www.facebook.com/2008/fbml\"><head><meta charset=\"utf-8\" /><meta http-equiv=\"X-UA-Compatible\" content=\"IE=Edge,chrome=1\" /><meta name=\"viewport\" content=\"width=device-width, initial-scale=1\" /><base href=\"https://www.beeradvocate.com/community/\" /><script>var _b = document.getElementsByTagName(\\'base\\')[0], _bH = \"https://www.beeradvocate.com/community/\";if (_b && _b.href != _bH) _b.href = _bH;</script><title>Golden | The Celt Experience | Page 3 | BeerAdvocate</title><noscript><style>.JsOnly, .jsOnly { display: none !important; }</style></noscript><link rel=\"stylesheet\" href=\"css.php?css=xenforo,form,public&amp;style=7&amp;dir=LTR&amp;d=1501014892\" /><link rel=\"stylesheet\" href=\"css.php?css=login_bar,moderator_bar,notices,uix_extendedFooter&amp;style=7&amp;dir=LTR&amp;d=1501014892\" /><link rel=\"stylesheet\" href=\"css.php?css=uix,uix_style&amp;style=7&amp;dir=LTR&amp;d=1501014892\" /><style>/*** UIX -- PER USER STYLES ***/</style><link rel=\"stylesheet\" href=\"css.php?css=EXTRA&amp;style=7&amp;dir=LTR&amp;d=1501014892\" /><style>/* Node Styling */</style><script>(function(i,s,o,g,r,a,m){i[\\'GoogleAnalyticsObject\\']=r;i[r]=i[r]||function(){(i[r].q=i[r].q||[]).push(arguments)},i[r].l=1*new Date();a=s.createElement(o),m=s.getElementsByTagName(o)[0];a.async=1;a.src=g;m.parentNode.insertBefore(a,m)})(window,document,\\'script\\',\\'https://www.google-analytics.com/analytics.js\\',\\'ga\\');ga(\\'create\\', \\'UA-1066712-1\\', \\'beeradvocate.com\\', {\\'cookieDomain\\': \\'www.beeradvocate.com\\'});ga(\\'send\\', \\'pageview\\');</script><link href=\"styles/uix/uix/css/font-awesome.min.css\" rel=\"stylesheet\"><link href=\\'//fonts.googleapis.com/css?family=Open+Sans:300,400,700,600\\' rel=\\'stylesheet\\' type=\\'text/css\\'><script src=\"https://ajax.googleapis.com/ajax/libs/jquery/1.11.0/jquery.min.js\"></script><script>if (!window.jQuery) { document.write(\\'<scr\\'+\\'ipt type=\"text/javascript\" src=\"js/jquery/jquery-1.11.0.min.js\"><\\\\/scr\\'+\\'ipt>\\'); }</script><script src=\"js/xenforo/xenforo.js?_v=830fbda5\"></script><!--[if lt IE 9]>         <script src=\"//cdnjs.cloudflare.com/ajax/libs/html5shiv/3.7.2/html5shiv.min.js\"></script>                <script src=\"//cdnjs.cloudflare.com/ajax/libs/respond.js/1.4.2/respond.js\"></script>                <script src=\"//cdnjs.cloudflare.com/ajax/libs/selectivizr/1.0.2/selectivizr-min.js\"></script><![endif]--><script>uix = {elm: {},fn:{},init: function(){if (uix.betaMode) {console.group(\\'uix.%cinit()\\', \\'color:#3498DB\\');}for(var x=0;x<uix.events.init.length;x++){uix.events.init[x]()  }  console.groupEnd(\\'uix.%cinit()\\',\\'color:#3498DB\\')},  events: {init:[]},  on: function(event, fn){  if(event==\\'init\\'){  uix.events.init.push(fn)  }  },betaMode: parseInt(\\'0\\'),jsPathUsed: \\'uix_style\\',jsGlobal: parseInt(\\'0\\'),  version: \\'1.5.8.1_custom\\',  jsHeadVersion: \\'1.5.14.0\\',  addonVersion: \\'1010270\\',  jsCacheBust: \\'1\\',  contentTemplate: \\'bridge_page\\',javascriptInitHide: parseInt(\\'1\\'),globalPadding : parseInt(\\'16px\\'),sidebarWidth: parseInt(\\'300px\\'),mainContainerMargin          : \\'316px\\',maxResponsiveWideWidth   : parseInt(\\'850px\\'),maxResponsiveMediumWidth : parseInt(\\'610px\\'),maxResponsiveNarrowWidth : parseInt(\\'480px\\'),sidebarMaxResponsiveWidth: parseInt(\\'850px\\'),responsiveMessageBreakpoint: parseInt(\\'610px\\'),sidebarMaxResponsiveWidthStr: \\'850px\\',offCanvasRightTriggerWidth: parseInt(\\'850px\\'),offCanvasLeftTriggerWidth: parseInt(\\'850px\\'),offCanvasNavTriggerWidth: parseInt(\\'850px\\'),offCanvasVisitorTriggerWidth: parseInt(\\'850px\\'),offcanvasTriggerAnimationDuration: parseInt(\\'300ms\\'),dropdownMenuAnimationSpeed: parseInt(\\'0ms\\'),inlineAlertBalloons: (parseInt(\\'1\\') && !parseInt(\\'1\\')) || parseInt(\\'1\\'),jumpToFixedDelayHide: parseInt(\\'1\\'),stickyNavigationMinWidth : parseInt(\\'0\\'),stickyNavigationMinHeight: parseInt(\\'600\\'),stickyNavigationMaxWidth : parseInt(\\'0\\'),stickyNavigationMaxHeight: parseInt(\\'0\\'),stickyNavigationPortraitMinWidth : parseInt(\\'320\\'),stickyNavigationPortraitMinHeight: parseInt(\\'500\\'),stickyNavigationPortraitMaxWidth : parseInt(\\'0\\'),stickyNavigationPortraitMaxHeight: parseInt(\\'0\\'),stickySidebar : 1,sidebarInnerFloat: \"right\",RTL: 0,stickyItems : {},stickyGlobalMinimumPosition: parseInt(\\'200px\\'),stickyGlobalScrollUp: parseInt(\\'0\\'),stickyDisableIOSThirdParty: parseInt(\\'1\\'),preventAlwaysSticky: parseInt(\\'0\\'),searchMinimalSize: parseInt(\\'610px\\'),searchPosition: parseInt(\\'3\\'),nodeStyle: parseInt(\\'1\\'),pageStyle: parseInt(\\'0\\'),enableBorderCheck: parseInt(\\'1\\'),enableULManager: parseInt(\\'1\\'),threadSlidingAvatar: parseInt(\\'0\\'),threadSlidingExtra: parseInt(\\'0\\'),threadSlidingHover: parseInt(\\'0\\'),threadSlidingStaffShow: parseInt(\\'1\\'),threadSlidingGlobalEnable: parseInt(\\'1\\'),signatureHidingEnabled: parseInt(\\'0\\'),signatureHidingEnabledAddon: parseInt(\\'1\\'),signatureMaxHeight: parseInt(\\'100px\\'),signatureHoverEnabled: parseInt(\\'0\\'),enableStickyFooter : parseInt(\\'1\\'),stickyFooterBottomOffset : parseInt(\\'16px\\') * 2,sidebarStickyBottomOffset: parseInt(0),  offCanvasSidebar: 1,offCanvasSidebarVisitorTabs: 1,offcanvasLeftStatic: 1 && parseInt(\\'0\\') && parseInt(\\'1\\'),offcanvasRightStatic: 0 && parseInt(\\'0\\') && parseInt(\\'1\\'),offcanvasLeftStaticBreakpoint: parseInt(\\'1300px\\'),offcanvasRightStaticBreakpoint: parseInt(\\'1300px\\'),reinsertWelcomeBlock: parseInt(\\'0\\'),sidebarCookieExpire: \\'\\',canCollapseSidebar: \\'\\',cookiePrefix: \\'xf_\\',sidebarLocation : parseInt(\\'0\\'),collapsibleSidebar: parseInt(\\'1\\'),collapsedNodesDefault: \\'\\',nodeGridCollapseEnabled: parseInt(\\'1\\'),widthToggleUpper: \\'100%\\',widthToggleLower: \\'1170px\\',toggleWidthEnabled: parseInt(\\'0\\'),toggleWidthBreakpoint: parseInt(\\'1202\\'),collapsibleNodes: parseInt(\\'0\\'),collapsibleSticky: parseInt(\\'0\\'),ajaxWidthToggleLink: \\'uix/toggle-width\\',ajaxStickyThreadToggleLink: \\'uix/toggle-sticky-threads\\',ajaxStickyThreadExpandLink: \\'uix/expand-sticky-threads\\',ajaxStickyThreadCollapseLink: \\'uix/collapse-sticky-threads\\',ajaxSidebarToggleLink: \\'uix/toggle-sidebar\\',stickySidebarDelayInit: parseInt(\\'1\\'),stickySidebarLegacy: parseInt(\\'0\\'),stickySidebarDisableIOS: parseInt(\\'1\\'),user: {\\'themeName\\': \\'BeerAdvocate\\',\\'-themeParents\\': \\'7,6,4,0\\',\\'-themeModified\\': \\'1501014892\\',\\'-themeSelectable\\': \\'1\\',languageName: \\'English (US)\\',stickyEnableUserbar: (parseInt(\\'\\') == parseInt(\\'\\')) ? parseInt(\\'\\') : true,stickyEnableNav: (parseInt(\\'\\') == parseInt(\\'\\')) ? parseInt(\\'\\') : true,stickyEnableSidebar: (parseInt(\\'\\') == parseInt(\\'\\')) ? parseInt(\\'\\') : true,widthToggleState: (parseInt(\\'\\') == parseInt(\\'\\')) ? parseInt(\\'\\') : parseInt(\\'0\\'),stickyThreadsState: (parseInt(\\'\\') == parseInt(\\'\\')) ? (parseInt(\\'\\') > 0) : 0,sidebarState: 0,collapseUserInfo : 1,signatureHiding : 1,isAdmin: parseInt(\\'0\"\\')}};if(uix.stickyNavigationMaxWidth == 0){uix.stickyNavigationMaxWidth = 999999}if(uix.stickyNavigationMaxHeight == 0){uix.stickyNavigationMaxHeight = 999999}if(uix.stickyNavigationPortraitMaxWidth == 0){uix.stickyNavigationPortraitMaxWidth = 999999}if(uix.stickyNavigationPortraitMaxHeight == 0){uix.stickyNavigationPortraitMaxHeight = 999999}uix.stickyItems[\\'#navigation\\'] = {normalHeight:parseInt(\\'40\\'), stickyHeight:parseInt(\\'40\\')}var subElement = null;uix.stickyItems[\\'#navigation\\'].options = {scrollSticky: uix.stickyGlobalScrollUp }$(document).ready(function() {if ( $(\\'#userBar\\').length ) {uix.stickyItems[\\'#userBar\\']= {normalHeight:parseInt(\\'40\\'), stickyHeight:parseInt(\\'40\\')}uix.stickyItems[\\'#userBar\\'].options = {scrollSticky: uix.stickyGlobalScrollUp }}});$(document).ready(function(){//put jquery code here});uix.debug = function() {result = \"\\\\n\\\\n############============   Begin Copying Here   ============############\\\\n\\\\n\";result += \"Error: the functions file was not found.\";result += \"\\\\n\\\\n############============   End Copying Here   ============############\\\\n\\\\n\";uix.fixJsVisibility();console.log(result);}</script><script src=\"js/audentio/uix_style/functions.min.js?_v=830fbda5_1.5.8.1_custom_1\"></script><script>uix.adminJsError = function(errMsg) {console.error(errMsg);}uix.fixJsVisibility = function() {var userBar = $(\\'.hasJs #userBar\\');var nodeList = $(\\'.hasJs #forums, .hasJs .category_view .nodeList, .hasJs .watch_forums .nodeList\\');var panels = $(\\'.js-uix_panels\\')if (userBar.length) userBar.css(\\'display\\', \\'block\\');if (nodeList.length) nodeList.css(\\'visibility\\', \\'visible\\');if (panels.length) $(\\'.js-uix_panels\\').removeClass(\\'needsInit\\');$(\\'html\\').removeClass(\\'uix_javascriptNeedsInit\\');}uix.catchJsError = function(err) {console.log(\"\\\\n\\\\n############============   Begin Copying Here   ============############\\\\n\\\\n\")var errMsg = \"Uh Oh!  It looks like there\\'s an error in your page\\'s javascript.  There will likely be significant issues with the use of the forum until this is corrected.  If you are unable to resolve this and believe it is due to a bug in your Audentio Design theme, contact Audentio support and include a copy of the text between the designated areas from your javascript console.  This is the error: \\\\n\\\\n\" + err ;uix.fixJsVisibility();uix.adminJsError(errMsg);console.log(\"\\\\n\\\\n\");console.log(err);console.log(\"\\\\n\\\\n\");try {uix.debug(true);} catch (err) {console.log(\"Unable to include uix.debug();\");}console.log(\"\\\\n\\\\n############============   End Copying Here   ============############\\\\n\\\\n\");}$(document).ready(function(){if (typeof(audentio) === \\'undefined\\' || typeof(uix.jsVersion) === \\'undefined\\') {var errMsg = \\'Uh Oh!  It looks like the javascript for your theme was not found in /js/audentio/uix_style/.\\\\n\\\\n\\';if (uix.jsGlobal) {errMsg += \\'Your forum is set to use the same javascript directory for all your themes.  Consider disabling this or modifying the directory.  Options are located under Options > [UI.X] General.\\\\n\\\\n\\'} else {errMsg += \\'Your theme has set the location of its javascript directory.  You may need to modify the javascript directory location style property located under [UI.X] Global Settings > Javascript Path.\\\\n\\\\n\\'}errMsg += \\'If your files are in the directory specified, ensure that your file permissions allow them to be read.  There will likely be significant issues with the use of the forum until this is corrected.  If you are unable to resolve this, contact Audentio support.  This error has also been logged to the javascript console.\\';uix.fixJsVisibility();uix.adminJsError(errMsg);} else if (uix.jsHeadVersion.split(\\'_\\')[0] != uix.jsVersion.split(\\'_\\')[0]) {var errMsg = \\'Uh Oh! It looks like the version of your javascript functions file does not match the version of your page_container_js_head template.  \\\\n\\\\nYour javascript functions file is version \"\\' + uix.jsVersion + \\'\". \\\\nYour page_container_js_head is version \"\\' + uix.jsHeadVersion + \\'\".  \\\\n\\\\nIf your functions file version number is higher, ensure that you have merged all templates (especially page_container_js_head).  If your page_container_js_head version number is higher, ensure that you have correctly uploaded the latest version of the javascript functions file and that you have cleared anything that could cache an old version of the javascript (CDN / Cloudflare / etc.). \\\\n\\\\nThis issue could cause parts of your forum to not display or function correctly.  If this does not resolve the issue contact Audentio support.  This error has also been logged to the javascript console.\\';uix.fixJsVisibility();uix.adminJsError(errMsg);}});</script><script>try {uix.dateHelper.phrase = {now: \\'now\\',second: \\'s\\',minute: \\'m\\',hour: \\'h\\',day: \\'d\\',week: \\'w\\',year: \\'y\\',century: \\'c\\',ago: \\'{time} ago\\',future: \\'in {time}\\'}uix.sticky.stickyMinDist = parseInt(\\'50\\');$(document).ready(function(){try {audentio.pagination.enabled = true;audentio.grid.parentEle = \\'navigation\\';audentio.pagination.outOfPhrase = \\'<span id=\"audentio_postPaginationCurrent\" class=\"uix_postPagination_x\"></span> / <span id=\"audentio_postPaginationTotal\" class=\"uix_postPagination_y\"></span>\\';audentio.pagination.enterIndexPhrase = \\'Enter Index\\';audentio.pagination.offset = parseInt(\\'0px\\');uix.initFunc();} catch (err) {uix.catchJsError(err);}});} catch (err) {uix.catchJsError(err);}</script><link href=\"https://www.beeradvocate.com/favicon.ico\" rel=\"icon\" type=\"image/x-icon\" /><link rel=\"apple-touch-icon\" href=\"https://cdn.beeradvocate.com/im/beeradvocate-logo-ref.png\" /><link rel=\"alternate\" type=\"application/rss+xml\" title=\"RSS feed for BeerAdvocate\" href=\"forums/-/index.rss\" /><link rel=\"stylesheet\" href=\"https://cdn.beeradvocate.com/css/common.css\" type=\"text/css\" /><link rel=\"shortcut icon\" href=\"/favicon.ico\" type=\"image/x-icon\" />    <meta http-equiv=\"content-type\" content=\"text/html; charset=UTF-8\" /><meta http-equiv=\"content-language\" content=\"EN\" /><meta name=\"description\" content=\"Golden is a English Pale Ale style beer brewed by The Celt Experience in Caerphilly, GB7, United Kingdom. 83 out of 100 with 80 ratings, reviews and opinions.\" /><meta name=\"keywords\" content=\"Golden, English Pale Ale, The Celt Experience, Caerphilly, GB7, United Kingdom\" /><meta name=\"robots\" content=\"index,follow\" /><meta name=\"copyright\" content=\"Copyright &copy; BeerAdvocate&reg;. All rights reserved.\" /><meta property=\"og:site_name\" content=\"BeerAdvocate\" /><meta property=\"og:type\" content=\"website\" /><meta property=\"og:title\" content=\"Golden | The Celt Experience | Page 3\" /><meta property=\"og:url\" content=\"https://www.beeradvocate.com/beer/profile/20776/69185/\" /><meta property=\"og:image\" content=\"https://cdn.beeradvocate.com/im/beeradvocate-logo-ref.png\" /><meta property=\"og:description\" content=\"Golden is a English Pale Ale style beer brewed by The Celt Experience in Caerphilly, GB7, United Kingdom. 83 out of 100 with 80 ratings, reviews and opinions.\" /><meta property=\"fb:app_id\" content=\"604347192984215\" /><meta property=\"fb:admins\" content=\"1015011395,606485263\" /><meta name=\"twitter:card\" content=\"summary_large_image\" /><meta name=\"twitter:site\" content=\"@BeerAdvocate\" /><meta name=\"twitter:title\" content=\"Golden | The Celt Experience | Page 3\" /><meta name=\"twitter:description\" content=\"Golden is a English Pale Ale style beer brewed by The Celt Experience in Caerphilly, GB7, United Kingdom. 83 out of 100 with 80 ratings, reviews and opinions.\" /><meta name=\"twitter:image\" content=\"https://cdn.beeradvocate.com/im/beeradvocate-logo-ref.png\" /><meta name=\"twitter:creator\" content=\"@BeerAdvocate\" /><meta name=\"theme-color\" content=\"rgb(0, 0, 0)\"><meta name=\"msapplication-TileColor\" content=\"rgb(0, 0, 0)\"></head><body><div id=\"loginBar\"><div class=\"pageContent\"><span class=\"helper\"></span></div><div class=\"pageWidth\"></div></div><div class=\"js-uix_panels uix_panels \"><aside class=\"js-sidePanelWrapper sidePanelWrapper  sidePanelWrapper--left\"><a href=\"#\" class=\"js-panelMask uix_panelMask\"></a><div class=\"sidePanel sidePanel--nav\"><nav><ul class=\"sidePanel__navTabs\"><!-- home --><!-- extra tabs: home --><li class=\"navTab Home \"><a href=\"/\" class=\"navLink\">Home</a><a href=\"/\" class=\"SplitCtrl\"><i class=\"uix_icon js-offcanvasIcon uix_icon-expandDropdown\"></i></a><div class=\"tabLinks\"><ul class=\"secondaryContent blockLinksList\"><li><a href=\"/about/\">About Us</a></li><li><a href=\"/members/\">Our Community</a></li><li><a href=\"/events/\">Our Events</a></li><li><a href=\"/magazine/\">Our Magazine</a></li><li><a href=\"/advertise/\">Advertise</a></li><li><a href=\"/contact/\">Contact Us</a></li><li><a href=\"/community/forums/help-resources.32/\">Help</a></li><li><a href=\"/respect-beer/\">Respect Beer&reg;</a></li></ul></div></li><li class=\"navTab Articles \"><a href=\"/articles/\" class=\"navLink\">Articles</a><a href=\"/articles/\" class=\"SplitCtrl\"><i class=\"uix_icon js-offcanvasIcon uix_icon-expandDropdown\"></i></a><div class=\"tabLinks\"><ul class=\"secondaryContent blockLinksList\"><li><a href=\"/articles/category/magazine/food-drink/\">Food &amp; Drink</a></li><li><a href=\"/articles/category/magazine/history-culture/\">History &amp; Culture</a></li><li><a href=\"/articles/category/magazine/news/\">News</a></li><li><a href=\"/articles/category/magazine/opinion/\">Opinion</a></li><li><a href=\"/articles/category/magazine/people-places/\">People &amp; Places</a></li><li><a href=\"/articles/category/magazine/science-technology/\">Science &amp; Technology</a></li><li><a href=\"/articles/category/magazine/travel/\">Travel</a></li></ul></div></li><!-- forums --><li class=\"navTab forums \"><a href=\"https://www.beeradvocate.com/community/\" class=\"navLink\">Forums</a><a href=\"https://www.beeradvocate.com/community/\" class=\"SplitCtrl\"><i class=\"uix_icon js-offcanvasIcon uix_icon-expandDropdown\"></i></a><div class=\"tabLinks\"><ul class=\"blockLinksList\"><li><a href=\"search/?type=post\">Search Forums</a></li><li><a href=\"find-new/posts\" rel=\"nofollow\">Recent Posts</a></li></ul></div></li><!-- extra tabs: middle --><li class=\"navTab Beers selected\"><a href=\"/beer/\" class=\"navLink\">Beers</a><a href=\"/beer/\" class=\"SplitCtrl\"><i class=\"uix_icon js-offcanvasIcon uix_icon-expandDropdown\"></i></a><div class=\"tabLinks\"><ul class=\"secondaryContent blockLinksList\"><li><a href=\"/user/beers/\">Your Beers</a></li><li><a href=\"/forms/add-beer/\">Add a Beer</a></li><li><a href=\"/beer/\">Recent Reviews</a></li><li><a href=\"/lists/top/\">Top Beers</a></li><li><a href=\"/beer/style/\">Beer Styles</a></li><li><a href=\"/beer/101/\">Beer 101</a></li></ul></div></li><li class=\"navTab Places \"><a href=\"/place/\" class=\"navLink\">Places</a><a href=\"/place/\" class=\"SplitCtrl\"><i class=\"uix_icon js-offcanvasIcon uix_icon-expandDropdown\"></i></a><div class=\"tabLinks\"><ul class=\"secondaryContent blockLinksList\"><li><a href=\"/user/places/\">Your Places</a></li><li><a href=\"/forms/add-place/\">Add a Place</a></li><li><a href=\"/place/reviews/\">Recent Reviews</a></li><li><a href=\"/place/directory/\">Directory</a></li><li><a href=\"/place/nearby/\">Nearby</a></li></ul></div></li><li class=\"navTab Events \"><a href=\"/events/calendar/\" class=\"navLink\">Events</a><a href=\"/events/calendar/\" class=\"SplitCtrl\"><i class=\"uix_icon js-offcanvasIcon uix_icon-expandDropdown\"></i></a><div class=\"tabLinks\"><ul class=\"secondaryContent blockLinksList\"><li><a href=\"/user/events/\">Your Events</a></li><li><a href=\"/forms/add-event/\">Add an Event</a></li><hr style=\"height:1px;border-width:0;margin:5px;color:#999;background-color:#999;\" /><li><a href=\"/events/\">BeerAdvocate Events</a></li><li><a href=\"/extreme/boston/\">Extreme Beer Fest&reg;: Boston</a></li><li><a href=\"/extreme/los-angeles/\">Extreme Beer Fest&reg;: Los Angeles</a></li><li><a href=\"/wood/\">Beer Meets Wood</a></li></ul></div></li><li class=\"navTab Trading \"><a href=\"/trading/\" class=\"navLink\">Trading</a><a href=\"/trading/\" class=\"SplitCtrl\"><i class=\"uix_icon js-offcanvasIcon uix_icon-expandDropdown\"></i></a><div class=\"tabLinks\"><ul class=\"secondaryContent blockLinksList\"><li><a href=\"/user/trades/\">Your Trades</a></li><li><a href=\"/community/#beer-trading.81\">Forums</a></li><li><a href=\"/community/forums/help.32/?prefix_id=69\">Help</a></li></ul></div></li><li class=\"navTab Magazine \"><a href=\"/magazine/\" class=\"navLink\">Magazine</a><a href=\"/magazine/\" class=\"SplitCtrl\"><i class=\"uix_icon js-offcanvasIcon uix_icon-expandDropdown\"></i></a><div class=\"tabLinks\"><ul class=\"secondaryContent blockLinksList\"><li><a href=\"/magazine/manage/\">Your Print Subscription</a></li><li><a href=\"/community/threads/faq-beeradvocate-magazine.234551/\">FAQ</a></li><hr style=\"height:1px;border-width:0;margin:5px;color:#999;background-color:#999;\" /><li><a href=\"/magazine/trial/\">Free Trial (Print)</a></li><li><a href=\"https://store.beeradvocate.com/products/subscribe-beeradvocate-magazine\">Subscribe (Print)</a></li><li><a href=\"https://store.beeradvocate.com/products/renew-beeradvocate-magazine\">Renew (Print)</a></li><li><a href=\"https://store.beeradvocate.com/collections/beeradvocate-magazine/issues\">Back Issues (Print)</a></li><hr style=\"height:1px;border-width:0;margin:5px;color:#999;background-color:#999;\" /><li><a href=\"https://play.google.com/store/newsstand/details?id=CAowsZVm\" target=\"_blank\">Google Play (Android)</a></li><li><a href=\"https://www.magzter.com/US/BeerAdvocate/BeerAdvocate-magazine/Culture/\" target=\"_blank\">Magzter (iOS)</a></li><hr style=\"height:1px;border-width:0;margin:5px;color:#999;background-color:#999;\" /><li><a href=\"/advertise/\">Advertise</a></li><li><a href=\"/articles/archive/\">Issue Archive</a></li></ul></div></li><li class=\"navTab pember \"><a href=\"https://www.beeradvocate.com/community/threads/become-a-supporter.526105/\" class=\"navLink\">Become a Supporter</a></li><!-- extra tabs: end --><li class=\"navTab Store \"><a href=\"https://store.beeradvocate.com\" class=\"navLink\">Store</a></li></ul></nav></div></aside><aside class=\"js-sidePanelWrapper sidePanelWrapper  sidePanelWrapper--right\"><a href=\"#\" class=\"js-panelMask uix_panelMask\"></a><div class=\"sidePanel sidePanel--login\"><form action=\"login/login\" method=\"post\" class=\"xenForm--uixLoginForm xenForm\"><dl class=\"ctrlUnit fullWidth\"><dt><label for=\"ctrl_pageLogin_login\">Your name or email address:</label></dt><dd><input type=\"text\" name=\"login\" value=\"\" id=\"ctrl_pageLogin_login\" class=\"textCtrl uix_fixIOSClickInput\" tabindex=\"21\" /></dd></dl><dl class=\"ctrlUnit fullWidth\"><dt><label for=\"ctrl_pageLogin_password\">Password:</label></dt><dd><input type=\"password\" name=\"password\" class=\"textCtrl uix_fixIOSClickInput\" id=\"ctrl_pageLogin_password\" tabindex=\"22\" /><div><a href=\"lost-password/\" class=\"OverlayTrigger OverlayCloser\" tabindex=\"26\">Forgot your password?</a></div></dd></dl><dl class=\"ctrlUnit submitUnit\"><dd><input type=\"submit\" class=\"button primary\" value=\"Log in\" data-loginPhrase=\"Log in\" data-signupPhrase=\"Sign up\" tabindex=\"24\" /><label class=\"rememberPassword\"><input type=\"checkbox\" name=\"remember\" value=\"1\" id=\"ctrl_pageLogin_remember\" tabindex=\"23\" /> Stay logged in</label></dd></dl><input type=\"hidden\" name=\"cookie_check\" value=\"1\" /><input type=\"hidden\" name=\"_xfToken\" value=\"\" /><input type=\"hidden\" name=\"redirect\" value=\"/beer/profile/20776/69185/?view=beer&amp;sort=&amp;start=50\" /></form></div></aside><div class=\"mainPanelWrapper\"><a href=\"#\" class=\"js-panelMask uix_panelMask\"></a><div class=\"uix_wrapperFix\" style=\"height: 1px; margin-bottom: -1px;\"></div><div id=\"uix_wrapper\"><div class=\"uix_wrapperFix\" style=\"height: 1px; margin-bottom: -1px;\"></div><div id=\"headerMover\"><div id=\"headerProxy\"></div><header><div id=\"header\"><div id=\"logoBlock\" class=\"header__blockItem \"><div class=\"pageWidth\"><div class=\"pageContent\"><div id=\"logo\"><a href=\"https://www.beeradvocate.com\"><span></span><img src=\"https://cdn.beeradvocate.com/im/beeradvocate-nav-logo.png\" alt=\"BeerAdvocate\" /><div class=\"uix_slogan\">Respect Beer.</div></a></div><span class=\"helper\"></span></div></div></div><div id=\"navigation\" class=\"header__blockItem  stickyTop\"><div class=\"sticky_wrapper\"><div class=\"uix_navigationWrapper\"><div class=\"pageWidth\"><div class=\"pageContent\"><nav><div class=\"navTabs\"><ul class=\"publicTabs navLeft\"><li id=\"logo_small\"><a href=\"https://www.beeradvocate.com\"><img src=\"https://cdn.beeradvocate.com/im/beeradvocate-nav-brandmark.png\"></a></li><li class=\"navTab  navTab--panelTrigger navTab--navPanelTrigger PopupClosed\"><a class=\"navLink js-leftPanelTrigger\" href=\"#\"><i class=\"uix_icon uix_icon-menu\"></i><span class=\"trigger__phrase\">Menu</span></a></li><!-- home --><!-- extra tabs: home --><li class=\"navTab Home  Popup PopupControl PopupClosed\"><a href=\"/\" class=\"navLink NoPopupGadget\" rel=\"Menu\">Home</a><a href=\"/\" class=\"SplitCtrl\" rel=\"Menu\"></a><div class=\"Menu JsOnly tabMenu HomeTabLinks\"><ul class=\"secondaryContent blockLinksList\"><li><a href=\"/about/\">About Us</a></li><li><a href=\"/members/\">Our Community</a></li><li><a href=\"/events/\">Our Events</a></li><li><a href=\"/magazine/\">Our Magazine</a></li><li><a href=\"/advertise/\">Advertise</a></li><li><a href=\"/contact/\">Contact Us</a></li><li><a href=\"/community/forums/help-resources.32/\">Help</a></li><li><a href=\"/respect-beer/\">Respect Beer&reg;</a></li></ul></div></li><li class=\"navTab Articles  Popup PopupControl PopupClosed\"><a href=\"/articles/\" class=\"navLink NoPopupGadget\" rel=\"Menu\">Articles</a><a href=\"/articles/\" class=\"SplitCtrl\" rel=\"Menu\"></a><div class=\"Menu JsOnly tabMenu ArticlesTabLinks\"><ul class=\"secondaryContent blockLinksList\"><li><a href=\"/articles/category/magazine/food-drink/\">Food &amp; Drink</a></li><li><a href=\"/articles/category/magazine/history-culture/\">History &amp; Culture</a></li><li><a href=\"/articles/category/magazine/news/\">News</a></li><li><a href=\"/articles/category/magazine/opinion/\">Opinion</a></li><li><a href=\"/articles/category/magazine/people-places/\">People &amp; Places</a></li><li><a href=\"/articles/category/magazine/science-technology/\">Science &amp; Technology</a></li><li><a href=\"/articles/category/magazine/travel/\">Travel</a></li></ul></div></li><!-- forums --><li class=\"navTab forums  Popup PopupControl PopupClosed\"><a href=\"https://www.beeradvocate.com/community/\" class=\"navLink NoPopupGadget\" rel=\"Menu\">Forums</a><a href=\"https://www.beeradvocate.com/community/\" class=\"SplitCtrl\" rel=\"Menu\"></a><div class=\"Menu JsOnly tabMenu forumsTabLinks\"><ul class=\"secondaryContent blockLinksList\"><li><a href=\"search/?type=post\">Search Forums</a></li><li><a href=\"find-new/posts\" rel=\"nofollow\">Recent Posts</a></li><li><a href=\"/members/\">Members</a></li></ul></div></li><!-- extra tabs: middle --><li class=\"navTab Beers selected Popup PopupControl PopupClosed\"><a href=\"/beer/\" class=\"navLink NoPopupGadget\" rel=\"Menu\">Beers</a><a href=\"/beer/\" class=\"SplitCtrl\" rel=\"Menu\"></a><div class=\"Menu JsOnly tabMenu BeersTabLinks\"><ul class=\"secondaryContent blockLinksList\"><li><a href=\"/user/beers/\">Your Beers</a></li><li><a href=\"/forms/add-beer/\">Add a Beer</a></li><li><a href=\"/beer/\">Recent Reviews</a></li><li><a href=\"/lists/top/\">Top Beers</a></li><li><a href=\"/beer/style/\">Beer Styles</a></li><li><a href=\"/beer/101/\">Beer 101</a></li></ul></div></li><li class=\"navTab Places  Popup PopupControl PopupClosed\"><a href=\"/place/\" class=\"navLink NoPopupGadget\" rel=\"Menu\">Places</a><a href=\"/place/\" class=\"SplitCtrl\" rel=\"Menu\"></a><div class=\"Menu JsOnly tabMenu PlacesTabLinks\"><ul class=\"secondaryContent blockLinksList\"><li><a href=\"/user/places/\">Your Places</a></li><li><a href=\"/forms/add-place/\">Add a Place</a></li><li><a href=\"/place/reviews/\">Recent Reviews</a></li><li><a href=\"/place/directory/\">Directory</a></li><li><a href=\"/place/nearby/\">Nearby</a></li></ul></div></li><li class=\"navTab Events  Popup PopupControl PopupClosed\"><a href=\"/events/calendar/\" class=\"navLink NoPopupGadget\" rel=\"Menu\">Events</a><a href=\"/events/calendar/\" class=\"SplitCtrl\" rel=\"Menu\"></a><div class=\"Menu JsOnly tabMenu EventsTabLinks\"><ul class=\"secondaryContent blockLinksList\"><li><a href=\"/user/events/\">Your Events</a></li><li><a href=\"/forms/add-event/\">Add an Event</a></li><hr style=\"height:1px;border-width:0;margin:5px;color:#999;background-color:#999;\" /><li><a href=\"/events/\">BeerAdvocate Events</a></li><li><a href=\"/extreme/boston/\">Extreme Beer Fest&reg;: Boston</a></li><li><a href=\"/extreme/los-angeles/\">Extreme Beer Fest&reg;: Los Angeles</a></li><li><a href=\"/wood/\">Beer Meets Wood</a></li></ul></div></li><li class=\"navTab Trading  Popup PopupControl PopupClosed\"><a href=\"/trading/\" class=\"navLink NoPopupGadget\" rel=\"Menu\">Trading</a><a href=\"/trading/\" class=\"SplitCtrl\" rel=\"Menu\"></a><div class=\"Menu JsOnly tabMenu TradingTabLinks\"><ul class=\"secondaryContent blockLinksList\"><li><a href=\"/user/trades/\">Your Trades</a></li><li><a href=\"/community/#beer-trading.81\">Forums</a></li><li><a href=\"/community/forums/help.32/?prefix_id=69\">Help</a></li></ul></div></li><li class=\"navTab Magazine  Popup PopupControl PopupClosed\"><a href=\"/magazine/\" class=\"navLink NoPopupGadget\" rel=\"Menu\">Magazine</a><a href=\"/magazine/\" class=\"SplitCtrl\" rel=\"Menu\"></a><div class=\"Menu JsOnly tabMenu MagazineTabLinks\"><ul class=\"secondaryContent blockLinksList\"><li><a href=\"/magazine/manage/\">Your Print Subscription</a></li><li><a href=\"/community/threads/faq-beeradvocate-magazine.234551/\">FAQ</a></li><hr style=\"height:1px;border-width:0;margin:5px;color:#999;background-color:#999;\" /><li><a href=\"/magazine/trial/\">Free Trial (Print)</a></li><li><a href=\"https://store.beeradvocate.com/products/subscribe-beeradvocate-magazine\">Subscribe (Print)</a></li><li><a href=\"https://store.beeradvocate.com/products/renew-beeradvocate-magazine\">Renew (Print)</a></li><li><a href=\"https://store.beeradvocate.com/collections/beeradvocate-magazine/issues\">Back Issues (Print)</a></li><hr style=\"height:1px;border-width:0;margin:5px;color:#999;background-color:#999;\" /><li><a href=\"https://play.google.com/store/newsstand/details?id=CAowsZVm\" target=\"_blank\">Google Play (Android)</a></li><li><a href=\"https://www.magzter.com/US/BeerAdvocate/BeerAdvocate-magazine/Culture/\" target=\"_blank\">Magzter (iOS)</a></li><hr style=\"height:1px;border-width:0;margin:5px;color:#999;background-color:#999;\" /><li><a href=\"/advertise/\">Advertise</a></li><li><a href=\"/articles/archive/\">Issue Archive</a></li></ul></div></li><li class=\"navTab pember PopupClosed\"><a href=\"https://www.beeradvocate.com/community/threads/become-a-supporter.526105/\" class=\"navLink NoPopupGadget\" rel=\"Menu\">Become a Supporter</a></li><!-- extra tabs: end --><li class=\"navTab Store PopupClosed\"><a href=\"https://store.beeradvocate.com\" class=\"navLink NoPopupGadget\" rel=\"Menu\">Store</a></li><!-- responsive popup --><li class=\"navTab navigationHiddenTabs navTab--justIcon Popup PopupControl PopupClosed\" style=\"display:none\"><a rel=\"Menu\" class=\"navLink NoPopupGadget uix_dropdownDesktopMenu\"><i class=\"uix_icon uix_icon-navOverflow\"></i><span class=\"uix_hide menuIcon\">Menu</span></a><div class=\"Menu JsOnly blockLinksList primaryContent\" id=\"NavigationHiddenMenu\"></div></li></ul></div><span class=\"helper\"></span></nav></div></div></div></div></div><div id=\"userBar\" class=\"header__blockItem stickyTop withSearch\"><div class=\"sticky_wrapper\"><div class=\"pageWidth\"><div class=\"pageContent\"><div class=\"navTabs\"><ul class=\"navRight visitorTabs\"><li class=\"navTab login PopupClosed\"><a href=\"login/\" class=\"navLink uix_dropdownDesktopMenu OverlayTrigger\" data-cacheOverlay=\"false\"><i class=\"uix_icon uix_icon-signIn\"></i> <strong class=\"loginText\">Log in</strong></a></li><li class=\"navTab register PopupClosed\"><a href=\"register/\" class=\"navLink\"><i class=\"uix_icon uix_icon-register\"></i> <strong>Sign up</strong></a></li><li class=\"navTab uix_searchTab\"><div id=\"searchBar\" class=\"hasSearchButton\"><i id=\"QuickSearchPlaceholder\" class=\"uix_icon uix_icon-search\" title=\"Search\"></i><fieldset id=\"QuickSearch\"><form action=\"/search/\" method=\"get\" class=\"formPopup\"><div class=\"primaryControls\"><!-- block: primaryControls --><i class=\"uix_icon uix_icon-search\" onclick=\\'$(\"#QuickSearch form\").submit()\\'></i><input type=\"search\" name=\"q\" value=\"\" class=\"textCtrl\" placeholder=\"Search...\" title=\"Enter your search and hit enter\" id=\"QuickSearchQuery\" /><!-- end block: primaryControls --></div><div class=\"secondaryControls\"><div class=\"controlsWrapper\"><!-- block: secondaryControls --><dl class=\"ctrlUnit\"><dt></dt><dd><ul><li><label><input type=\"radio\" name=\"qt\" value=\"beer\" id=\"search_bar_title_only\" class=\"AutoChecker\" checked /> Beer</label></li><li><label><input type=\"radio\" name=\"qt\" value=\"place\" id=\"search_bar_title_only\" class=\"AutoChecker\" /> Place</label></li><li><label><input type=\"radio\" name=\"qt\" value=\"event\" id=\"search_bar_title_only\" class=\"AutoChecker\" /> Event</label></li><li><label><input type=\"radio\" name=\"qt\" value=\"forum\" id=\"search_bar_title_only\" class=\"AutoChecker\" /> Forum</label></li><li><label><input type=\"radio\" name=\"qt\" value=\"article\" id=\"search_bar_title_only\" class=\"AutoChecker\" /> Articles</label></li></ul></dd></dl></div><!-- end block: secondaryControls --><dl class=\"ctrlUnit submitUnit\"><dt></dt><dd><input type=\"submit\" value=\"Search\" class=\"button primary Tooltip\" title=\"Find Now\" /></dd></dl></div></form></fieldset></div></li></ul><div id=\"uix_searchMinimal\"><form action=\"/search/\" method=\"get\"><i id=\"uix_searchMinimalClose\" class=\"uix_icon uix_icon-close\"  title=\"Close\"></i><i id=\"uix_searchMinimalOptions\" class=\"uix_icon uix_icon-cog\" title=\"Options\"></i><div id=\"uix_searchMinimalInput\" ><input type=\"search\" name=\"q\" value=\"\" placeholder=\"Search...\" /></div><input type=\"hidden\" name=\"qt\" value=\"beer\"></form></div></div><span class=\"helper\"></span></div></div></div></div><script>if (typeof(uix) !== \"undefined\" && typeof(uix.templates) !== \"undefined\") uix.templates.userBar();</script></div></header><div id=\"content\" class=\"bridge_page\"><div class=\"pageWidth\"><div class=\"pageContent\"><!-- main content area --><div class=\"section funbox\"><div class=\"funboxWrapper\"><script type=\"text/javascript\">    var OX_ads = OX_ads || [];    if($(window).width() >= 728)    {        document.write(\\'<div id=\"8782_leaderboard\" style=\"width:728px;height:90px;margin:0;padding:0\"><noscript><iframe id=\"d4eb9053b1\" name=\"d4eb9053b1\" src=\"//beeradvocate-d.openx.net/w/1.0/afr?auid=8782&cb=15010637440\" frameborder=\"0\" scrolling=\"no\" width=\"728\" height=\"90\"><a href=\"//beeradvocate-d.openx.net/w/1.0/rc?cs=d4eb9053b1&cb=15010637440\" ><img src=\"//beeradvocate-d.openx.net/w/1.0/ai?auid=8782&cs=d4eb9053b1&cb=15010637440\" border=\"0\" alt=\"\"></a></iframe></noscript></div>\\');        OX_ads.push({          slot_id: \"8782_leaderboard\",          auid: \"8782\"        });    }    else    {        document.write(\\'<div id=\"538514513_leaderboard\" style=\"width:320px;height:100px;margin:0;padding:0\"><noscript><iframe id=\"fe66416cca\" name=\"fe66416cca\" src=\"//beeradvocate-d.openx.net/w/1.0/afr?auid=538514513&cb=15010637440\" frameborder=\"0\" scrolling=\"no\" width=\"320\" height=\"100\"><a href=\"//beeradvocate-d.openx.net/w/1.0/rc?cs=fe66416cca&cb=15010637440\" ><img src=\"//beeradvocate-d.openx.net/w/1.0/ai?auid=538514513&cs=fe66416cca&cb=15010637440\" border=\"0\" alt=\"\"></a></iframe></noscript></div>\\')        OX_ads.push({           slot_id: \"538514513_leaderboard\",           auid: \"538514513\"        });    }</script></div></div><div class=\"breadBoxTop  \"><nav><fieldset class=\"breadcrumb\"><a href=\"misc/quick-navigation-menu\" class=\"OverlayTrigger jumpMenuTrigger\" data-cacheOverlay=\"true\" title=\"Open quick navigation\"><i class=\"uix_icon uix_icon-sitemap\"></i><!--Jump to...--></a><div class=\"boardTitle\"><strong>BeerAdvocate</strong></div><span class=\"crumbs\"><span class=\"crust homeCrumb\" itemscope=\"itemscope\" itemtype=\"http://data-vocabulary.org/Breadcrumb\"><a href=\"/\" class=\"crumb\" rel=\"up\" itemprop=\"url\"><span itemprop=\"title\"><i class=\"uix_icon uix_icon-home\" title=\"Home\"></i><span class=\"uix_breadcrumb__home__title\">Home</span></span></a><span class=\"arrow\"><i class=\"uix_icon uix_icon-breadcrumbSeparator\"></i></span></span><span class=\"crust selectedTabCrumb\" itemscope=\"itemscope\" itemtype=\"http://data-vocabulary.org/Breadcrumb\"><a href=\"/beer/\" class=\"crumb\" rel=\"up\" itemprop=\"url\"><span itemprop=\"title\">Beers</span></a><span class=\"arrow\"><i class=\"uix_icon uix_icon-breadcrumbSeparator\"></i></span></span><span class=\"crust\" itemscope=\"itemscope\" itemtype=\"http://data-vocabulary.org/Breadcrumb\"><a href=\"/beer/profile/20776/\" class=\"crumb\" rel=\"up\" itemprop=\"url\"><span itemprop=\"title\">The Celt Experience</span></a><span class=\"arrow\"><i class=\"uix_icon uix_icon-breadcrumbSeparator\"></i></span></span></span></fieldset></nav></div><div class=\"uix_contentFix\"><div class=\"mainContainer\"><div class=\"mainContent\"><!--[if lt IE 8]><p class=\"importantMessage\">You are using an out of date browser. It  may not display this or other websites correctly.<br />You should upgrade or use an <a href=\"https://www.google.com/chrome/browser/\" target=\"_blank\">alternative browser</a>.</p><![endif]--><div class=\"FloatingContainer Notices\"><div class=\"DismissParent Notice notice_2 \" data-notice=\"2\" data-delay-duration=\"10000\" data-display-duration=\"10000\" data-auto-dismiss=\"0\"><div class=\"floatingItem primary\"><a href=\"account/dismiss-notice?notice_id=2\"title=\"Dismiss Notice\" class=\"DismissCtrl Tooltip\" data-offsetx=\"7\" data-tipclass=\"flipped\">Dismiss Notice</a><div class=\"floatingImage image\"><img src=\"https://cdn.beeradvocate.com/im/beeradvocate-logo-ref.png\" alt=\"\" /></div><div class=\"hasImage baseHtml noticeContent\"><b><a href=\"https://www.beeradvocate.com/community/threads/become-a-supporter.526105/\">Become a BeerAdvocate Supporter for less than the price of a beer per month.</b></a></div></div></div></div><!-- h1 title, description --><div class=\"titleBar\"><h1>Golden<span style=\"color:#999999;\"> | The Celt Experience</span></h1></div><!-- main template -->    <div id=\"ba-content\"><style>.rateCatScore {font-size:1.5em;font-weight:700;  color:#CC0000;}.rateCategory {margin-top:15px;display:block;}.rateCategory th { padding-left:5px; font-weight:bold; }.rateCategory td { width:60px; }.likes-bar { padding:5px; background-color: rgb(239, 243, 248); margin-top: 10px; border-bottom: 1px solid rgb(216, 216, 216); font-size: 11px; }/*DL, DT, DD TAGS LIST DATA*/#item_stats dl {    width:100%;    overflow:hidden;    margin:0;    padding:0;}#item_stats dl dt {    float:left;    width:50%;    margin:0;    padding:0;}#item_stats dl dd {    float:left;    width:50%;    margin:0;    padding:0;}@media only screen and (max-width: 610px) {    #rating_fullview_user {        display: none;    }    #rating_fullview_content_2 {    margin-left:0px !important;    }}</style><div style=\"clear:both;\"></div><div style=\"margin:25px 0px; width:100%; height:1px; background:#999999; overflow:hidden;\"></div><!--sse--><div><div style=\"float:left; width:30%;\" class=\"break\"><div style=\"margin:0px 25px;\"><b>BA SCORE</b><br><span class=\"BAscore_big ba-score\">83</span><br><a href=\"/community/threads/beeradvocate-ratings-explained.184726/\"><b><span class=\"ba-score_text\">good</span></b></a><br><span class=\"ba-ratings\">80</span> Ratings</div><div style=\"margin:25px 0px; width:90%; height:1px; background:#999999; overflow:hidden;\"></div><div style=\"margin:0px 25px;\"><b>THE BROS</b><br><span class=\"BAscore_big ba-bro_score\">-</span><br><a href=\"/community/threads/beeradvocate-ratings-explained.184726/\"><b class=\"ba-bro_text\">no score</b></a><br><a href=\"/community/threads/sending-beer-samples-for-review.388962/\">Send samples</a></div></div><div style=\"float:right; width:70%;\"  class=\"break\"><div style=\"text-align:center; float:right; width:150px; padding:0px; margin:0px 25px 25px 25px;\"><div style=\"position:relative;\"><img src=\"https://cdn.beeradvocate.com/im/beers/69185.jpg\" width=\"150\" height=\"300\" border=\"0\" alt=\"&#71;&#111;&#108;&#100;&#101;&#110;\"><span style=\"position:absolute;left:0;top:0;\"><img src=\"https://cdn.beeradvocate.com/im/c_beer_image.gif\" width=\"150\" height=\"300\" border=\"0\" alt=\"&#71;&#111;&#108;&#100;&#101;&#110;\"></span></div></div><b>BEER INFO</b><br><br><b>Brewed by:</b><br><a href=\"/beer/profile/20776/\"><b>The Celt Experience</b></a><br><a href=\"/place/directory/6/GB/GB7/\">Wales</a>, <a href=\"/place/directory/6/GB/\">United Kingdom</a><br><a href=\"http://theceltexperience.co.uk\" target=\"_blank\">theceltexperience.co.uk</a><br><br><b>Style:</b> <a href=\"/beer/style/154/\"><b>English Pale Ale</b></a><br><br><b>Alcohol by volume (ABV):</b> 4.20%<br><br><b>Availability:</b> Year-round<br><br><b>Notes / Commercial Description:</b><br>A zesty body and citrus aroma with a snappy finish. Drink to inspire you to an evening of passion! Circa 500BC, during the Celtic Golden Age, most of mainland. Europe was dominated by the spiritual tribes of Celtic origin.<br><br>Added by MrKennedy on 05-18-2011<br><br></div><div style=\"float:left; width:30%;\" class=\"break\"><div style=\"margin:25px 0px; width:90%; height:1px; background:#999999; overflow:hidden;\"></div><div style=\"margin:0px 25px; padding:0;\"><b>BEER STATS</b><div id=\"item_stats\"><dl><dt>Ratings:</dt><dd><span class=\"ba-ratings\">80</span></dd><dt>Reviews:</dt><dd><span class=\"ba-reviews\">47</span></dd><dt>Avg:</dt><dd><span class=\"ba-ravg\">3.64</span></dd><!--<br>psDev: 8.4%--><dd>pDev:</dd><dt><span class=\"ba-pdev\">11.54%</span></dt><dt>&nbsp;</dt><dd>&nbsp;</dd><dd><a href=\"/beer/trade/69185/?view=W\">Wants</a>:</dd><dt><a href=\"/beer/trade/69185/?view=W\"><span class=\"ba-wants\">3</span></a></dt><dd><a href=\"/beer/trade/69185/?view=G\">Gots</a>:</dd><dt><a href=\"/beer/trade/69185/?view=G\"><span class=\"ba-gots\">6</span></a></dt><dd><a href=\"/beer/trade/69185/?view=FT\">For Trade</a>:</dd><dt><a href=\"/beer/trade/69185/?view=FT\">0</a></dt></dl></div></div></div></div><!--/sse--><div style=\"clear:both;\"></div><div style=\"margin:25px 0px; width:100%; height:1px; background:#999999; overflow:hidden;\"></div><div style=\"clear:both;\"></div><div style=\"margin:20px 0px;\"><h6>View:<a href=\"/beer/profile/20776/?view=beers\">Beers</a> |<a href=\"/beer/profile/20776/?view=events\">Events</a></h6></div><div style=\"margin:20px 0px; background:#E0E0E0; padding:5px; white-space:nowrap; overflow:hidden; clear:both;\"><a name=\"review\"></a><h6>User Ratings &amp; Reviews</h6></div><div style=\"font-size:1em; padding:4px; color:#333333; white-space:nowrap; overflow:hidden;\"><b>Sort by:</b>&nbsp;<b>Recent</b> | <a href=\"/beer/profile/20776/69185/?sort=high&start=50\">High</a> | <a href=\"/beer/profile/20776/69185/?sort=low&start=50\">Low</a> | <a href=\"/beer/profile/20776/69185/?sort=topr&start=50\">Top Raters</a></div><div style=\"font-size:1em; padding:4px; text-align:right; white-space:nowrap; overflow:hidden;\"><span style=\"font-weight:bold;\"><a href=\"/beer/profile/20776/69185/?view=beer&sort=&start=0\">first</a> &larr; <a href=\"/beer/profile/20776/69185/?view=beer&sort=&start=25\">prev</a>|<a href=\"/beer/profile/20776/69185/?view=beer&sort=&start=0\">&nbsp;1-25&nbsp;</a>|<a href=\"/beer/profile/20776/69185/?view=beer&sort=&start=25\">&nbsp;26-50&nbsp;</a>|<b>&nbsp;51-75&nbsp;</b>|<a href=\"/beer/profile/20776/69185/?view=beer&sort=&start=75\">&nbsp;76-100&nbsp;</a> | <a href=\"/beer/profile/20776/69185/?view=beer&sort=&start=75\">next</a> &rarr; <a href=\"/beer/profile/20776/69185/?view=beer&sort=&start=75\">last</a></span></div><div style=\"font-size:1em; padding:4px; margin-bottom:10px;\"><b><i class=\"fa fa-check\" aria-hidden=\"true\"></i> Ratings: 80</b>&nbsp;|&nbsp;<b><i class=\"fa fa-file-text-o\" aria-hidden=\"true\"></i> Reviews: 47</b></div><!--sse--><div style=\"font-size:1em;\"><div id=\"rating_fullview\"><div id=\"rating_fullview_container\" class=\"user-comment\" ba-user=\"665940\"><div id=\"rating_fullview_user\"><div style=\"padding:3px; background:#E8E8E8;\"><a href=\"/community/members/joeyramone.665940/\" class=\"username\"><img src=\"styles/default/xenforo/avatars/avatar_male_s.png\" width=\"48\" height=\"48\"  border=\"0\" alt=\"Photo of JoeyRamone\"></a></div></div><div id=\"rating_fullview_content_2\"><span class=\"BAscore_norm\">2.25</span><span class=\"rAvg_norm\">/5</span>&nbsp;&nbsp;rDev <span style=\"color:#990000;\">-38.2%</span><br><br><div><span class=\"muted\"><a href=\"/community/members/joeyramone.665940/\" class=\"username\">JoeyRamone</a>, <a href=\"/beer/profile/20776/69185/?ba=JoeyRamone#review\">Mar 25, 2012</a></span></div></div></div><div id=\"rating_fullview_container\" class=\"user-comment\" ba-user=\"2090\"><div id=\"rating_fullview_user\"><div style=\"padding:3px; background:#E8E8E8;\"><a href=\"/community/members/irondjinn.2090/\" class=\"username\"><img src=\"https://cdn.beeradvocate.com/data/avatars/s/2/2090.jpg?1329961249\" width=\"48\" height=\"48\"  border=\"0\" alt=\"Photo of IronDjinn\"></a></div></div><div id=\"rating_fullview_content_2\"><span class=\"BAscore_norm\">3.3</span><span class=\"rAvg_norm\">/5</span>&nbsp;&nbsp;rDev <span style=\"color:#990000;\">-9.3%</span><br><span class=\"muted\">look: 3.5 | smell: 3.5 | taste: 3 | feel: 3.5 |  overall: 3.5</span><br><br>From a 500 ml brown bottle, tight black plastic around the neck and cap. Pours out a clear light golden hue, with a short creamy white head.<br /><br />Clean grainy and bready malt on the nose, mild dry leafy hops.<br /><br />The first impressions of the flavour are neutral and unoffensive. Make no mistake, this is an incredibly clean English Pale Ale, however there isn\\'t much more going on to produce some sort of recognizable personality. Clean, crisp grains up front with very mild dry earthy herbal hops. That\\'s it. Well, some arugula-like astringency lingers on in the aftertaste. A real palate cleanser however.<br /><br />Light-bodied mouthfeel, with a silky slick texture and moderate carbonation.<br /><br />An English Pale Ale that holds its own, yet doesn\\'t seem to offer much more personality in the flavour department beyond clean technical finesse, which of course is welcome (especially in lieu of flaws or off-flavours), yet doesn\\'t offer much more to entice one back for more when their are more flavourful peers available to consume. Still worth a try though.<br><br><i class=\"fa fa-file-text-o\" aria-hidden=\"true\"></i>&nbsp;<span class=\"muted\">1,040 characters</span><br><br><div><span class=\"muted\"><a href=\"/community/members/irondjinn.2090/\" class=\"username\">IronDjinn</a>, <a href=\"/beer/profile/20776/69185/?ba=IronDjinn#review\">Feb 12, 2012</a></span></div></div></div><div id=\"rating_fullview_container\" class=\"user-comment\" ba-user=\"297617\"><div id=\"rating_fullview_user\"><div style=\"padding:3px; background:#E8E8E8;\"><a href=\"/community/members/wordemupg.297617/\" class=\"username\"><img src=\"https://cdn.beeradvocate.com/data/avatars/s/297/297617.jpg?1398237686\" width=\"48\" height=\"48\"  border=\"0\" alt=\"Photo of wordemupg\"></a></div></div><div id=\"rating_fullview_content_2\"><span class=\"BAscore_norm\">4.03</span><span class=\"rAvg_norm\">/5</span>&nbsp;&nbsp;rDev <span style=\"color:#006600;\">+10.7%</span><br><span class=\"muted\">look: 4.5 | smell: 4 | taste: 4 | feel: 4 |  overall: 4</span><br><br>500ml bottle poured into pint glass 11/2/12<br /><br />A clear golden yellow with some tiny particles being moved around by lots of big bubbles, a nice two finger off white foam sinks to an island leaving lots of random lace <br /><br />S malty lemon and earthy hops with a little hay <br /><br />T a nice blend of hops with some biscuit, faint caramel and the fruity notes I picked up on the nose are not as citrus forward <br /><br />M light and fluffy from the bubbles, mild spicy aftertaste is rather pleasant<br /><br />O pretty easy to drink and it has decent flavors is a light beer, I could session this under a hot sun<br /><br />not my favorite style but this is a good example, I\\'m learning to appreciate session beers and this one makes it easy<br><br><i class=\"fa fa-file-text-o\" aria-hidden=\"true\"></i>&nbsp;<span class=\"muted\">696 characters</span><br><br><div><span class=\"muted\"><a href=\"/community/members/wordemupg.297617/\" class=\"username\">wordemupg</a>, <a href=\"/beer/profile/20776/69185/?ba=wordemupg#review\">Feb 11, 2012</a></span></div></div></div><div id=\"rating_fullview_container\" class=\"user-comment\" ba-user=\"10662\"><div id=\"rating_fullview_user\"><div style=\"padding:3px; background:#E8E8E8;\"><a href=\"/community/members/bdtyre.10662/\" class=\"username\"><img src=\"styles/default/xenforo/avatars/avatar_s.png\" width=\"48\" height=\"48\"  border=\"0\" alt=\"Photo of BDTyre\"></a></div></div><div id=\"rating_fullview_content_2\"><span class=\"BAscore_norm\">3.83</span><span class=\"rAvg_norm\">/5</span>&nbsp;&nbsp;rDev <span style=\"color:#006600;\">+5.2%</span><br><span class=\"muted\">look: 4 | smell: 3.5 | taste: 4 | feel: 3.5 |  overall: 4</span><br><br>Golden straw with a fluffy, white cloud head.<br /><br />Floral, lemon-y hops. Pale malt background in the nose. A bit upfront with the hops, but this might even off as it warms.<br /><br />Not as hoppy in the flavour as the scent would suggest. Very nice pale malt taste, a bit of bread and biscuits, light butter. Lemon-y floral hints.<br /><br />Good carbonation, a bit rough at times but this eases as it warms. A good session beer. Definitely worth trying if you can get it.<br><br><i class=\"fa fa-file-text-o\" aria-hidden=\"true\"></i>&nbsp;<span class=\"muted\">449 characters</span><br><br><div><span class=\"muted\"><a href=\"/community/members/bdtyre.10662/\" class=\"username\">BDTyre</a>, <a href=\"/beer/profile/20776/69185/?ba=BDTyre#review\">Feb 06, 2012</a></span></div></div></div><div id=\"rating_fullview_container\" class=\"user-comment\" ba-user=\"168458\"><div id=\"rating_fullview_user\"><div style=\"padding:3px; background:#E8E8E8;\"><a href=\"/community/members/biboergosum.168458/\" class=\"username\"><img src=\"https://cdn.beeradvocate.com/data/avatars/s/168/168458.jpg?1330550786\" width=\"48\" height=\"48\"  border=\"0\" alt=\"Photo of biboergosum\"></a></div></div><div id=\"rating_fullview_content_2\"><span class=\"BAscore_norm\">3.85</span><span class=\"rAvg_norm\">/5</span>&nbsp;&nbsp;rDev <span style=\"color:#006600;\">+5.8%</span><br><span class=\"muted\">look: 3.5 | smell: 3.5 | taste: 4 | feel: 4 |  overall: 4</span><br><br>500ml capped and sealed bottle, nice black and gold design. BB Dec 2012.<br /><br />This beer pours a clear, pale golden hue, with some rising effervescence, and two fingers of somewhat thin foamy white head, which leaves a children\\'s mountain vista drawing of lace around the glass as it settles. <br /><br />It smells of pale grainy malt, some mild aged lemon, and a weirdly floral, musty hoppiness. The taste is more pale malt, the grain maturing to a slight breadiness, with a flinty, ashy edge, a diminished fruitiness, and dusty, earthy hops.<br /><br />The carbonation is moderate, but fresh, and a bit airy, the body on the reserved side of medium weight, a respectable condition for the style and ABV - as is the shy smoothness. It finishes fairly clean, the grainy malt, and timidly zingy floral, weedy hops not prone to phoning it in.<br /><br />EPAs are like APAs to me (or is it the other way around?). Anyways, the style usually, though it shouldn\\'t, leaves me muttering a hipster-ish \\'meh\\'. This one, like its Bronze sibling, supercedes all that baggage, and comes across as a beer that you just wanna drink, full stop.<br><br><i class=\"fa fa-file-text-o\" aria-hidden=\"true\"></i>&nbsp;<span class=\"muted\">1,094 characters</span><br><br><div><span class=\"muted\"><a href=\"/community/members/biboergosum.168458/\" class=\"username\">biboergosum</a>, <a href=\"/beer/profile/20776/69185/?ba=biboergosum#review\">Jan 27, 2012</a></span></div></div></div><div id=\"rating_fullview_container\" class=\"user-comment\" ba-user=\"654187\"><div id=\"rating_fullview_user\"><div style=\"padding:3px; background:#E8E8E8;\"><a href=\"/community/members/rlombardi75.654187/\" class=\"username\"><img src=\"styles/default/xenforo/avatars/avatar_s.png\" width=\"48\" height=\"48\"  border=\"0\" alt=\"Photo of Rlombardi75\"></a></div></div><div id=\"rating_fullview_content_2\"><span class=\"BAscore_norm\">4</span><span class=\"rAvg_norm\">/5</span>&nbsp;&nbsp;rDev <span style=\"color:#006600;\">+9.9%</span><br><br><div><span class=\"muted\"><a href=\"/community/members/rlombardi75.654187/\" class=\"username\">Rlombardi75</a>, <a href=\"/beer/profile/20776/69185/?ba=Rlombardi75#review\">Jan 27, 2012</a></span></div></div></div><div id=\"rating_fullview_container\" class=\"user-comment\" ba-user=\"92055\"><div id=\"rating_fullview_user\"><div style=\"padding:3px; background:#E8E8E8;\"><a href=\"/community/members/shadman.92055/\" class=\"username\"><img src=\"https://cdn.beeradvocate.com/data/avatars/s/92/92055.jpg?1337388790\" width=\"48\" height=\"48\"  border=\"0\" alt=\"Photo of Shadman\"></a></div></div><div id=\"rating_fullview_content_2\"><span class=\"BAscore_norm\">3.44</span><span class=\"rAvg_norm\">/5</span>&nbsp;&nbsp;rDev <span style=\"color:#990000;\">-5.5%</span><br><span class=\"muted\">look: 4.5 | smell: 3 | taste: 3.5 | feel: 3.5 |  overall: 3.5</span><br><br>Certainly scores some points for classy packaging...<br /><br />Very bright yellow amber color, lot\\'s of chill haze. Nice thick white faom head, decent retention, lot\\'s of spiderwebs of lace.<br /><br />No overpowering aroma standout. Faint grains, some citric/lemon and a slightly spicy, slightly floral note.<br /><br />Crisp grains and some solid citric hop bitterness. Again I felt lemon would best describe the bitterness. Some sweet fruitiness mixes in nicely toard the finish.<br /><br />For a 4.2% ABV it certainly had enouugh body to satisfy.<br /><br />A good thirst quencher. Would not be out of place in a ocal fish and chip type restaurant.<br><br><i class=\"fa fa-file-text-o\" aria-hidden=\"true\"></i>&nbsp;<span class=\"muted\">603 characters</span><br><br><div><span class=\"muted\"><a href=\"/community/members/shadman.92055/\" class=\"username\">Shadman</a>, <a href=\"/beer/profile/20776/69185/?ba=Shadman#review\">Jan 22, 2012</a></span></div></div></div><div id=\"rating_fullview_container\" class=\"user-comment\" ba-user=\"654951\"><div id=\"rating_fullview_user\"><div style=\"padding:3px; background:#E8E8E8;\"><a href=\"/community/members/galluch.654951/\" class=\"username\"><img src=\"styles/default/xenforo/avatars/avatar_s.png\" width=\"48\" height=\"48\"  border=\"0\" alt=\"Photo of galluch\"></a></div></div><div id=\"rating_fullview_content_2\"><span class=\"BAscore_norm\">4</span><span class=\"rAvg_norm\">/5</span>&nbsp;&nbsp;rDev <span style=\"color:#006600;\">+9.9%</span><br><br><div><span class=\"muted\"><a href=\"/community/members/galluch.654951/\" class=\"username\">galluch</a>, <a href=\"/beer/profile/20776/69185/?ba=galluch#review\">Jan 17, 2012</a></span></div></div></div><div id=\"rating_fullview_container\" class=\"user-comment\" ba-user=\"639972\"><div id=\"rating_fullview_user\"><div style=\"padding:3px; background:#E8E8E8;\"><a href=\"/community/members/kelvarnsen.639972/\" class=\"username\"><img src=\"styles/default/xenforo/avatars/avatar_s.png\" width=\"48\" height=\"48\"  border=\"0\" alt=\"Photo of kelvarnsen\"></a></div></div><div id=\"rating_fullview_content_2\"><span class=\"BAscore_norm\">3</span><span class=\"rAvg_norm\">/5</span>&nbsp;&nbsp;rDev <span style=\"color:#990000;\">-17.6%</span><br><br><div><span class=\"muted\"><a href=\"/community/members/kelvarnsen.639972/\" class=\"username\">kelvarnsen</a>, <a href=\"/beer/profile/20776/69185/?ba=kelvarnsen#review\">Jan 03, 2012</a></span></div></div></div><div id=\"rating_fullview_container\" class=\"user-comment\" ba-user=\"2335\"><div id=\"rating_fullview_user\"><div style=\"padding:3px; background:#E8E8E8;\"><a href=\"/community/members/phyl21ca.2335/\" class=\"username\"><img src=\"https://cdn.beeradvocate.com/data/avatars/s/2/2335.jpg?1330368410\" width=\"48\" height=\"48\"  border=\"0\" alt=\"Photo of Phyl21ca\"></a></div></div><div id=\"rating_fullview_content_2\"><span class=\"BAscore_norm\">3.17</span><span class=\"rAvg_norm\">/5</span>&nbsp;&nbsp;rDev <span style=\"color:#990000;\">-12.9%</span><br><span class=\"muted\">look: 3 | smell: 3.5 | taste: 3 | feel: 3.5 |  overall: 3</span><br><br>Bottle: Poured a clean golden color ale with a large foamy head with good retention and some light lacing. Aroma of medium sweet malt and some light floral undertones. Taste is a nice enough mix between some semi-sweet malt notes with some light floral notes. Clean cereal notes are pleasant but not earth shattering. Body is average with good carbonation. Quaffable and clean with limited complexity.<br><br><i class=\"fa fa-file-text-o\" aria-hidden=\"true\"></i>&nbsp;<span class=\"muted\">401 characters</span><br><br><div><span class=\"muted\"><a href=\"/community/members/phyl21ca.2335/\" class=\"username\">Phyl21ca</a>, <a href=\"/beer/profile/20776/69185/?ba=Phyl21ca#review\">Oct 26, 2011</a></span></div></div></div><div id=\"rating_fullview_container\" class=\"user-comment\" ba-user=\"393082\"><div id=\"rating_fullview_user\"><div style=\"padding:3px; background:#E8E8E8;\"><a href=\"/community/members/andrenaline.393082/\" class=\"username\"><img src=\"https://cdn.beeradvocate.com/data/avatars/s/393/393082.jpg?1331392668\" width=\"48\" height=\"48\"  border=\"0\" alt=\"Photo of andrenaline\"></a></div></div><div id=\"rating_fullview_content_2\"><span class=\"BAscore_norm\">3.7</span><span class=\"rAvg_norm\">/5</span>&nbsp;&nbsp;rDev <span style=\"color:#006600;\">+1.6%</span><br><span class=\"muted\">look: 4 | smell: 4 | taste: 3.5 | feel: 4 |  overall: 3.5</span><br><br>From notes: <br /><br />A - Pours a nice golden copper colour, finger of beige head with solid retention and some nice sticky lacing.<br /><br />S - Caramel notes dominate, slightly metallic, a touch of all spice and some pepper and earthy bark.<br /><br />T - The caramel notes continue to dominate though are a tad mild, some fruity citrus hop notes with caramel corn and some pepper and toffee on the finish.<br /><br />M - No complaints in this department, with a solid carbonation level and a touch of dryness on the finish.<br /><br />O - For the style, I was pleasantly surprised with some fitting flavours. Worth a try if you can get your hands on a bottle.<br><br><i class=\"fa fa-file-text-o\" aria-hidden=\"true\"></i>&nbsp;<span class=\"muted\">615 characters</span><br><br><div><span class=\"muted\"><a href=\"/community/members/andrenaline.393082/\" class=\"username\">andrenaline</a>, <a href=\"/beer/profile/20776/69185/?ba=andrenaline#review\">Sep 25, 2011</a></span></div></div></div><div id=\"rating_fullview_container\" class=\"user-comment\" ba-user=\"478775\"><div id=\"rating_fullview_user\"><div style=\"padding:3px; background:#E8E8E8;\"><a href=\"/community/members/spinrsx.478775/\" class=\"username\"><img src=\"https://cdn.beeradvocate.com/data/avatars/s/478/478775.jpg?1351180747\" width=\"48\" height=\"48\"  border=\"0\" alt=\"Photo of spinrsx\"></a></div></div><div id=\"rating_fullview_content_2\"><span class=\"BAscore_norm\">3.55</span><span class=\"rAvg_norm\">/5</span>&nbsp;&nbsp;rDev <span style=\"color:#990000;\">-2.5%</span><br><span class=\"muted\">look: 3.5 | smell: 3.5 | taste: 3.5 | feel: 4 |  overall: 3.5</span><br><br>500ml Bottle<br /><br />Appearance – Mostly clear copper/amber colour with an average size fizzy off white coloured head. There is an average amount of carbonation visible and there is a fairly good amount of lacing. The head lasted for around 5 minutes before it was gone.<br /><br />Smell - Malts, hops, caramel, tangerine/lemon<br /><br />Taste &amp; Mouth - The beer has an above average amount of carbonation and I can taste malts, caramel, and some dry hops. There is also a tiny bit of a citrus flavour - either tangerine or lemons. It finishes with a malty dry hop slightly bitter aftertaste.<br /><br />Overall – It is very similar to their bronze ale - but a little lighter and with a splash of citrus. A decent beer that is very drinkable and has a nice balanced taste. However it isn\\'t really anything memorable and for the price, I\\'d buy something else.<br><br><i class=\"fa fa-file-text-o\" aria-hidden=\"true\"></i>&nbsp;<span class=\"muted\">826 characters</span><br><br><div><span class=\"muted\"><a href=\"/community/members/spinrsx.478775/\" class=\"username\">spinrsx</a>, <a href=\"/beer/profile/20776/69185/?ba=spinrsx#review\">Sep 19, 2011</a></span></div></div></div><div id=\"rating_fullview_container\" class=\"user-comment\" ba-user=\"63653\"><div id=\"rating_fullview_user\"><div style=\"padding:3px; background:#E8E8E8;\"><a href=\"/community/members/shamus.63653/\" class=\"username\"><img src=\"https://cdn.beeradvocate.com/data/avatars/s/63/63653.jpg?1333475735\" width=\"48\" height=\"48\"  border=\"0\" alt=\"Photo of shamus\"></a></div></div><div id=\"rating_fullview_content_2\"><span class=\"BAscore_norm\">3.65</span><span class=\"rAvg_norm\">/5</span>&nbsp;&nbsp;rDev <span style=\"color:#006600;\">+0.3%</span><br><span class=\"muted\">look: 4 | smell: 4 | taste: 3.5 | feel: 3.5 |  overall: 3.5</span><br><br>I liked the typography on the label and it\\'s from Wales so I thought why not try it. It\\'s a nice golden colour as described on the label and has a misty lacy head. Smells of malt, almost whiskey-like as well as some butterscotch and faint cinnamon notes. Very mild taste with some of that butterscotch to it and very smooth. Not at all offensive but not a miracle in a bottle either.<br><br><i class=\"fa fa-file-text-o\" aria-hidden=\"true\"></i>&nbsp;<span class=\"muted\">383 characters</span><br><br><div><span class=\"muted\"><a href=\"/community/members/shamus.63653/\" class=\"username\">shamus</a>, <a href=\"/beer/profile/20776/69185/?ba=shamus#review\">Sep 13, 2011</a></span></div></div></div><div id=\"rating_fullview_container\" class=\"user-comment\" ba-user=\"560180\"><div id=\"rating_fullview_user\"><div style=\"padding:3px; background:#E8E8E8;\"><a href=\"/community/members/roke87.560180/\" class=\"username\"><img src=\"https://cdn.beeradvocate.com/data/avatars/s/560/560180.jpg?1333203059\" width=\"48\" height=\"48\"  border=\"0\" alt=\"Photo of Roke87\"></a></div></div><div id=\"rating_fullview_content_2\"><span class=\"BAscore_norm\">3.38</span><span class=\"rAvg_norm\">/5</span>&nbsp;&nbsp;rDev <span style=\"color:#990000;\">-7.1%</span><br><span class=\"muted\">look: 3.5 | smell: 3 | taste: 3.5 | feel: 3.5 |  overall: 3.5</span><br><br>500 mL bottle, chilled and poured into a pint glass. <br />Best Before: 09.12<br /><br />Appearance- Pours a light amber to dark golden colour that is mainly clear with a very slight murkiness to it. Average pour yields about a half a finger of white head that quickly resides to a very small bubbly top and bubbly ring around the glass, which leaves<br /><br />Smell- The aromas are not all that inviting to this one, starts off with some very mild earthy hops, bready malts, a touch of sweet honey, all in all a very “English” smell to it.<br /><br />Taste- Just like the aromas, nothing too special really going on here, the bready malt and cracker taste comes through on the forefront, mixed with the earthy hops, again a very mild touch of sweet honey. Even the tastes scream british ale.<br /><br />Mouthfeel- Light bodied with average carbonation, very low ABV almost goes down like a light beer with a mild touch of british craft brewing in there, finishes somewhat dry with lot of bready malt and earthy hop flavours.<br /><br />Overall- Very average, nothing special about this one what so ever. The smells are rather blah and they come through the same on the palate, to be honest I was not really impressed. Tastes a lot like any other adjunct lager that you can find here in North America with a bit more malt and hop presence than your average lager or ale. Would not pick this one up again and not really sure why it sold out so quick at the LCBO, minimal supply I’m guessing?<br><br><i class=\"fa fa-file-text-o\" aria-hidden=\"true\"></i>&nbsp;<span class=\"muted\">1,442 characters</span><br><br><div><span class=\"muted\"><a href=\"/community/members/roke87.560180/\" class=\"username\">Roke87</a>, <a href=\"/beer/profile/20776/69185/?ba=Roke87#review\">Sep 11, 2011</a></span></div></div></div><div id=\"rating_fullview_container\" class=\"user-comment\" ba-user=\"513175\"><div id=\"rating_fullview_user\"><div style=\"padding:3px; background:#E8E8E8;\"><a href=\"/community/members/hopsolutely.513175/\" class=\"username\"><img src=\"https://cdn.beeradvocate.com/data/avatars/s/513/513175.jpg?1332113121\" width=\"48\" height=\"48\"  border=\"0\" alt=\"Photo of hopsolutely\"></a></div></div><div id=\"rating_fullview_content_2\"><span class=\"BAscore_norm\">3.7</span><span class=\"rAvg_norm\">/5</span>&nbsp;&nbsp;rDev <span style=\"color:#006600;\">+1.6%</span><br><span class=\"muted\">look: 3.5 | smell: 3.5 | taste: 4 | feel: 3.5 |  overall: 3.5</span><br><br>A very pleasant surprise. <br /><br />Pale golden colour with amber highlights. Limited head, no lacing, but decent carbonation and pleasant mouthfeel. Aroma is light, but malty and grainy. The flavour is more complicated than I expected and would make this a decent session ale. Sweet maltiness with hints of tea and some nuttiness, followed by the bittering hops and a dry finish.<br /><br />Not personally my favourite style, but a nicely balanced, British-style low alcohol pint. Worth trying!<br><br><i class=\"fa fa-file-text-o\" aria-hidden=\"true\"></i>&nbsp;<span class=\"muted\">477 characters</span><br><br><div><span class=\"muted\"><a href=\"/community/members/hopsolutely.513175/\" class=\"username\">hopsolutely</a>, <a href=\"/beer/profile/20776/69185/?ba=hopsolutely#review\">Aug 01, 2011</a></span></div></div></div><div id=\"rating_fullview_container\" class=\"user-comment\" ba-user=\"351054\"><div id=\"rating_fullview_user\"><div style=\"padding:3px; background:#E8E8E8;\"><a href=\"/community/members/agentzero.351054/\" class=\"username\"><img src=\"https://cdn.beeradvocate.com/data/avatars/s/351/351054.jpg?1329943877\" width=\"48\" height=\"48\"  border=\"0\" alt=\"Photo of AgentZero\"></a></div></div><div id=\"rating_fullview_content_2\"><span class=\"BAscore_norm\">3.06</span><span class=\"rAvg_norm\">/5</span>&nbsp;&nbsp;rDev <span style=\"color:#990000;\">-15.9%</span><br><span class=\"muted\">look: 4 | smell: 3 | taste: 3 | feel: 3 |  overall: 3</span><br><br>Thanks to Alex for sharing this.<br /><br />A - Pale golden colored beer with a white head that had moderate retention and left some lace on the sides.<br /><br />S - Sweet, honey, pale malts, cracker, maybe some mild hops but not much.<br /><br />T - This reminds me a lot of Grainbelt Premium. Nothing offensive, but boring, sweet pale malts, not really anything going on.<br /><br />M - Crisp, carbonated, light.<br /><br />O - Easy drinking beer that is on the sweet side. Nothing that I really cared for very much, reminds me a lot of a macro brew.<br><br><i class=\"fa fa-file-text-o\" aria-hidden=\"true\"></i>&nbsp;<span class=\"muted\">503 characters</span><br><br><div><span class=\"muted\"><a href=\"/community/members/agentzero.351054/\" class=\"username\">AgentZero</a>, <a href=\"/beer/profile/20776/69185/?ba=AgentZero#review\">Jul 21, 2011</a></span></div></div></div><div id=\"rating_fullview_container\" class=\"user-comment\" ba-user=\"529507\"><div id=\"rating_fullview_user\"><div style=\"padding:3px; background:#E8E8E8;\"><a href=\"/community/members/bryehn.529507/\" class=\"username\"><img src=\"https://cdn.beeradvocate.com/data/avatars/s/529/529507.jpg?1331261403\" width=\"48\" height=\"48\"  border=\"0\" alt=\"Photo of bryehn\"></a></div></div><div id=\"rating_fullview_content_2\"><span class=\"BAscore_norm\">3.18</span><span class=\"rAvg_norm\">/5</span>&nbsp;&nbsp;rDev <span style=\"color:#990000;\">-12.6%</span><br><span class=\"muted\">look: 3.5 | smell: 3 | taste: 3 | feel: 3.5 |  overall: 3.5</span><br><br>Pours a golden honey colour with a small amber hue. A small, frothy head reduces to a collar after a few minutes leaving moderate lacing.<br /><br />Smells like light malts, honey, tea and ripened light fruit. Bit mild even after warming.<br /><br />Bitter and crisp with a peppery spiciness. Caramel sweetness on the tongue. Bit of baker\\'s chocolate comes through after warming.<br /><br />A bit thin, but with a malty backing and a creaminess from the everlasting collar. Goes dry on the back of the tongue, leaves a bit of resin-y after taste.<br /><br />Decent, but wholly forgettable English session ale. Well-balanced and keeps the fruit tones in check. Nice refresher but I won\\'t go out of my way for it again.<br><br><i class=\"fa fa-file-text-o\" aria-hidden=\"true\"></i>&nbsp;<span class=\"muted\">677 characters</span><br><br><div><span class=\"muted\"><a href=\"/community/members/bryehn.529507/\" class=\"username\">bryehn</a>, <a href=\"/beer/profile/20776/69185/?ba=bryehn#review\">Jul 19, 2011</a></span></div></div></div><div id=\"rating_fullview_container\" class=\"user-comment\" ba-user=\"379651\"><div id=\"rating_fullview_user\"><div style=\"padding:3px; background:#E8E8E8;\"><a href=\"/community/members/johnnybarman.379651/\" class=\"username\"><img src=\"https://cdn.beeradvocate.com/data/avatars/s/379/379651.jpg?1330205163\" width=\"48\" height=\"48\"  border=\"0\" alt=\"Photo of JohnnyBarman\"></a></div></div><div id=\"rating_fullview_content_2\"><span class=\"BAscore_norm\">3.7</span><span class=\"rAvg_norm\">/5</span>&nbsp;&nbsp;rDev <span style=\"color:#006600;\">+1.6%</span><br><span class=\"muted\">look: 3.5 | smell: 3.5 | taste: 4 | feel: 3.5 |  overall: 3.5</span><br><br>Single bottle from the LCBO, shared with a friend on a hot summer\\'s evening. <br /><br />Poured into a nonic. Has all the appearance of a standard English pale ale: light copper, little visible carbonation, slight murk, thin head with a thin ring. Not that visually striking, but about right for the style. <br /><br />Caramel, mild earthy hops, cracker, a bit of peat or bogmyrtle. <br /><br />Not a bad little English pale ale, pretty flavorful - all the usual notes of caramel, earthy hops, tea, as well as a bit of peat and pine. Unique, but I have to admit its not something I\\'d want to drink too much of. Thin, watery and with surprisingly strong carbonation. <br /><br />Worth trying, certainly enjoyable, but I\\'ll probably just have the one.<br><br><i class=\"fa fa-file-text-o\" aria-hidden=\"true\"></i>&nbsp;<span class=\"muted\">709 characters</span><br><br><div><span class=\"muted\"><a href=\"/community/members/johnnybarman.379651/\" class=\"username\">JohnnyBarman</a>, <a href=\"/beer/profile/20776/69185/?ba=JohnnyBarman#review\">Jul 08, 2011</a></span></div></div></div><div id=\"rating_fullview_container\" class=\"user-comment\" ba-user=\"3853\"><div id=\"rating_fullview_user\"><div style=\"padding:3px; background:#E8E8E8;\"><a href=\"/community/members/sammy.3853/\" class=\"username\"><img src=\"https://cdn.beeradvocate.com/data/avatars/s/3/3853.jpg?1330231900\" width=\"48\" height=\"48\"  border=\"0\" alt=\"Photo of Sammy\"></a></div></div><div id=\"rating_fullview_content_2\"><span class=\"BAscore_norm\">2.88</span><span class=\"rAvg_norm\">/5</span>&nbsp;&nbsp;rDev <span style=\"color:#990000;\">-20.9%</span><br><span class=\"muted\">look: 3.5 | smell: 3 | taste: 2.5 | feel: 3.5 |  overall: 3</span><br><br>A very ordinary beer, yellow to golden colour. Fast disapearing head. Neutral aroma, though a tad unpleasant. Average mouthfeel.Trace of hops, lots of malt. Drinkable, but not very. A lot of beer made the drain.Not a big fan, there are better blond beers in the U.K.<br><br><i class=\"fa fa-file-text-o\" aria-hidden=\"true\"></i>&nbsp;<span class=\"muted\">266 characters</span><br><br><div><span class=\"muted\"><a href=\"/community/members/sammy.3853/\" class=\"username\">Sammy</a>, <a href=\"/beer/profile/20776/69185/?ba=Sammy#review\">Jul 03, 2011</a></span></div></div></div><div id=\"rating_fullview_container\" class=\"user-comment\" ba-user=\"144865\"><div id=\"rating_fullview_user\"><div style=\"padding:3px; background:#E8E8E8;\"><a href=\"/community/members/cyrenaica.144865/\" class=\"username\"><img src=\"styles/default/xenforo/avatars/avatar_male_s.png\" width=\"48\" height=\"48\"  border=\"0\" alt=\"Photo of cyrenaica\"></a></div></div><div id=\"rating_fullview_content_2\"><span class=\"BAscore_norm\">3.92</span><span class=\"rAvg_norm\">/5</span>&nbsp;&nbsp;rDev <span style=\"color:#006600;\">+7.7%</span><br><span class=\"muted\">look: 3.5 | smell: 4 | taste: 4 | feel: 3.5 |  overall: 4</span><br><br>500ml bottle<br />4.2% ABV<br />I tried this beer on June 9, 2011 after purchasing from the Queen\\'s Quay LCBO outlet in Toronto, Ontario. The beer poured a slightly hazy golden red colour with a thin creamy off-white head. The aroma is bready malt, a hint of yeast, and citrusy hops. The mouthfeel is medium bodied with medium carbonation. The flavour is nicely balanced between the malty sweetness and the bitter hoppy finish. Very enjoyable.<br><br><i class=\"fa fa-file-text-o\" aria-hidden=\"true\"></i>&nbsp;<span class=\"muted\">433 characters</span><br><br><div><span class=\"muted\"><a href=\"/community/members/cyrenaica.144865/\" class=\"username\">cyrenaica</a>, <a href=\"/beer/profile/20776/69185/?ba=cyrenaica#review\">Jun 29, 2011</a></span></div></div></div><div id=\"rating_fullview_container\" class=\"user-comment\" ba-user=\"37285\"><div id=\"rating_fullview_user\"><div style=\"padding:3px; background:#E8E8E8;\"><a href=\"/community/members/biegaman.37285/\" class=\"username\"><img src=\"https://cdn.beeradvocate.com/data/avatars/s/37/37285.jpg?1373492696\" width=\"48\" height=\"48\"  border=\"0\" alt=\"Photo of biegaman\"></a></div></div><div id=\"rating_fullview_content_2\"><span class=\"BAscore_norm\">3.67</span><span class=\"rAvg_norm\">/5</span>&nbsp;&nbsp;rDev <span style=\"color:#006600;\">+0.8%</span><br><span class=\"muted\">look: 3 | smell: 3.5 | taste: 4 | feel: 3.5 |  overall: 3.5</span><br><br>Celt Golden sports the same colour and complexion as apple juice (and has barely more foam atop it). Its gleaming appearance is dulled only slightly by the faint fog that blurs its transparency and the beer still gives off a bellowing shine when held into the bright afternoon sky. Bubbles are constant but impotent; head won\\'t even form on swirling. <br /><br />We\\'ve all stepped foot into a friend\\'s place before and noticed their house to have a distinct smell - not necessarily a bad smell, but a definite smell. Beers are no different - different styles from different countries each have a unique \\'house\\' smell too. For many English ales, their smell is often identified as being bready and grainy with trace leafy hoppiness. <br /><br />Indeed, this bottled beer is a fair approximation of the kind of low-strength, high-character ales traditionally found on cask throughout the British Isles. The beer\\'s sweet, bready malts are wholesome and have a slight scratchy graininess to them. They taste as though they\\'ve been dolloped in citrusy, bubblegum-y hops, the kind that leave a dry, earthy finish.<br /><br />The hops\\' spicy bitterness is choked back enough to fly under the radar of those mainstream drinkers with easily overwhelmed palates but it, along with soft-pressed floral and fruity notes, rattles long enough into a gently-woven aftertaste that less casual drinkers should notice and appreciate it. Despite a low alcohol strength, it has a weighty body. Pleasant.<br /><br />In highly saturated markets like the U.K or North America, the best game to play depends what everyone else is up to. This new brewery could have imitated all the other obnoxious, ravenously-hopped ales out there but I think they were wise not to jump on that bandwagon and, instead, revive the wonderful world of mild, sessionable, characterful ales.<br><br><i class=\"fa fa-file-text-o\" aria-hidden=\"true\"></i>&nbsp;<span class=\"muted\">1,806 characters</span><br><br><div><span class=\"muted\"><a href=\"/community/members/biegaman.37285/\" class=\"username\">biegaman</a>, <a href=\"/beer/profile/20776/69185/?ba=biegaman#review\">Jun 29, 2011</a></span></div></div></div><div id=\"rating_fullview_container\" class=\"user-comment\" ba-user=\"113604\"><div id=\"rating_fullview_user\"><div style=\"padding:3px; background:#E8E8E8;\"><a href=\"/community/members/masterski.113604/\" class=\"username\"><img src=\"https://cdn.beeradvocate.com/data/avatars/s/113/113604.jpg?1329933249\" width=\"48\" height=\"48\"  border=\"0\" alt=\"Photo of MasterSki\"></a></div></div><div id=\"rating_fullview_content_2\"><span class=\"BAscore_norm\">3.72</span><span class=\"rAvg_norm\">/5</span>&nbsp;&nbsp;rDev <span style=\"color:#006600;\">+2.2%</span><br><span class=\"muted\">look: 3.5 | smell: 4 | taste: 3.5 | feel: 3.5 |  overall: 4</span><br><br>Wales, baby! Birthday gift from my aunt. Served in a Jester King tulip.<br /><br />A - A quick-dissolving white foam settles to a thick collar and partial cap. Transparent golden body.<br /><br />S - Floral hops, some herbs, touch of skunk, pine, faint citrus zest, honey and toasted malts, and fruity English Ale yeast.<br /><br />T - Taste is largely honey and bread, with some fruity yeast imparting apple and pear notes. A hint of grassy hop appears as well.<br /><br />M - Crisp carbonation, clean dry finish, and a slightly watery light body. Could use a bit more heft, but not too bad for the lower ABV.<br /><br />D - A largely palatable and inoffensive English Pale Ale. Would probably make a very good session ale on cask. I can think of far worse ways to get a Welsh tick.<br><br><i class=\"fa fa-file-text-o\" aria-hidden=\"true\"></i>&nbsp;<span class=\"muted\">733 characters</span><br><br><div><span class=\"muted\"><a href=\"/community/members/masterski.113604/\" class=\"username\">MasterSki</a>, <a href=\"/beer/profile/20776/69185/?ba=MasterSki#review\">Jun 16, 2011</a></span></div></div></div><div id=\"rating_fullview_container\" class=\"user-comment\" ba-user=\"417825\"><div id=\"rating_fullview_user\"><div style=\"padding:3px; background:#E8E8E8;\"><a href=\"/community/members/thesevenduffs.417825/\" class=\"username\"><img src=\"https://cdn.beeradvocate.com/data/avatars/s/417/417825.jpg?1359512566\" width=\"48\" height=\"48\"  border=\"0\" alt=\"Photo of TheSevenDuffs\"></a></div></div><div id=\"rating_fullview_content_2\"><span class=\"BAscore_norm\">3.7</span><span class=\"rAvg_norm\">/5</span>&nbsp;&nbsp;rDev <span style=\"color:#006600;\">+1.6%</span><br><span class=\"muted\">look: 3.5 | smell: 3.5 | taste: 4 | feel: 3.5 |  overall: 3.5</span><br><br>Poured in to pint glass. <br /><br />A - Light amber/straw colour with a small amount of foamy white head that slowly disappeared. <br /><br />S - Bready malts with a hint of caramel sweetness and a crisp hop presence. Light and refreshing nose.<br /><br />T - Bready malts with a nice crisp hop bite and a slight sweetness to balance it out. The hop bite becomes more and more noticeable as I continue to drink this one. Tastes more like a pale ale.<br /><br />M - Light to medium body. Moderate carbonation. <br /><br />O - A very enjoyable ale.<br><br><i class=\"fa fa-file-text-o\" aria-hidden=\"true\"></i>&nbsp;<span class=\"muted\">497 characters</span><br><br><div><span class=\"muted\"><a href=\"/community/members/thesevenduffs.417825/\" class=\"username\">TheSevenDuffs</a>, <a href=\"/beer/profile/20776/69185/?ba=TheSevenDuffs#review\">Jun 09, 2011</a></span></div></div></div><div id=\"rating_fullview_container\" class=\"user-comment\" ba-user=\"\"><div id=\"rating_fullview_user\"><div style=\"padding:3px; background:#E8E8E8;\"><a href=\"/community/members/./\" class=\"username\"><img src=\"\" width=\"48\" height=\"48\"  border=\"0\" alt=\"Photo of \"></a></div></div><div id=\"rating_fullview_content_2\"><span class=\"BAscore_norm\">3.58</span><span class=\"rAvg_norm\">/5</span>&nbsp;&nbsp;rDev <span style=\"color:#990000;\">-1.6%</span><br><span class=\"muted\">look: 4 | smell: 3.5 | taste: 3.5 | feel: 4 |  overall: 3.5</span><br><br>Appearance - Pours golden orange with a big frothy white head that receds fairly quickly leaving lots of lacing.<br /><br />Smell - brown bread, dusty and fruity English hops, orange.<br /><br />Mouthfeel - spiky carbonation, still smooth, crisp and refreshing.<br /><br />Taste - bread, honey, orange, and bitter hops, especially on the mineral-accented finish.<br><br><i class=\"fa fa-file-text-o\" aria-hidden=\"true\"></i>&nbsp;<span class=\"muted\">332 characters</span><br><br><div><span class=\"muted\"><a href=\"/community/members/./\" class=\"username\"></a>, <a href=\"/beer/profile/20776/69185/?ba=#review\">Jun 07, 2011</a></span></div></div></div><div id=\"rating_fullview_container\" class=\"user-comment\" ba-user=\"353337\"><div id=\"rating_fullview_user\"><div style=\"padding:3px; background:#E8E8E8;\"><a href=\"/community/members/liamt07.353337/\" class=\"username\"><img src=\"https://cdn.beeradvocate.com/data/avatars/s/353/353337.jpg?1390497075\" width=\"48\" height=\"48\"  border=\"0\" alt=\"Photo of liamt07\"></a></div></div><div id=\"rating_fullview_content_2\"><span class=\"BAscore_norm\">3.63</span><span class=\"rAvg_norm\">/5</span>&nbsp;&nbsp;rDev <span style=\"color:#990000;\">-0.3%</span><br><span class=\"muted\">look: 4 | smell: 3.5 | taste: 3.5 | feel: 3.5 |  overall: 4</span><br><br>Bottle from the LCBO. Best before September 2011, intoa tulip.<br /><br />Pours a pale golden orange, fluffy white head settles to some splotchy lace and decent layer of retention. Nose has a nice hoppiness, some citrus, orange, and some grassy/floral. Bready grains are prominent as well, and compliment nicely. Taste is bready and orangey, with an undefined citrus hop attack initially, before dividing into these two identifiable entities (bread and oranges) and yielding a significant bitterness. Some mild citrus is retatined throughout the bitterness which hangs around for a bit. Bitterness is amplified by the lighter body it seems. Low medium carbonation and a decent body. Quite drinkable and was nice on the scorcher of the day I enjoyed this on.<br><br><i class=\"fa fa-file-text-o\" aria-hidden=\"true\"></i>&nbsp;<span class=\"muted\">747 characters</span><br><br><div><span class=\"muted\"><a href=\"/community/members/liamt07.353337/\" class=\"username\">liamt07</a>, <a href=\"/beer/profile/20776/69185/?ba=liamt07#review\">Jun 05, 2011</a></span></div></div></div></div></div><!--/sse--><div style=\"font-size:1em; padding:4px; text-align:right; white-space:nowrap; overflow:hidden;\"><span style=\"font-weight:bold;\"><a href=\"/beer/profile/20776/69185/?view=beer&sort=&start=0\">first</a> &larr; <a href=\"/beer/profile/20776/69185/?view=beer&sort=&start=25\">prev</a>|<a href=\"/beer/profile/20776/69185/?view=beer&sort=&start=0\">&nbsp;1-25&nbsp;</a>|<a href=\"/beer/profile/20776/69185/?view=beer&sort=&start=25\">&nbsp;26-50&nbsp;</a>|<b>&nbsp;51-75&nbsp;</b>|<a href=\"/beer/profile/20776/69185/?view=beer&sort=&start=75\">&nbsp;76-100&nbsp;</a> | <a href=\"/beer/profile/20776/69185/?view=beer&sort=&start=75\">next</a> &rarr; <a href=\"/beer/profile/20776/69185/?view=beer&sort=&start=75\">last</a></span></div><!-- rating schema --><div style=\"color:#FFFFFF;\"><div itemscope itemtype=\"http://schema.org/Product\"><span itemprop=\"name\">Golden from The Celt Experience</span><div itemprop=\"aggregateRating\" itemscope itemtype=\"http://schema.org/AggregateRating\"><span itemprop=\"ratingValue\">3.64</span>out of <span itemprop=\"bestRating\">5</span>based on <span itemprop=\"ratingCount\">80</span> ratings.</div></div></div><style>@media only screen  and (max-width : 610px) {.break { float:none!important; width:100%!important; }.break { margin-top:20px; }.break:first-child { margin-top:0px; overflow:auto; padding-bottom:20px; }.break:first-child > div { width:50%; float:left; margin:0px!important; }.break:first-child > div:nth-child(2) { display:none; }.break:last-child > div:first-child { width:100%!important; }.break:last-child > div:nth-child(3) { width:100%!important; }}.slash a { text-decoration: line-through; }</style></div><!-- login form, to be moved to the upper drop-down --><form action=\"login/login\" method=\"post\" class=\"xenForm \" id=\"login\" style=\"display:none\"><div class=\"ctrlWrapper\"><dl class=\"ctrlUnit\"><dt><label for=\"LoginControl\">Your name or email address:</label></dt><dd><input type=\"text\" name=\"login\" id=\"LoginControl\" class=\"textCtrl\" tabindex=\"101\" /></dd></dl><dl class=\"ctrlUnit\"><dt><label for=\"ctrl_password\">Do you already have an account?</label></dt><dd><ul><li><label for=\"ctrl_not_registered\"><input type=\"radio\" name=\"register\" value=\"1\" id=\"ctrl_not_registered\" tabindex=\"105\" />No, create an account now.</label></li><li><label for=\"ctrl_registered\"><input type=\"radio\" name=\"register\" value=\"0\" id=\"ctrl_registered\" tabindex=\"105\" checked=\"checked\" class=\"Disabler\" />Yes, my password is:</label></li><li id=\"ctrl_registered_Disabler\"><input type=\"password\" name=\"password\" class=\"textCtrl\" id=\"ctrl_password\" tabindex=\"102\" /><div class=\"lostPassword\"><a href=\"lost-password/\" class=\"OverlayTrigger OverlayCloser\" tabindex=\"106\">Forgot your password?</a></div></li></ul></dd></dl><dl class=\"ctrlUnit submitUnit\"><dt></dt><dd><input type=\"submit\" class=\"button primary\" value=\"Log in\" tabindex=\"104\" data-loginPhrase=\"Log in\" data-signupPhrase=\"Sign up\" /><label for=\"ctrl_remember\" class=\"rememberPassword\"><input type=\"checkbox\" name=\"remember\" value=\"1\" id=\"ctrl_remember\" tabindex=\"103\" /> Stay logged in</label></dd></dl></div><input type=\"hidden\" name=\"cookie_check\" value=\"1\" /><input type=\"hidden\" name=\"redirect\" value=\"/beer/profile/20776/69185/?view=beer&amp;sort=&amp;start=50\" /><input type=\"hidden\" name=\"_xfToken\" value=\"\" /></form></div></div><!-- sidebar --><aside class=\"uix_mainSidebar\"><div class=\"inner_wrapper\"><div class=\"sidebar\"><div class=\"section funbox\"><div class=\" funboxWrapper\"><div id=\"537108848_sidebar1\" style=\"width:300px;height:250px;margin:0;padding:0\">  <noscript><iframe id=\"c498d2865e\" name=\"c498d2865e\" src=\"//beeradvocate-d.openx.net/w/1.0/afr?auid=537108848&cb=15010637440\" frameborder=\"0\" scrolling=\"no\" width=\"300\" height=\"250\"><a href=\"//beeradvocate-d.openx.net/w/1.0/rc?cs=c498d2865e&cb=15010637440\" ><img src=\"//beeradvocate-d.openx.net/w/1.0/ai?auid=537108848&cs=c498d2865e&cb=15010637440\" border=\"0\" alt=\"\"></a></iframe></noscript></div><script type=\"text/javascript\">  var OX_ads = OX_ads || [];  OX_ads.push({     slot_id: \"537108848_sidebar1\",     auid: \"537108848\"  });</script></div></div><div class=\"section\"><div class=\"secondaryContent\"><h3>Tools</h3><a href=\"login/\" class=\"navLink uix_dropdownDesktopMenu OverlayTrigger\" data-cacheOverlay=\"false\">Log In</a> or <a href=\"register/\">Sign Up</a> to report an update.</div></div><div class=\"section\"><div class=\"secondaryContent\"><h3>Shelf Talker</h3><form action=\"/beer/shelf_talker/\" method=\"post\" class=\"tb\" target=\"_blank\"><input type=\"hidden\" name=\"WR\" value=\"3.66\"><input type=\"hidden\" name=\"b\" value=\"69185\"><input type=\"submit\" name=\"submit\" value=\"Print Shelf Talker\" class=\"button primary\"></form></div></div><div class=\"section\"><div class=\"secondaryContent\"><h3>Other Beer Style Examples</h3><b><a href=\"/beer/style/154/\">English Pale Ale</a></b><br><br><a href=\"/beer/profile/655/1798/\">Boddingtons Pub Ale</a><br>Boddingtons<br><br><a href=\"/beer/profile/2210/5653/\">DBA (Double Barrel Ale)</a><br>Firestone Walker Brewing Co.<br><br><a href=\"/beer/profile/293/811/\">Bass Pale Ale</a><br>Bass Brewers Limited<br><br><a href=\"/beer/profile/71/222/\">Fuller\\'s London Pride</a><br>Fuller Smith & Turner PLC<br><br><a href=\"/beer/profile/35/1193/\">Samuel Adams Boston Ale (Stock Ale)</a><br>Boston Beer Company (Samuel Adams)<br><br><a href=\"/beer/profile/203/637/\">Old Speckled Hen</a><br>Greene King / Morland Brewery<br><br><a href=\"/beer/profile/45/32631/\">Brooklyn Summer Ale</a><br>Brooklyn Brewery<br><br><a href=\"/beer/profile/45/836/\">Brooklyn Pennant Ale \\'55</a><br>Brooklyn Brewery<br><br><a href=\"/beer/profile/141/186/\">Smuttynose Shoals Pale Ale</a><br>Smuttynose Brewing Company<br><br><a href=\"/beer/profile/158/159/\">Denver Pale Ale</a><br>Great Divide Brewing Company<br><br><a href=\"/beer/profile/467/1374/\">Summit Extra Pale Ale</a><br>Summit Brewing Company<br><br><a href=\"/beer/profile/1417/3824/\">Monty Python\\'s Holy Grail Ale</a><br>Black Sheep Brewery PLC<br><br><a href=\"/beer/profile/261/1439/\">Whale\\'s Tale Pale Ale</a><br>Cisco Brewers Inc.<br><br><a href=\"/beer/profile/113/575/\">Samuel Smith\\'s Old Brewery Pale Ale (Organic)</a><br>Samuel Smith Old Brewery (Tadcaster)<br><br><a href=\"/beer/profile/35/833/\">Samuel Adams Pale Ale</a><br>Boston Beer Company (Samuel Adams)<br><br><a href=\"/beer/style/154/\">View and learn more ...</a></div></div></div></div></aside></div><div class=\"breadBoxBottom\"><nav><fieldset class=\"breadcrumb\"><a href=\"misc/quick-navigation-menu\" class=\"OverlayTrigger jumpMenuTrigger\" data-cacheOverlay=\"true\" title=\"Open quick navigation\"><i class=\"uix_icon uix_icon-sitemap\"></i><!--Jump to...--></a><div class=\"boardTitle\"><strong>BeerAdvocate</strong></div><span class=\"crumbs\"><span class=\"crust homeCrumb\"><a href=\"/\" class=\"crumb\"><span><i class=\"uix_icon uix_icon-home\" title=\"Home\"></i><span class=\"uix_breadcrumb__home__title\">Home</span></span></a><span class=\"arrow\"><i class=\"uix_icon uix_icon-breadcrumbSeparator\"></i></span></span><span class=\"crust selectedTabCrumb\"><a href=\"/beer/\" class=\"crumb\"><span>Beers</span></a><span class=\"arrow\"><i class=\"uix_icon uix_icon-breadcrumbSeparator\"></i></span></span><span class=\"crust\"><a href=\"/beer/profile/20776/\" class=\"crumb\"><span>The Celt Experience</span></a><span class=\"arrow\"><i class=\"uix_icon uix_icon-breadcrumbSeparator\"></i></span></span></span></fieldset></nav></div></div></div></div></div><footer><div class=\"footer\"><div class=\"pageWidth\"><div class=\"pageContent\"><ul class=\"footerLinks\"><li><a href=\"https://www.beeradvocate.com\" class=\"homeLink\">Home</a></li><li><a href=\"https://www.beeradvocate.com/contact/\" >Contact Us</a></li><li><a href=\"forums/help-resources.32/\">Help</a></li><li><a href=\"https://www.beeradvocate.com/community/threads/terms-of-service.101118/\">Terms and Rules</a></li><li><a href=\"https://www.beeradvocate.com/community/threads/privacy-policy.393415/\">Privacy Policy</a></li><li class=\"topLink\"><a href=\"/beer/profile/20776/69185/?view=beer&amp;sort=&amp;start=50#XenForo\"><i class=\"uix_icon uix_icon-jumpToTop\"></i> <span class=\"uix_hide\">Top</span></a></li></ul><span class=\"helper\"></span></div></div></div><div id=\"uix_stickyFooterSpacer\"></div><div class=\"bigFooter\"><div class=\"pageWidth\"><div class=\"pageContent\"><ul class=\"bigFooterRow bigFooterRow--mainRow bigFooterRow--has4Columns\"><li class=\"bigFooterCol bigFooterCol--col1\"><div class=\"section\"><h3 class=\"bigFooterHeader\"><i class=\"uix_icon fa fa-question-circle\"></i>About Us</h3>Founded in Boston in 1996, BeerAdvocate (BA) is your go-to resource for beer powered by an independent community of enthusiasts and professionals dedicated to supporting and promoting better beer.<br><br><a class=\"callToAction\" href=\"https://www.beeradvocate.com/about/\"><span>Learn More</span></a></div></li><li class=\"bigFooterCol bigFooterCol--col2\"><div class=\"section\"><h3 class=\"bigFooterHeader\"><i class=\"uix_icon fa fa-group\"></i>Our Community</h3>Comprised of consumers and industry professionals, many of whom started as members of this site, our community is one of the oldest, largest, and most respected beer communities online.</div></li><li class=\"bigFooterCol bigFooterCol--col3\"><div class=\"section\"><h3 class=\"bigFooterHeader\"><i class=\"uix_icon fa fa-beer\"></i>Our Events</h3>Since 2003 we\\'ve hosted over 60 world-class beer festivals to bring awareness to independent brewers and educate attendees.</div></li><li class=\"bigFooterCol bigFooterCol--col4\"><div class=\"section\"><h3 class=\"bigFooterHeader\"><i class=\"uix_icon fa fa-book\"></i>Our Magazine</h3>Support uncompromising beer advocacy and award-winning, independent journalism with a print subscription to <i>BeerAdvocate</i> magazine.</div></li></ul></div></div></div><div class=\"footerLegal\"><div class=\"pageWidth\"><div class=\"pageContent\"><ul class=\"uix_socialMediaLinks\"><li class=\"uix_socialLink uix_socialLink--facebook\"><a href=\"https://www.facebook.com/beeradvocate/\" target=\"_blank\"><i class=\"uix_icon uix_icon-facebook\"></i></a></li>        <li class=\"uix_socialLink uix_socialLink--twitter\"><a href=\"https://twitter.com/BeerAdvocate\" target=\"_blank\"><i class=\"uix_icon uix_icon-twitter\"></i></a></li>        <li class=\"uix_socialLink uix_socialLink--youtube\"><a href=\"https://www.youtube.com/c/beeradvocate\" target=\"_blank\"><i class=\"uix_icon uix_icon-youtube\"></i></a></li>                                                <li class=\"uix_socialLink uix_socialLink--instagram\"><a href=\"https://www.instagram.com/beeradvocate/\" target=\"_blank\"><i class=\"uix_icon uix_icon-instagram\"></i></a></li>                                                                                    <li class=\"uix_socialLink uix_socialLink--contact\"><a href=\"https://www.beeradvocate.com/contact/\" ><i class=\"uix_icon uix_icon-email\"></i></a></li>        <!--ADD LIST ITEMS HERE -->        </ul><div id=\"copyright\">Copyright &copy; 1996-2017 BeerAdvocate&reg;. All rights reserved. Respect Beer&reg;.</div><span class=\"helper\"></span></div></div></div><div id=\"uix_jumpToFixed\"><a href=\"#content\" title=\"Top\" data-position=\"top\"><i class=\"uix_icon uix_icon-jumpToTop\"></i></a><a href=\"#content\" title=\"Bottom\" data-position=\"bottom\"><i class=\"uix_icon uix_icon-jumpToBottom\"></i></a></div></footer><script>jQuery.extend(true, XenForo,{visitor: { user_id: 0 },serverTimeInfo:{now: 1501063744,today: 1501023600,todayDow: 3},_lightBoxUniversal: \"0\",_enableOverlays: \"1\",_animationSpeedMultiplier: \"0.5\",_overlayConfig:{top: \"10%\",speed: 100,closeSpeed: 50,mask:{color: \"rgb(255, 255, 255)\",opacity: \"0.6\",loadSpeed: 100,closeSpeed: 50}},_ignoredUsers: [],_loadedScripts: {\"login_bar\":true,\"moderator_bar\":true,\"notices\":true,\"uix_extendedFooter\":true},_cookieConfig: { path: \"/\", domain: \"\", prefix: \"xf_\"},_csrfToken: \"\",_csrfRefreshUrl: \"login/csrf-token-refresh\",_jsVersion: \"830fbda5\",_noRtnProtect: false,_noSocialLogin: false});jQuery.extend(XenForo.phrases,{cancel: \"Cancel\",a_moment_ago:    \"A moment ago\",one_minute_ago:  \"1 minute ago\",x_minutes_ago:   \"%minutes% minutes ago\",today_at_x:      \"Today at %time%\",yesterday_at_x:  \"Yesterday at %time%\",day_x_at_time_y: \"%day% at %time%\",day0: \"Sunday\",day1: \"Monday\",day2: \"Tuesday\",day3: \"Wednesday\",day4: \"Thursday\",day5: \"Friday\",day6: \"Saturday\",_months: \"January,February,March,April,May,June,July,August,September,October,November,December\",_daysShort: \"Sun,Mon,Tue,Wed,Thu,Fri,Sat\",following_error_occurred: \"The following error occurred\",server_did_not_respond_in_time_try_again: \"The server did not respond in time. Please try again.\",logging_in: \"Logging in\",click_image_show_full_size_version: \"Click this image to show the full-size version.\",show_hidden_content_by_x: \"Show hidden content by {names}\"});// Facebook Javascript SDKXenForo.Facebook.appId = \"\";XenForo.Facebook.forceInit = false;</script></div> <div class=\"uix_wrapperFix\" style=\"height: 1px; margin-top: -1px;\"></div></div> </div> <script></script><script type=\"text/javascript\" src=\"//beeradvocate-d.openx.net/w/1.0/jstag\"></script><div class=\"breadcrumbMeta\"><nav><fieldset class=\"breadcrumb\"><a href=\"misc/quick-navigation-menu\" class=\"OverlayTrigger jumpMenuTrigger\" data-cacheOverlay=\"true\" title=\"Open quick navigation\"><i class=\"uix_icon uix_icon-sitemap\"></i><!--Jump to...--></a><div class=\"boardTitle\"><strong>BeerAdvocate</strong></div><span class=\"crumbs\"><span class=\"crust homeCrumb\"><a href=\"/\" class=\"crumb\"><span><i class=\"uix_icon uix_icon-home\" title=\"Home\"></i><span class=\"uix_breadcrumb__home__title\">Home</span></span></a><span class=\"arrow\"><i class=\"uix_icon uix_icon-breadcrumbSeparator\"></i></span></span><span class=\"crust selectedTabCrumb\"><a href=\"/beer/\" class=\"crumb\"><span>Beers</span></a><span class=\"arrow\"><i class=\"uix_icon uix_icon-breadcrumbSeparator\"></i></span></span><span class=\"crust\"><a href=\"/beer/profile/20776/\" class=\"crumb\"><span>The Celt Experience</span></a><span class=\"arrow\"><i class=\"uix_icon uix_icon-breadcrumbSeparator\"></i></span></span></span></fieldset></nav></div><!-- UI.X Version: 1.5.8.1_custom //--></body></html>'"
      ]
     },
     "execution_count": 307,
     "metadata": {},
     "output_type": "execute_result"
    }
   ],
   "source": [
    "html_txt"
   ]
  },
  {
   "cell_type": "code",
   "execution_count": 330,
   "metadata": {
    "collapsed": false
   },
   "outputs": [
    {
     "name": "stdout",
     "output_type": "stream",
     "text": [
      "Feb 12, 2012\n",
      "Feb 11, 2012\n",
      "Feb 06, 2012\n",
      "Jan 27, 2012\n",
      "Jan 22, 2012\n",
      "Oct 26, 2011\n",
      "Sep 25, 2011\n",
      "Sep 19, 2011\n",
      "Sep 13, 2011\n",
      "Sep 11, 2011\n",
      "Aug 01, 2011\n",
      "Jul 21, 2011\n",
      "Jul 19, 2011\n",
      "Jul 08, 2011\n",
      "Jul 03, 2011\n",
      "Jun 29, 2011\n",
      "Jun 29, 2011\n",
      "Jun 16, 2011\n",
      "Jun 09, 2011\n",
      "Jun 07, 2011\n",
      "Jun 05, 2011\n"
     ]
    }
   ],
   "source": [
    "str_ = 'alt=\"Photo of ([^<]*)\"></a></div></div><div id=\"rating_fullview_content_2\">'\\\n",
    "'<span class=\"BAscore_norm\">([^<]*)</span><span class=\"rAvg_norm\">/5</span>&nbsp;&nbsp;([^%]+?)%(?:</span>)?' \\\n",
    "'<br><span class=\"muted\">look: ([^<]*) \\| smell: ([^<]*) \\| taste: ([^<]*) \\| feel: ([^<]*) \\|  ' \\\n",
    "'overall: ([^<]*)</span><br><br>(.+?)<span class=\"muted\"><a href=\"/community/members/(.+?)/\" ' \\\n",
    "'class=\"username\">([^<]*)</a>, <a href=\"/beer/profile/(\\d+)/(\\d+)/\\?ba=([^<]*)\\#review\">([^<]+?)</a></span>'\n",
    "\n",
    "grp = re.finditer(str_, html_txt)\n",
    "\n",
    "for g in grp:\n",
    "    print(g.group(15))"
   ]
  },
  {
   "cell_type": "code",
   "execution_count": 97,
   "metadata": {
    "collapsed": false
   },
   "outputs": [
    {
     "data": {
      "text/plain": [
       "'../data/beers/297/825/0.html'"
      ]
     },
     "execution_count": 97,
     "metadata": {},
     "output_type": "execute_result"
    }
   ],
   "source": [
    "folder + file"
   ]
  },
  {
   "cell_type": "code",
   "execution_count": 335,
   "metadata": {
    "collapsed": false
   },
   "outputs": [
    {
     "data": {
      "text/plain": [
       "7341"
      ]
     },
     "execution_count": 335,
     "metadata": {},
     "output_type": "execute_result"
    }
   ],
   "source": [
    "df['nbr_reviews'].sum()"
   ]
  },
  {
   "cell_type": "code",
   "execution_count": 336,
   "metadata": {
    "collapsed": false
   },
   "outputs": [
    {
     "data": {
      "text/plain": [
       "16941"
      ]
     },
     "execution_count": 336,
     "metadata": {},
     "output_type": "execute_result"
    }
   ],
   "source": [
    "df['nbr_ratings'].sum()"
   ]
  },
  {
   "cell_type": "code",
   "execution_count": 337,
   "metadata": {
    "collapsed": true
   },
   "outputs": [],
   "source": [
    "def parse(filename):\n",
    "    \"\"\"\n",
    "    Parse a txt.gz file and return a generator for it\n",
    "\n",
    "    Copyright © 2017 Gael Lederrey <gael.lederrey@epfl.ch>\n",
    "\n",
    "    :param filename: name of the file\n",
    "    :return: Generator to go through the file\n",
    "    \"\"\"\n",
    "    file = gzip.open(filename, 'rb')\n",
    "    entry = {}\n",
    "    # Go through all the lines\n",
    "    for line in file:\n",
    "        # Transform the string-bytes into a string\n",
    "        line = line.decode(\"utf-8\").strip()\n",
    "\n",
    "        # We check for a colon in each line\n",
    "        colon_pos = line.find(\":\")\n",
    "        if colon_pos == -1:\n",
    "            # if no, we yield the entry\n",
    "            yield entry\n",
    "            entry = {}\n",
    "            continue\n",
    "        # otherwise, we add the key-value pair to the entry\n",
    "        key = line[:colon_pos]\n",
    "        value = line[colon_pos + 2:]\n",
    "        entry[key] = value"
   ]
  },
  {
   "cell_type": "code",
   "execution_count": 339,
   "metadata": {
    "collapsed": false
   },
   "outputs": [
    {
     "name": "stdout",
     "output_type": "stream",
     "text": [
      "7221\n"
     ]
    }
   ],
   "source": [
    "grp = parse('../data/parsed/reviews.txt.gz')\n",
    "i = 0\n",
    "for g in grp:\n",
    "    i+=1\n",
    "print(i)"
   ]
  },
  {
   "cell_type": "code",
   "execution_count": null,
   "metadata": {
    "collapsed": true
   },
   "outputs": [],
   "source": []
  }
 ],
 "metadata": {
  "kernelspec": {
   "display_name": "Python 3",
   "language": "python",
   "name": "python3"
  },
  "language_info": {
   "codemirror_mode": {
    "name": "ipython",
    "version": 3
   },
   "file_extension": ".py",
   "mimetype": "text/x-python",
   "name": "python",
   "nbconvert_exporter": "python",
   "pygments_lexer": "ipython3",
   "version": "3.6.0"
  }
 },
 "nbformat": 4,
 "nbformat_minor": 2
}
